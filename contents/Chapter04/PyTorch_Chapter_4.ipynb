{
  "nbformat": 4,
  "nbformat_minor": 0,
  "metadata": {
    "colab": {
      "provenance": []
    },
    "kernelspec": {
      "name": "python3",
      "display_name": "Python 3"
    },
    "language_info": {
      "name": "python"
    }
  },
  "cells": [
    {
      "cell_type": "code",
      "execution_count": 1,
      "metadata": {
        "colab": {
          "base_uri": "https://localhost:8080/"
        },
        "id": "rMDnkhnedvq9",
        "outputId": "9e20a2cc-5fd2-448b-d68b-572f7ccc388e"
      },
      "outputs": [
        {
          "output_type": "stream",
          "name": "stdout",
          "text": [
            "Batch 1\n",
            "Inputs: tensor([26., 88., 59., 58., 73., 11., 65.,  2., 84., 79.])\n",
            "Labels: tensor([ 51., 175., 117., 115., 145.,  21., 129.,   3., 167., 157.])\n"
          ]
        }
      ],
      "source": [
        "import torch\n",
        "from torch.utils.data import Dataset, DataLoader\n",
        "\n",
        "class CustomDataset(Dataset):\n",
        "    def __init__(self, x, y):\n",
        "        \"\"\"\n",
        "        Initialize the dataset with x and y values.\n",
        "        Arguments:\n",
        "        x (torch.Tensor): The input features.\n",
        "        y (torch.Tensor): The output labels.\n",
        "        \"\"\"\n",
        "        self.x = x\n",
        "        self.y = y\n",
        "\n",
        "    def __len__(self):\n",
        "        \"\"\"\n",
        "        Return the total number of samples in the dataset.\n",
        "        \"\"\"\n",
        "        return len(self.x)\n",
        "\n",
        "    def __getitem__(self, idx):\n",
        "        \"\"\"\n",
        "        Fetch the sample at index `idx` from the dataset.\n",
        "        Arguments:\n",
        "        idx (int): The index of the sample to retrieve.\n",
        "        \"\"\"\n",
        "        return self.x[idx], self.y[idx]\n",
        "\n",
        "# Generate synthetic data\n",
        "torch.manual_seed(0)  # For reproducibility\n",
        "x = torch.arange(0, 100, dtype=torch.float32)\n",
        "y = 2 * x - 1\n",
        "\n",
        "# Create an instance of CustomDataset\n",
        "dataset = CustomDataset(x, y)\n",
        "\n",
        "# Use DataLoader to handle batching and shuffling\n",
        "data_loader = DataLoader(dataset, batch_size=10, shuffle=True)\n",
        "\n",
        "# Iterate over the DataLoader\n",
        "for batch_idx, (inputs, labels) in enumerate(data_loader):\n",
        "    print(f\"Batch {batch_idx+1}\")\n",
        "    print(\"Inputs:\", inputs)\n",
        "    print(\"Labels:\", labels)\n",
        "    # Break after the first batch for demonstration\n",
        "    if batch_idx == 0:\n",
        "        break\n"
      ]
    }
  ]
}