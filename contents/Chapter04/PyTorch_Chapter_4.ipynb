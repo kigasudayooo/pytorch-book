{
  "cells": [
    {
      "cell_type": "code",
      "execution_count": null,
      "metadata": {
        "colab": {
          "base_uri": "https://localhost:8080/"
        },
        "id": "rMDnkhnedvq9",
        "outputId": "9e20a2cc-5fd2-448b-d68b-572f7ccc388e"
      },
      "outputs": [
        {
          "name": "stdout",
          "output_type": "stream",
          "text": [
            "Batch 1\n",
            "Inputs: tensor([26., 88., 59., 58., 73., 11., 65.,  2., 84., 79.])\n",
            "Labels: tensor([ 51., 175., 117., 115., 145.,  21., 129.,   3., 167., 157.])\n"
          ]
        }
      ],
      "source": [
        "import torch\n",
        "from torch.utils.data import Dataset, DataLoader\n",
        "\n",
        "\n",
        "class CustomDataset(Dataset):\n",
        "    def __init__(self, x, y):\n",
        "        \"\"\"\n",
        "        Initialize the dataset with x and y values.\n",
        "        Arguments:\n",
        "        x (torch.Tensor): The input features.\n",
        "        y (torch.Tensor): The output labels.\n",
        "        \"\"\"\n",
        "        self.x = x\n",
        "        self.y = y\n",
        "\n",
        "    def __len__(self):\n",
        "        \"\"\"\n",
        "        Return the total number of samples in the dataset.\n",
        "        \"\"\"\n",
        "        return len(self.x)\n",
        "\n",
        "    def __getitem__(self, idx):\n",
        "        \"\"\"\n",
        "        Fetch the sample at index `idx` from the dataset.\n",
        "        Arguments:\n",
        "        idx (int): The index of the sample to retrieve.\n",
        "        \"\"\"\n",
        "        return self.x[idx], self.y[idx]\n",
        "\n",
        "\n",
        "# Generate synthetic data\n",
        "torch.manual_seed(0)  # For reproducibility\n",
        "x = torch.arange(0, 100, dtype=torch.float32)\n",
        "y = 2 * x - 1\n",
        "\n",
        "# Create an instance of CustomDataset\n",
        "dataset = CustomDataset(x, y)\n",
        "\n",
        "# Use DataLoader to handle batching and shuffling\n",
        "data_loader = DataLoader(dataset, batch_size=10, shuffle=True)\n",
        "\n",
        "# Iterate over the DataLoader\n",
        "for batch_idx, (inputs, labels) in enumerate(data_loader):\n",
        "    print(f\"Batch {batch_idx + 1}\")\n",
        "    print(\"Inputs:\", inputs)\n",
        "    print(\"Labels:\", labels)\n",
        "    # Break after the first batch for demonstration\n",
        "    if batch_idx == 0:\n",
        "        break\n"
      ]
    },
    {
      "cell_type": "code",
      "execution_count": null,
      "metadata": {},
      "outputs": [
        {
          "name": "stdout",
          "output_type": "stream",
          "text": [
            "__len__ called! Returning 20\n",
            "__len__ called! Returning 20\n",
            "Creating iterator...\n",
            "\n",
            "Getting first batch...\n",
            "__len__ called! Returning 20\n",
            "__len__ called! Returning 20\n",
            "__getitem__ called with idx=12\n",
            "__getitem__ called with idx=1\n",
            "__getitem__ called with idx=13\n"
          ]
        }
      ],
      "source": [
        "class DebugDataset(Dataset):\n",
        "    def __init__(self, size=20):\n",
        "        self.data = torch.arange(size, dtype=torch.float32)\n",
        "\n",
        "    def __len__(self):\n",
        "        print(f\"__len__ called! Returning {len(self.data)}\")\n",
        "        return len(self.data)\n",
        "\n",
        "    def __getitem__(self, idx):\n",
        "        print(f\"__getitem__ called with idx={idx}\")\n",
        "        return self.data[idx], self.data[idx] * 2\n",
        "\n",
        "\n",
        "# 実行してみる\n",
        "debug_dataset = DebugDataset(size=20)\n",
        "debug_loader = DataLoader(debug_dataset, batch_size=3, shuffle=True)\n",
        "\n",
        "print(\"Creating iterator...\")\n",
        "data_iter = iter(debug_loader)\n",
        "\n",
        "print(\"\\nGetting first batch...\")\n",
        "batch = next(data_iter)"
      ]
    },
    {
      "cell_type": "code",
      "execution_count": null,
      "metadata": {},
      "outputs": [],
      "source": []
    }
  ],
  "metadata": {
    "colab": {
      "provenance": []
    },
    "kernelspec": {
      "display_name": "pytorch-book",
      "language": "python",
      "name": "python3"
    },
    "language_info": {
      "codemirror_mode": {
        "name": "ipython",
        "version": 3
      },
      "file_extension": ".py",
      "mimetype": "text/x-python",
      "name": "python",
      "nbconvert_exporter": "python",
      "pygments_lexer": "ipython3",
      "version": "3.13.2"
    }
  },
  "nbformat": 4,
  "nbformat_minor": 0
}
