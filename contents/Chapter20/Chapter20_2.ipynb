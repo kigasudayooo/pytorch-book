{
  "cells": [
    {
      "cell_type": "code",
      "execution_count": null,
      "metadata": {
        "id": "GT9pzKW4LVTl"
      },
      "outputs": [],
      "source": [
        "!pip install xformers"
      ]
    },
    {
      "cell_type": "code",
      "execution_count": null,
      "metadata": {
        "id": "ngASMWH7Jq_P"
      },
      "outputs": [],
      "source": [
        "!git clone https://github.com/huggingface/diffusers\n",
        "%cd diffusers\n",
        "!pip install ."
      ]
    },
    {
      "cell_type": "code",
      "execution_count": null,
      "metadata": {
        "id": "9z4ccjWPKBcl"
      },
      "outputs": [],
      "source": [
        "%cd /content/diffusers/examples/text_to_image\n",
        "!pip install -r requirements.txt"
      ]
    },
    {
      "cell_type": "code",
      "execution_count": null,
      "metadata": {
        "id": "4RvirVGdKYnS"
      },
      "outputs": [],
      "source": [
        "from accelerate.utils import write_basic_config\n",
        "\n",
        "write_basic_config()"
      ]
    },
    {
      "cell_type": "code",
      "execution_count": null,
      "metadata": {
        "id": "RZ_0Ts-qLAEO"
      },
      "outputs": [],
      "source": [
        "from huggingface_hub import HfFolder\n",
        "HfFolder.save_token('TOKEN GOES HERE')"
      ]
    },
    {
      "cell_type": "code",
      "execution_count": null,
      "metadata": {
        "id": "YWyNDolHKge2"
      },
      "outputs": [],
      "source": [
        "MODEL_NAME=\"stabilityai/stable-diffusion-2\"\n",
        "dataset_name=\"lmoroney/misato\"\n",
        "\n",
        "!accelerate launch --mixed_precision=\"fp16\"  train_text_to_image.py \\\n",
        "  --pretrained_model_name_or_path=$MODEL_NAME \\\n",
        "  --dataset_name=$dataset_name \\\n",
        "  --image_column=\"image\" \\\n",
        "  --caption_column=\"prompt\" \\\n",
        "  --use_ema \\\n",
        "  --resolution=512 --center_crop --random_flip \\\n",
        "  --train_batch_size=2 \\\n",
        "  --gradient_accumulation_steps=4 \\\n",
        "  --gradient_checkpointing \\\n",
        "  --max_train_steps=50000 \\\n",
        "  --learning_rate=1e-05 \\\n",
        "  --max_grad_norm=1 \\\n",
        "  --enable_xformers_memory_efficient_attention \\\n",
        "  --lr_scheduler=\"constant\" --lr_warmup_steps=0 \\\n",
        "  --output_dir=\"/content/lm-misato-model\" \\\n",
        "  --checkpointing_steps=2500"
      ]
    },
    {
      "cell_type": "code",
      "execution_count": null,
      "metadata": {
        "id": "fJnxDXcQcbxK"
      },
      "outputs": [],
      "source": [
        "import torch\n",
        "from diffusers import StableDiffusionPipeline\n",
        "\n",
        "model_path = \"/content/lm-misato-model\"\n",
        "pipe = StableDiffusionPipeline.from_pretrained(model_path, torch_dtype=torch.float16)\n",
        "pipe.to(\"cuda\")\n",
        "\n",
        "image = pipe(prompt=\"a detailed photograph of <lora-misato-token> wearing a tiger outfit\").images[0]\n",
        "image.save(\"/content/yoda-naruto.png\")"
      ]
    },
    {
      "cell_type": "code",
      "execution_count": null,
      "metadata": {
        "id": "fVvXZgxKdLn7"
      },
      "outputs": [],
      "source": [
        "!zip -r /content/my_directory.zip /content/lm-misato-lora"
      ]
    },
    {
      "cell_type": "code",
      "execution_count": null,
      "metadata": {
        "id": "VRFLiHJmeCMZ"
      },
      "outputs": [],
      "source": [
        "!accelerate launch train_text_to_image_lora.py \\\n",
        "  --pretrained_model_name_or_path=\"stabilityai/stable-diffusion-2\" \\\n",
        "  --dataset_name=\"lmoroney/misato\" \\\n",
        "  --caption_column=\"prompt\" \\\n",
        "  --resolution=512 \\\n",
        "  --random_flip \\\n",
        "  --train_batch_size=1 \\\n",
        "  --num_train_epochs=1000 \\\n",
        "  --checkpointing_steps=5000 \\\n",
        "  --learning_rate=1e-04 \\\n",
        "  --lr_scheduler=\"constant\" \\\n",
        "  --lr_warmup_steps=0 \\\n",
        "  --seed=42 \\\n",
        "  --output_dir=\"/content/lm-misato-lora\" \\\n",
        "  --validation_prompt=\"a picture of <lm-misato-lora> on the moon\""
      ]
    },
    {
      "cell_type": "code",
      "execution_count": null,
      "metadata": {
        "colab": {
          "background_save": true
        },
        "id": "TuP9opq8f3G9"
      },
      "outputs": [],
      "source": [
        "from diffusers import StableDiffusionPipeline, DPMSolverMultistepScheduler\n",
        "import torch\n",
        "\n",
        "pipe = StableDiffusionPipeline.from_pretrained(\n",
        "    \"stabilityai/stable-diffusion-2\",\n",
        "    torch_dtype=torch.float16\n",
        ")\n",
        "pipe.scheduler = DPMSolverMultistepScheduler.from_config(pipe.scheduler.config)\n",
        "pipe.load_lora_weights(\"/content/lm-misato-lora\")\n",
        "pipe.to(\"cuda\")\n",
        "\n",
        "prompt = \"fashion editorial, a portrait of <lm-misato-lora> in water drops, wet hair and skeen, mystical gaze, highres, realistic photo, professional photography, cinematic angle, dynamic light back shining,\"\n",
        "prompt = \"black and white photography in style by Bruce Davidson, fashion editorial, <lm-misato-lora> of long exposure photography through artistic lens,  highres, realistic photo, professional photography, cinematic angle, dynamic light back shining, bokeh,\"\n",
        "image = pipe(prompt, num_inference_steps=30).images[0]\n",
        "image.save(\"/content/output.png\")"
      ]
    },
    {
      "cell_type": "code",
      "execution_count": null,
      "metadata": {
        "colab": {
          "background_save": true
        },
        "id": "ID73Fumoyb3F"
      },
      "outputs": [],
      "source": [
        "from diffusers import StableDiffusionPipeline, EulerDiscreteScheduler\n",
        "import torch\n",
        "model_id = \"stabilityai/stable-diffusion-2\"\n",
        "\n",
        "device = \"cuda\" if torch.cuda.is_available() else \"cpu\"\n",
        "# Use the Euler scheduler here instead\n",
        "scheduler = EulerDiscreteScheduler.from_pretrained(\n",
        "    model_id, subfolder=\"scheduler\")\n",
        "pipe = StableDiffusionPipeline.from_pretrained(\n",
        "    model_id, scheduler=scheduler, torch_dtype=torch.float16)\n",
        "pipe.load_lora_weights(\"/content/lm-misato-lora\")\n",
        "pipe = pipe.to(device)\n",
        "\n",
        "prompt = \"fashion editorial, a portrait of <lm-misato-lora> in studio red and blue lights in style Alain Laboile, shiny eyes, highres, realistic photo, professional photography, cinematic angle, dynamic light back shining,\"\n",
        "negative_prompt = \"(deformed, distorted, disfigured:1.3) , poorly drawn, bad anatomy, wrong anatomy, extra limb, missing limb, floating limbs, (mutated hands and fingers:1.4) , disconnected limbs, mutation, mutated, ugly, disgusting, blurry, amputation\"\n",
        "steps = 50\n",
        "scale = 9\n",
        "num_images_per_prompt = 1\n",
        "seed = 42\n",
        "generator = torch.Generator(device=device).manual_seed(seed)\n",
        "image = pipe(prompt, negative_prompt=negative_prompt, width=768, height=1344, num_inference_steps=steps,\n",
        "             guidance_scale=scale, num_images_per_prompt=num_images_per_prompt, generator=generator).images[0]\n",
        "\n",
        "image.save(\"/content/lora-with-negative.png\")"
      ]
    }
  ],
  "metadata": {
    "accelerator": "GPU",
    "colab": {
      "gpuType": "A100",
      "machine_shape": "hm",
      "provenance": []
    },
    "kernelspec": {
      "display_name": "Python 3",
      "name": "python3"
    },
    "language_info": {
      "name": "python"
    }
  },
  "nbformat": 4,
  "nbformat_minor": 0
}
