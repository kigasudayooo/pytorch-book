{
  "nbformat": 4,
  "nbformat_minor": 0,
  "metadata": {
    "colab": {
      "provenance": [],
      "machine_shape": "hm",
      "gpuType": "L4"
    },
    "kernelspec": {
      "name": "python3",
      "display_name": "Python 3"
    },
    "language_info": {
      "name": "python"
    },
    "accelerator": "GPU"
  },
  "cells": [
    {
      "cell_type": "code",
      "execution_count": null,
      "metadata": {
        "id": "CPRPhUYIj_Qm"
      },
      "outputs": [],
      "source": [
        "from diffusers import StableDiffusionPipeline, EulerDiscreteScheduler\n",
        "import torch\n",
        "model_id = \"stabilityai/stable-diffusion-2\"\n",
        "\n",
        "device = \"cuda\" if torch.cuda.is_available() else \"cpu\"\n",
        "scheduler = EulerDiscreteScheduler.from_pretrained(\n",
        "    model_id, subfolder=\"scheduler\")\n",
        "pipe = StableDiffusionPipeline.from_pretrained(\n",
        "    model_id, scheduler=scheduler)\n",
        "pipe.load_lora_weights(\"lmoroney/finetuned-misato-sd2\")\n",
        "pipe = pipe.to(device)\n",
        "\n",
        "prompt = \"fashion editorial, shy smile portrait of <lm-misato-lora> in studio red and blue lights in style Alain Laboile, shiny eyes, highres, realistic photo, professional photography, cinematic angle, dynamic light back shining,\"\n",
        "negative_prompt = \"(deformed, distorted, disfigured:1.3) , poorly drawn, bad anatomy, wrong anatomy, extra limb, missing limb, floating limbs, (mutated hands and fingers:1.4) , disconnected limbs, mutation, mutated, ugly, disgusting, blurry, amputation\"\n",
        "steps = 50\n",
        "scale = 9\n",
        "num_images_per_prompt = 1\n",
        "seed = 123\n",
        "generator = torch.Generator(device=device).manual_seed(seed)\n",
        "image = pipe(prompt, negative_prompt=negative_prompt, width=512, height=512, num_inference_steps=steps,\n",
        "             guidance_scale=scale, num_images_per_prompt=num_images_per_prompt, generator=generator).images[0]\n",
        "\n",
        "image.save(\"/content/lora-with-negative.png\")"
      ]
    },
    {
      "cell_type": "code",
      "source": [
        "import torch\n",
        "from diffusers import (\n",
        "    StableDiffusionPipeline,\n",
        "    EulerAncestralDiscreteScheduler,  # or DPMSolverMultistepScheduler\n",
        ")\n",
        "\n",
        "model_id = \"stabilityai/stable-diffusion-2\"\n",
        "\n",
        "# Choose your device\n",
        "device = \"cuda\" if torch.cuda.is_available() else \"cpu\"\n",
        "\n",
        "# 1. Pick your scheduler\n",
        "scheduler = EulerAncestralDiscreteScheduler.from_pretrained(\n",
        "    model_id,\n",
        "    subfolder=\"scheduler\"\n",
        ")\n",
        "\n",
        "# For DPMSolver, use:\n",
        "#from diffusers import DPMSolverMultistepScheduler\n",
        "#scheduler = DPMSolverMultistepScheduler.from_pretrained(model_id, subfolder=\"scheduler\", algorithm_type=\"dpmsolver++\")\n",
        "\n",
        "# 2. Load the pipeline with the chosen scheduler\n",
        "pipe = StableDiffusionPipeline.from_pretrained(\n",
        "    model_id,\n",
        "    scheduler=scheduler,\n",
        "    torch_dtype=torch.float16 if device == \"cuda\" else torch.float32\n",
        ").to(device)\n",
        "\n",
        "# 3. (Optional) Load LoRA weights\n",
        "pipe.load_lora_weights(\"lmoroney/finetuned-misato-sd2\")\n",
        "\n",
        "# 4. Define prompts and parameters\n",
        "prompt = (\n",
        "    \"Fashion editorial portrait of <lm-misato-lora>, high tech sunglasses, cinematic lighting by Alain Laboile, backlit, shy yet confident expression, lens flares, high-end DSLR at f/1.8, hyperdetailed eyes, professional retouching, 8k, shallow depth of field, volumetric lighting, cinematic angle, dynamic composition\"\n",
        ")\n",
        "negative_prompt = (\n",
        "    \"low quality, grainy, text watermark, cartoonish, (deformed, distorted, disfigured:1.3), poorly drawn, bad anatomy, wrong anatomy, \"\n",
        "    \"extra limb, missing limb, floating limbs, (mutated hands and fingers:1.4), \"\n",
        "    \"disconnected limbs, mutation, mutated, ugly, disgusting, blurry, amputation\"\n",
        ")\n",
        "\n",
        "num_inference_steps = 30\n",
        "guidance_scale = 8.0\n",
        "width = 512\n",
        "height = 512\n",
        "seed = 12345\n",
        "\n",
        "# 5. Create a generator for reproducible results\n",
        "generator = torch.Generator(device=device).manual_seed(seed)\n",
        "\n",
        "# 6. Run the pipeline\n",
        "image = pipe(\n",
        "    prompt,\n",
        "    negative_prompt=negative_prompt,\n",
        "    width=width,\n",
        "    height=height,\n",
        "    num_inference_steps=num_inference_steps,\n",
        "    guidance_scale=guidance_scale,\n",
        "    generator=generator,\n",
        ").images[0]\n",
        "\n",
        "# 7. Save the result\n",
        "image.save(\"lora-with-negative.png\")\n"
      ],
      "metadata": {
        "id": "iNSMyiDn--NA"
      },
      "execution_count": null,
      "outputs": []
    }
  ]
}