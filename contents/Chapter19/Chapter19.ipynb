{
  "nbformat": 4,
  "nbformat_minor": 0,
  "metadata": {
    "colab": {
      "provenance": [],
      "machine_shape": "hm",
      "gpuType": "L4"
    },
    "kernelspec": {
      "name": "python3",
      "display_name": "Python 3"
    },
    "language_info": {
      "name": "python"
    },
    "accelerator": "GPU"
  },
  "cells": [
    {
      "cell_type": "code",
      "source": [
        "# Install Diffusers\n",
        "pip install -U diffusers\n"
      ],
      "metadata": {
        "id": "XQ8n9xryXznQ"
      },
      "execution_count": null,
      "outputs": []
    },
    {
      "cell_type": "code",
      "execution_count": null,
      "metadata": {
        "id": "Qi2x5zALWx6_"
      },
      "outputs": [],
      "source": [
        "# Basic text-to-Image using SD3\n",
        "import torch\n",
        "from diffusers import StableDiffusion3Pipeline\n",
        "\n",
        "# Set your seed value\n",
        "seed = 123456  # You can use any integer value you want\n",
        "\n",
        "# Create a generator with the seed\n",
        "generator = torch.Generator(\"cuda\").manual_seed(seed)\n",
        "\n",
        "pipe = StableDiffusion3Pipeline.from_pretrained(\"stabilityai/stable-diffusion-3.5-medium\", torch_dtype=torch.bfloat16)\n",
        "pipe = pipe.to(\"cuda\")\n",
        "image = pipe(\n",
        "    \"A photo of a group of teddy bears eating pizza on the surface of mars\",\n",
        "    negative_prompt=\"pepperoni\",\n",
        "    num_inference_steps=40,\n",
        "    generator=generator  # Add the generator here\n",
        ").images\n",
        "image[0].save(\"teddies.png\")"
      ]
    },
    {
      "cell_type": "code",
      "source": [
        "# Basic Image to Image using SD3\n",
        "import torch\n",
        "from diffusers import StableDiffusion3Img2ImgPipeline\n",
        "from PIL import Image\n",
        "\n",
        "# Set your seed value\n",
        "seed = 123456\n",
        "\n",
        "# Create a generator with the seed\n",
        "generator = torch.Generator(\"cuda\").manual_seed(seed)\n",
        "\n",
        "# Load the model\n",
        "pipe = StableDiffusion3Img2ImgPipeline.from_pretrained(\"stabilityai/stable-diffusion-3.5-medium\", torch_dtype=torch.bfloat16)\n",
        "pipe = pipe.to(\"cuda\")\n",
        "\n",
        "# Load and preprocess the initial image\n",
        "init_image = Image.open(\"puppy1.jpg\").convert(\"RGB\")\n",
        "\n",
        "# Generate the image\n",
        "image = pipe(\n",
        "    prompt=\"An highly detailed photograph of a baby dragon\",\n",
        "    image=init_image,\n",
        "    strength=0.4,\n",
        "    num_inference_steps=100,\n",
        "    generator=generator\n",
        ").images\n",
        "\n",
        "image[0].save(\"dragon2.png\")"
      ],
      "metadata": {
        "id": "m1QokRYz9c22"
      },
      "execution_count": null,
      "outputs": []
    },
    {
      "cell_type": "code",
      "source": [
        "# Basic Inpainting using SD3\n",
        "import torch\n",
        "from diffusers import StableDiffusion3InpaintPipeline\n",
        "from PIL import Image\n",
        "import numpy as np\n",
        "\n",
        "# Load the inpainting pipeline\n",
        "pipe = StableDiffusion3InpaintPipeline.from_pretrained(\n",
        "    \"stabilityai/stable-diffusion-3.5-medium\",\n",
        "    torch_dtype=torch.bfloat16\n",
        ")\n",
        "pipe = pipe.to(\"cuda\")\n",
        "\n",
        "# Set seed for reproducibility\n",
        "generator = torch.Generator(\"cuda\").manual_seed(42)\n",
        "\n",
        "# Load the original image and mask\n",
        "original_image = Image.open(\"puppy.jpg\").convert(\"RGB\")\n",
        "mask_image = Image.open(\"puppymask.png\").convert(\"L\")  # Mask should be black and white\n",
        "\n",
        "# Generate the inpainted image\n",
        "image = pipe(\n",
        "    prompt=\"on the surface of the moon\",\n",
        "    image=original_image,\n",
        "    mask_image=mask_image,\n",
        "    num_inference_steps=50,\n",
        "    generator=generator,\n",
        "    strength=0.99  # How much to inpaint the masked area\n",
        ").images[0]\n",
        "\n",
        "# Save the result\n",
        "image.save(\"inpainted_result.png\")"
      ],
      "metadata": {
        "id": "l_r1ppSjZdUw"
      },
      "execution_count": null,
      "outputs": []
    },
    {
      "cell_type": "code",
      "source": [
        "# A fun little project to render an image, and grab the intermediate steps into\n",
        "# a series of images to make a video from\n",
        "import torch\n",
        "from diffusers import StableDiffusion3Pipeline\n",
        "from PIL import Image\n",
        "import os\n",
        "\n",
        "def save_intermediate_steps(pipe, step_index: int, timestep: int, callback_kwargs: dict):\n",
        "    # Get the current latent\n",
        "    latents = callback_kwargs[\"latents\"]\n",
        "\n",
        "    # Decode the latents to an image\n",
        "    with torch.no_grad():\n",
        "        image = pipe.vae.decode(latents / pipe.vae.config.scaling_factor, return_dict=False)[0]\n",
        "\n",
        "    # Convert to PIL Image\n",
        "    image = pipe.image_processor.postprocess(image, output_type=\"pil\")[0]\n",
        "\n",
        "    # Create output directory if it doesn't exist\n",
        "    os.makedirs(\"drive/MyDrive/intermediate_steps\", exist_ok=True)\n",
        "\n",
        "    # Save the image\n",
        "    image.save(f\"drive/MyDrive/intermediate_steps/step_{step_index:02d}.png\")\n",
        "\n",
        "    return callback_kwargs\n",
        "\n",
        "# Set your seed value\n",
        "seed = 42\n",
        "generator = torch.Generator(\"cuda\").manual_seed(seed)\n",
        "\n",
        "pipe = StableDiffusion3Pipeline.from_pretrained(\"stabilityai/stable-diffusion-3.5-medium\", torch_dtype=torch.bfloat16)\n",
        "pipe = pipe.to(\"cuda\")\n",
        "\n",
        "image = pipe(\n",
        "    \"A photo of a group of teddy bears eating pizza on the surface of mars\",\n",
        "    num_inference_steps=100,\n",
        "    generator=generator,\n",
        "    callback_on_step_end=save_intermediate_steps\n",
        ").images[0]\n",
        "\n",
        "image.save(\"teddies.png\")"
      ],
      "metadata": {
        "id": "8o2Fz81yebi8"
      },
      "execution_count": null,
      "outputs": []
    },
    {
      "cell_type": "code",
      "source": [
        "import torch\n",
        "from diffusers import StableDiffusion3Img2ImgPipeline\n",
        "from PIL import Image\n",
        "import os\n",
        "import numpy as np\n",
        "\n",
        "# Create output directory if it doesn't exist\n",
        "output_dir = \"drive/MyDrive/dragon_steps\"\n",
        "os.makedirs(output_dir, exist_ok=True)\n",
        "\n",
        "# Set your seed value\n",
        "seed = 123456\n",
        "\n",
        "# Create a generator with the seed\n",
        "generator = torch.Generator(\"cuda\").manual_seed(seed)\n",
        "\n",
        "# Load the model\n",
        "pipe = StableDiffusion3Img2ImgPipeline.from_pretrained(\"stabilityai/stable-diffusion-3.5-medium\", torch_dtype=torch.bfloat16)\n",
        "pipe = pipe.to(\"cuda\")\n",
        "\n",
        "# Load and preprocess the initial image\n",
        "init_image = Image.open(\"puppy1.jpg\").convert(\"RGB\")\n",
        "\n",
        "# Create array of strength values from 0.1 to 1.0\n",
        "strengths = np.arange(0.1, 1.01, 0.01)  # Using 1.01 to include 1.0\n",
        "\n",
        "# Loop through strengths and generate images\n",
        "for i, strength in enumerate(strengths, 1):\n",
        "    # Generate the image\n",
        "    image = pipe(\n",
        "        prompt=\"An highly detailed photograph of a baby dragon\",\n",
        "        image=init_image,\n",
        "        strength=float(strength),  # Convert numpy float to Python float\n",
        "        num_inference_steps=100,\n",
        "        generator=generator\n",
        "    ).images\n",
        "\n",
        "    # Save with padded number in filename (dragon01.png, dragon02.png, etc.)\n",
        "    filename = f\"dragon{i:02d}.png\"\n",
        "    filepath = os.path.join(output_dir, filename)\n",
        "    image[0].save(filepath)\n",
        "\n",
        "    # Optional: Print progress\n",
        "    print(f\"Generated image {i}/100 with strength {strength:.2f}\")"
      ],
      "metadata": {
        "id": "rhzhAxT8Jpdj"
      },
      "execution_count": null,
      "outputs": []
    }
  ]
}