{
  "nbformat": 4,
  "nbformat_minor": 0,
  "metadata": {
    "colab": {
      "provenance": []
    },
    "kernelspec": {
      "name": "python3",
      "display_name": "Python 3"
    },
    "language_info": {
      "name": "python"
    }
  },
  "cells": [
    {
      "cell_type": "code",
      "source": [
        "# Create Sliding Windows on the data series\n",
        "import torch\n",
        "\n",
        "def create_sliding_windows_with_target(data, window_size, shift=1):\n",
        "    \"\"\"\n",
        "    Creates sliding windows from a sequence, splitting each window into features and target.\n",
        "\n",
        "    Args:\n",
        "        data: Input sequence (can be list, numpy array, or torch tensor)\n",
        "        window_size: Size of each window\n",
        "        shift: Number of elements to shift each window (stride)\n",
        "\n",
        "    Returns:\n",
        "        tuple: (features, targets) where:\n",
        "            - features is a tensor of shape (num_windows, window_size-1)\n",
        "            - targets is a tensor of shape (num_windows, 1)\n",
        "    \"\"\"\n",
        "    # Convert input to tensor if it isn't already\n",
        "    if not isinstance(data, torch.Tensor):\n",
        "        data = torch.tensor(data, dtype=torch.float32)\n",
        "\n",
        "    # Create windows using unfold\n",
        "    windows = data.unfold(0, window_size, shift)\n",
        "\n",
        "    # Split each window into features (all but last element) and target (last element)\n",
        "    features = windows[:, :-1]  # All elements except the last\n",
        "    targets = windows[:, -1:]   # Just the last element\n",
        "\n",
        "    return features, targets\n"
      ],
      "metadata": {
        "id": "vo41o7_z2P9a"
      },
      "execution_count": 6,
      "outputs": []
    },
    {
      "cell_type": "code",
      "execution_count": 19,
      "metadata": {
        "id": "ME5Z4QBsPuav"
      },
      "outputs": [],
      "source": [
        "# If using Colab, make sure the station.csv data is uploaded. I've provided a sample\n",
        "# in the downloads, but you can also get your own by following the instructions\n",
        "# in the book text\n",
        "def get_data():\n",
        "    data_file = \"station.csv\"\n",
        "    f = open(data_file)\n",
        "    data = f.read()\n",
        "    f.close()\n",
        "    lines = data.split('\\n')\n",
        "    header = lines[0].split(',')\n",
        "    lines = lines[1:]\n",
        "    temperatures=[]\n",
        "    for line in lines:\n",
        "        if line:\n",
        "            linedata = line.split(',')\n",
        "            linedata = linedata[1:13]\n",
        "            for item in linedata:\n",
        "                if item:\n",
        "                    temperatures.append(float(item))\n",
        "\n",
        "    series = np.asarray(temperatures)\n",
        "    time = np.arange(len(temperatures), dtype=\"float32\")\n",
        "    return time, series"
      ]
    },
    {
      "cell_type": "code",
      "source": [
        "import numpy as np\n",
        "\n",
        "def normalize_series(data, missing_value=999.9):\n",
        "    # Convert to numpy array if not already\n",
        "    data = np.array(data, dtype=np.float64)\n",
        "\n",
        "    # Create mask for valid values (not NaN and not missing_value)\n",
        "    valid_mask = (data != missing_value) & (~np.isnan(data))\n",
        "\n",
        "    # Keep only valid values\n",
        "    clean_data = data[valid_mask]\n",
        "\n",
        "    # Normalize using only valid values\n",
        "    mean = np.mean(clean_data)\n",
        "    std = np.std(clean_data)\n",
        "    normalized = (clean_data - mean) / std\n",
        "\n",
        "    return normalized\n",
        "\n",
        "\n",
        "time, series = get_data()\n",
        "series_normalized = normalize_series(series)\n"
      ],
      "metadata": {
        "colab": {
          "base_uri": "https://localhost:8080/"
        },
        "id": "enWd_B0SP_XT",
        "outputId": "74eb1bbb-aa9c-4faf-8d39-312e3277f5cf"
      },
      "execution_count": 23,
      "outputs": [
        {
          "output_type": "stream",
          "name": "stdout",
          "text": [
            "Last 3 values before: [ 19.2   16.98 999.9  999.9  999.9 ]\n",
            "Last 3 values after: [0.36722898 0.94666983 1.89308989 1.54542538 1.11663915]\n"
          ]
        }
      ]
    },
    {
      "cell_type": "code",
      "source": [
        "print(len(series_normalized))"
      ],
      "metadata": {
        "colab": {
          "base_uri": "https://localhost:8080/"
        },
        "id": "CY9SI9o0QGGe",
        "outputId": "d7172d63-5ea7-400f-ab9b-09b83b60f579"
      },
      "execution_count": 25,
      "outputs": [
        {
          "output_type": "stream",
          "name": "stdout",
          "text": [
            "897\n"
          ]
        }
      ]
    },
    {
      "cell_type": "code",
      "source": [
        "import torch\n",
        "from torch.utils.data import TensorDataset, DataLoader, Subset\n",
        "import numpy as np\n",
        "\n",
        "# First create the full windowed dataset\n",
        "series_tensor = torch.tensor(series_normalized, dtype=torch.float32)\n",
        "window_size = 48\n",
        "features, targets = create_sliding_windows_with_target(series_tensor, window_size=window_size, shift=1)"
      ],
      "metadata": {
        "id": "qepyJjKQQ0iO"
      },
      "execution_count": 64,
      "outputs": []
    },
    {
      "cell_type": "code",
      "source": [
        "split_location = 800\n",
        "\n",
        "features = features.unsqueeze(1)\n",
        "# Create the full dataset\n",
        "full_dataset = TensorDataset(features, targets)\n",
        "\n",
        "# Calculate split indices\n",
        "# Note: Since we're using windows, we need to account for the overlap\n",
        "train_size = 800 - window_size + 1  # Adjust for window overlap\n",
        "total_windows = len(full_dataset)\n",
        "train_indices = list(range(train_size))\n",
        "val_indices = list(range(train_size, total_windows))\n",
        "\n",
        "# Create training and validation datasets using Subset\n",
        "train_dataset = Subset(full_dataset, train_indices)\n",
        "val_dataset = Subset(full_dataset, val_indices)\n",
        "\n"
      ],
      "metadata": {
        "id": "-S-k9qNuRWAT"
      },
      "execution_count": 65,
      "outputs": []
    },
    {
      "cell_type": "code",
      "source": [
        "# Create DataLoaders\n",
        "batch_size = 64\n",
        "train_loader = DataLoader(train_dataset, batch_size=batch_size, shuffle=True)\n",
        "val_loader = DataLoader(val_dataset, batch_size=batch_size, shuffle=False)\n",
        "\n",
        "# Print information about the splits\n",
        "print(f\"Original series length: {len(series_normalized)}\")\n",
        "print(f\"Total number of windows: {total_windows}\")\n",
        "print(f\"Training windows: {len(train_dataset)}\")\n",
        "print(f\"Validation windows: {len(val_dataset)}\")\n",
        "\n",
        "# Show example batch from each\n",
        "print(\"\\nExample Training Batch:\")\n",
        "train_features, train_targets = next(iter(train_loader))\n",
        "print(f\"Batch shape - Features: {train_features.shape}, Targets: {train_targets.shape}\")\n",
        "\n",
        "print(\"\\nExample Validation Batch:\")\n",
        "val_features, val_targets = next(iter(val_loader))\n",
        "print(f\"Batch shape - Features: {val_features.shape}, Targets: {val_targets.shape}\")"
      ],
      "metadata": {
        "colab": {
          "base_uri": "https://localhost:8080/"
        },
        "id": "P_iF1h-cRiOR",
        "outputId": "157590ab-a992-4a32-8524-1ed0cf48a25c"
      },
      "execution_count": 73,
      "outputs": [
        {
          "output_type": "stream",
          "name": "stdout",
          "text": [
            "Original series length: 897\n",
            "Total number of windows: 850\n",
            "Training windows: 753\n",
            "Validation windows: 97\n",
            "\n",
            "Example Training Batch:\n",
            "Batch shape - Features: torch.Size([64, 1, 47]), Targets: torch.Size([64, 1])\n",
            "\n",
            "Example Validation Batch:\n",
            "Batch shape - Features: torch.Size([64, 1, 47]), Targets: torch.Size([64, 1])\n"
          ]
        }
      ]
    },
    {
      "cell_type": "code",
      "source": [
        "# Visualize the split point\n",
        "import matplotlib.pyplot as plt\n",
        "\n",
        "plt.figure(figsize=(15, 6))\n",
        "plt.plot(range(len(series_normalized)), series_normalized, 'b-', label='Full Series', alpha=0.3)\n",
        "plt.plot(range(split_location), series_normalized[:split_location], 'g-', label='Training Data')\n",
        "plt.plot(range(split_location, len(series_normalized)), series_normalized[split_location:], 'r-', label='Validation Data')\n",
        "plt.axvline(x=split_location, color='k', linestyle='--', alpha=0.5, label='Split Point')\n",
        "plt.title('Time Series Train/Validation Split')\n",
        "plt.xlabel('Time (days)')\n",
        "plt.ylabel('Value')\n",
        "plt.legend()\n",
        "plt.grid(True)\n",
        "plt.show()"
      ],
      "metadata": {
        "colab": {
          "base_uri": "https://localhost:8080/",
          "height": 353
        },
        "id": "GhCEKni4Rnwz",
        "outputId": "ba542e5a-b2fb-44f8-d7d9-aaee02d6d41d"
      },
      "execution_count": 74,
      "outputs": [
        {
          "output_type": "display_data",
          "data": {
            "text/plain": [
              "<Figure size 1500x600 with 1 Axes>"
            ],
            "image/png": "[encoded data removed]"
          },
          "metadata": {}
        }
      ]
    },
    {
      "cell_type": "code",
      "source": [
        "class SimpleRNNModel(nn.Module):\n",
        "    def __init__(self, input_size=1, hidden_size=100, output_size=1, dropout_rate=0.3):\n",
        "        super(SimpleRNNModel, self).__init__()\n",
        "\n",
        "        self.rnn1 = nn.RNN(input_size=input_size,\n",
        "                          hidden_size=hidden_size,\n",
        "                          batch_first=True,\n",
        "                          dropout=dropout_rate)  # Add dropout to RNN\n",
        "\n",
        "        self.rnn2 = nn.RNN(input_size=hidden_size,\n",
        "                          hidden_size=hidden_size,\n",
        "                          batch_first=True,\n",
        "                          dropout=dropout_rate)  # Add dropout to RNN\n",
        "\n",
        "        self.dropout = nn.Dropout(dropout_rate)  # Additional dropout layer\n",
        "        self.linear = nn.Linear(hidden_size, output_size)\n",
        "\n",
        "    def forward(self, x):\n",
        "        out1, _ = self.rnn1(x)\n",
        "        out2, _ = self.rnn2(out1)\n",
        "        last_out = out2[:, -1, :]\n",
        "        last_out = self.dropout(last_out)  # Add dropout before final layer\n",
        "        output = self.linear(last_out)\n",
        "        return output\n",
        "\n"
      ],
      "metadata": {
        "id": "Ge8gndwaYuDS"
      },
      "execution_count": 99,
      "outputs": []
    },
    {
      "cell_type": "code",
      "source": [
        "import torch\n",
        "import torch.nn as nn\n",
        "import numpy as np\n",
        "from tqdm import tqdm\n",
        "import matplotlib.pyplot as plt\n",
        "\n",
        "def train_model(model, train_loader, val_loader, num_epochs=100, learning_rate=0.0005):\n",
        "    device = torch.device(\"cuda\" if torch.cuda.is_available() else \"cpu\")\n",
        "    model = model.to(device)\n",
        "\n",
        "    criterion = nn.MSELoss()\n",
        "    optimizer = torch.optim.Adam(model.parameters(), lr=learning_rate)\n",
        "\n",
        "    # Lists to store metrics\n",
        "    train_losses = []\n",
        "    val_losses = []\n",
        "\n",
        "\n",
        "    for epoch in range(num_epochs):\n",
        "        # Training phase\n",
        "        model.train()\n",
        "        train_loss = 0.0\n",
        "        train_batches = 0\n",
        "\n",
        "        for inputs, targets in tqdm(train_loader, desc=f\"Epoch {epoch+1}/{num_epochs}\"):\n",
        "            inputs = inputs.to(device)\n",
        "            targets = targets.to(device)\n",
        "\n",
        "            optimizer.zero_grad()\n",
        "            outputs = model(inputs)\n",
        "            loss = criterion(outputs, targets)\n",
        "\n",
        "            loss.backward()\n",
        "            optimizer.step()\n",
        "\n",
        "            train_loss += loss.item()\n",
        "            train_batches += 1\n",
        "\n",
        "        avg_train_loss = train_loss / train_batches\n",
        "        train_losses.append(avg_train_loss)\n",
        "\n",
        "        # Validation phase\n",
        "        model.eval()\n",
        "        val_loss = 0.0\n",
        "        val_batches = 0\n",
        "\n",
        "        with torch.no_grad():\n",
        "            for inputs, targets in val_loader:\n",
        "                inputs = inputs.to(device)\n",
        "                targets = targets.to(device)\n",
        "\n",
        "                outputs = model(inputs)\n",
        "                loss = criterion(outputs, targets)\n",
        "\n",
        "                val_loss += loss.item()\n",
        "                val_batches += 1\n",
        "\n",
        "        avg_val_loss = val_loss / val_batches\n",
        "        val_losses.append(avg_val_loss)\n",
        "\n",
        "        # Print progress\n",
        "        print(f\"Epoch {epoch+1}/{num_epochs}\")\n",
        "        print(f\"Training Loss: {avg_train_loss:.6f}\")\n",
        "        print(f\"Validation Loss: {avg_val_loss:.6f}\")\n",
        "        print(\"-\" * 40)\n",
        "\n",
        "\n",
        "    # Plot training history\n",
        "    plt.figure(figsize=(10, 6))\n",
        "    plt.plot(train_losses, label='Training Loss')\n",
        "    plt.plot(val_losses, label='Validation Loss')\n",
        "    plt.title('Model Loss Over Time')\n",
        "    plt.xlabel('Epoch')\n",
        "    plt.ylabel('Loss')\n",
        "    plt.legend()\n",
        "    plt.grid(True)\n",
        "    plt.yscale('log')  # Log scale often better for loss visualization\n",
        "    plt.show()\n",
        "\n",
        "    return train_losses, val_losses\n",
        "\n",
        "# Example usage:\n",
        "num_epochs = 500\n",
        "learning_rate = 0.0001\n",
        "\n",
        "# Create the model\n",
        "model = SimpleRNNModel(input_size=window_size-1)\n",
        "\n",
        "train_losses, val_losses = train_model(\n",
        "    model=model,\n",
        "    train_loader=train_loader,\n",
        "    val_loader=val_loader,\n",
        "    num_epochs=num_epochs,\n",
        "    learning_rate=learning_rate\n",
        ")"
      ],
      "metadata": {
        "colab": {
          "base_uri": "https://localhost:8080/",
          "height": 1000
        },
        "id": "ypEiqFTSZCXT",
        "outputId": "0d1619c8-63fd-4aad-87ca-980f0642080d"
      },
      "execution_count": 103,
      "outputs": [
        {
          "output_type": "stream",
          "name": "stderr",
          "text": [
            "\n",
            "\n",
            "Epoch 1/500: 100%|██████████| 12/12 [00:00<00:00, 279.98it/s]\n"
          ]
        },
        {
          "output_type": "stream",
          "name": "stdout",
          "text": [
            "Epoch 1/500\n",
            "Training Loss: 0.851844\n",
            "Validation Loss: 0.872848\n",
            "----------------------------------------\n"
          ]
        },
        {
          "output_type": "stream",
          "name": "stderr",
          "text": [
            "\n",
            "\n",
            "Epoch 2/500: 100%|██████████| 12/12 [00:00<00:00, 230.37it/s]\n"
          ]
        },
        {
          "output_type": "stream",
          "name": "stdout",
          "text": [
            "Epoch 2/500\n",
            "Training Loss: 0.549803\n",
            "Validation Loss: 0.560738\n",
            "----------------------------------------\n"
          ]
        },
        {
          "output_type": "stream",
          "name": "stderr",
          "text": [
            "\n",
            "\n",
            "Epoch 3/500: 100%|██████████| 12/12 [00:00<00:00, 265.71it/s]\n"
          ]
        },
        {
          "output_type": "stream",
          "name": "stdout",
          "text": [
            "Epoch 3/500\n",
            "Training Loss: 0.336772\n",
            "Validation Loss: 0.343983\n",
            "----------------------------------------\n"
          ]
        },
        {
          "output_type": "stream",
          "name": "stderr",
          "text": [
            "\n",
            "\n",
            "Epoch 4/500: 100%|██████████| 12/12 [00:00<00:00, 241.07it/s]\n"
          ]
        },
        {
          "output_type": "stream",
          "name": "stdout",
          "text": [
            "Epoch 4/500\n",
            "Training Loss: 0.203139\n",
            "Validation Loss: 0.215488\n",
            "----------------------------------------\n"
          ]
        },
        {
          "output_type": "stream",
          "name": "stderr",
          "text": [
            "\n",
            "\n",
            "Epoch 5/500: 100%|██████████| 12/12 [00:00<00:00, 265.65it/s]\n"
          ]
        },
        {
          "output_type": "stream",
          "name": "stdout",
          "text": [
            "Epoch 5/500\n",
            "Training Loss: 0.142004\n",
            "Validation Loss: 0.154615\n",
            "----------------------------------------\n"
          ]
        },
        {
          "output_type": "stream",
          "name": "stderr",
          "text": [
            "\n",
            "\n",
            "Epoch 6/500: 100%|██████████| 12/12 [00:00<00:00, 244.11it/s]\n"
          ]
        },
        {
          "output_type": "stream",
          "name": "stdout",
          "text": [
            "Epoch 6/500\n",
            "Training Loss: 0.112330\n",
            "Validation Loss: 0.132690\n",
            "----------------------------------------\n"
          ]
        },
        {
          "output_type": "stream",
          "name": "stderr",
          "text": [
            "\n",
            "\n",
            "Epoch 7/500: 100%|██████████| 12/12 [00:00<00:00, 200.78it/s]\n"
          ]
        },
        {
          "output_type": "stream",
          "name": "stdout",
          "text": [
            "Epoch 7/500\n",
            "Training Loss: 0.112025\n",
            "Validation Loss: 0.124363\n",
            "----------------------------------------\n"
          ]
        },
        {
          "output_type": "stream",
          "name": "stderr",
          "text": [
            "\n",
            "\n",
            "Epoch 8/500: 100%|██████████| 12/12 [00:00<00:00, 170.55it/s]\n"
          ]
        },
        {
          "output_type": "stream",
          "name": "stdout",
          "text": [
            "Epoch 8/500\n",
            "Training Loss: 0.104853\n",
            "Validation Loss: 0.119915\n",
            "----------------------------------------\n"
          ]
        },
        {
          "output_type": "stream",
          "name": "stderr",
          "text": [
            "\n",
            "\n",
            "Epoch 9/500: 100%|██████████| 12/12 [00:00<00:00, 199.17it/s]\n"
          ]
        },
        {
          "output_type": "stream",
          "name": "stdout",
          "text": [
            "Epoch 9/500\n",
            "Training Loss: 0.104845\n",
            "Validation Loss: 0.116071\n",
            "----------------------------------------\n"
          ]
        },
        {
          "output_type": "stream",
          "name": "stderr",
          "text": [
            "\n",
            "\n",
            "Epoch 10/500: 100%|██████████| 12/12 [00:00<00:00, 170.49it/s]\n"
          ]
        },
        {
          "output_type": "stream",
          "name": "stdout",
          "text": [
            "Epoch 10/500\n",
            "Training Loss: 0.101511\n",
            "Validation Loss: 0.112803\n",
            "----------------------------------------\n"
          ]
        },
        {
          "output_type": "stream",
          "name": "stderr",
          "text": [
            "\n",
            "\n",
            "Epoch 11/500: 100%|██████████| 12/12 [00:00<00:00, 204.69it/s]\n"
          ]
        },
        {
          "output_type": "stream",
          "name": "stdout",
          "text": [
            "Epoch 11/500\n",
            "Training Loss: 0.096659\n",
            "Validation Loss: 0.109865\n",
            "----------------------------------------\n"
          ]
        },
        {
          "output_type": "stream",
          "name": "stderr",
          "text": [
            "\n",
            "\n",
            "Epoch 12/500: 100%|██████████| 12/12 [00:00<00:00, 203.87it/s]\n"
          ]
        },
        {
          "output_type": "stream",
          "name": "stdout",
          "text": [
            "Epoch 12/500\n",
            "Training Loss: 0.093823\n",
            "Validation Loss: 0.107687\n",
            "----------------------------------------\n"
          ]
        },
        {
          "output_type": "stream",
          "name": "stderr",
          "text": [
            "\n",
            "\n",
            "Epoch 13/500: 100%|██████████| 12/12 [00:00<00:00, 265.43it/s]\n"
          ]
        },
        {
          "output_type": "stream",
          "name": "stdout",
          "text": [
            "Epoch 13/500\n",
            "Training Loss: 0.098020\n",
            "Validation Loss: 0.105468\n",
            "----------------------------------------\n"
          ]
        },
        {
          "output_type": "stream",
          "name": "stderr",
          "text": [
            "\n",
            "\n",
            "Epoch 14/500: 100%|██████████| 12/12 [00:00<00:00, 234.98it/s]\n"
          ]
        },
        {
          "output_type": "stream",
          "name": "stdout",
          "text": [
            "Epoch 14/500\n",
            "Training Loss: 0.093780\n",
            "Validation Loss: 0.102388\n",
            "----------------------------------------\n"
          ]
        },
        {
          "output_type": "stream",
          "name": "stderr",
          "text": [
            "\n",
            "\n",
            "Epoch 15/500: 100%|██████████| 12/12 [00:00<00:00, 279.81it/s]\n"
          ]
        },
        {
          "output_type": "stream",
          "name": "stdout",
          "text": [
            "Epoch 15/500\n",
            "Training Loss: 0.092336\n",
            "Validation Loss: 0.101590\n",
            "----------------------------------------\n"
          ]
        },
        {
          "output_type": "stream",
          "name": "stderr",
          "text": [
            "\n",
            "\n",
            "Epoch 16/500: 100%|██████████| 12/12 [00:00<00:00, 224.41it/s]\n"
          ]
        },
        {
          "output_type": "stream",
          "name": "stdout",
          "text": [
            "Epoch 16/500\n",
            "Training Loss: 0.091194\n",
            "Validation Loss: 0.100277\n",
            "----------------------------------------\n"
          ]
        },
        {
          "output_type": "stream",
          "name": "stderr",
          "text": [
            "\n",
            "\n",
            "Epoch 17/500: 100%|██████████| 12/12 [00:00<00:00, 234.27it/s]\n"
          ]
        },
        {
          "output_type": "stream",
          "name": "stdout",
          "text": [
            "Epoch 17/500\n",
            "Training Loss: 0.091405\n",
            "Validation Loss: 0.099557\n",
            "----------------------------------------\n"
          ]
        },
        {
          "output_type": "stream",
          "name": "stderr",
          "text": [
            "\n",
            "\n",
            "Epoch 18/500: 100%|██████████| 12/12 [00:00<00:00, 250.72it/s]\n"
          ]
        },
        {
          "output_type": "stream",
          "name": "stdout",
          "text": [
            "Epoch 18/500\n",
            "Training Loss: 0.089222\n",
            "Validation Loss: 0.098859\n",
            "----------------------------------------\n"
          ]
        },
        {
          "output_type": "stream",
          "name": "stderr",
          "text": [
            "\n",
            "\n",
            "Epoch 19/500: 100%|██████████| 12/12 [00:00<00:00, 233.28it/s]\n"
          ]
        },
        {
          "output_type": "stream",
          "name": "stdout",
          "text": [
            "Epoch 19/500\n",
            "Training Loss: 0.091875\n",
            "Validation Loss: 0.097911\n",
            "----------------------------------------\n"
          ]
        },
        {
          "output_type": "stream",
          "name": "stderr",
          "text": [
            "\n",
            "\n",
            "Epoch 20/500: 100%|██████████| 12/12 [00:00<00:00, 241.97it/s]\n"
          ]
        },
        {
          "output_type": "stream",
          "name": "stdout",
          "text": [
            "Epoch 20/500\n",
            "Training Loss: 0.083708\n",
            "Validation Loss: 0.096092\n",
            "----------------------------------------\n"
          ]
        },
        {
          "output_type": "stream",
          "name": "stderr",
          "text": [
            "\n",
            "\n",
            "Epoch 21/500: 100%|██████████| 12/12 [00:00<00:00, 189.86it/s]\n"
          ]
        },
        {
          "output_type": "stream",
          "name": "stdout",
          "text": [
            "Epoch 21/500\n",
            "Training Loss: 0.087081\n",
            "Validation Loss: 0.095733\n",
            "----------------------------------------\n"
          ]
        },
        {
          "output_type": "stream",
          "name": "stderr",
          "text": [
            "\n",
            "\n",
            "Epoch 22/500: 100%|██████████| 12/12 [00:00<00:00, 181.22it/s]\n"
          ]
        },
        {
          "output_type": "stream",
          "name": "stdout",
          "text": [
            "Epoch 22/500\n",
            "Training Loss: 0.084651\n",
            "Validation Loss: 0.094369\n",
            "----------------------------------------\n"
          ]
        },
        {
          "output_type": "stream",
          "name": "stderr",
          "text": [
            "\n",
            "\n",
            "Epoch 23/500: 100%|██████████| 12/12 [00:00<00:00, 199.70it/s]\n"
          ]
        },
        {
          "output_type": "stream",
          "name": "stdout",
          "text": [
            "Epoch 23/500\n",
            "Training Loss: 0.084112\n",
            "Validation Loss: 0.092911\n",
            "----------------------------------------\n"
          ]
        },
        {
          "output_type": "stream",
          "name": "stderr",
          "text": [
            "\n",
            "\n",
            "Epoch 24/500: 100%|██████████| 12/12 [00:00<00:00, 200.43it/s]\n"
          ]
        },
        {
          "output_type": "stream",
          "name": "stdout",
          "text": [
            "Epoch 24/500\n",
            "Training Loss: 0.083525\n",
            "Validation Loss: 0.093053\n",
            "----------------------------------------\n"
          ]
        },
        {
          "output_type": "stream",
          "name": "stderr",
          "text": [
            "\n",
            "\n",
            "Epoch 25/500: 100%|██████████| 12/12 [00:00<00:00, 192.19it/s]\n"
          ]
        },
        {
          "output_type": "stream",
          "name": "stdout",
          "text": [
            "Epoch 25/500\n",
            "Training Loss: 0.085287\n",
            "Validation Loss: 0.092440\n",
            "----------------------------------------\n"
          ]
        },
        {
          "output_type": "stream",
          "name": "stderr",
          "text": [
            "\n",
            "\n",
            "Epoch 26/500: 100%|██████████| 12/12 [00:00<00:00, 203.57it/s]\n"
          ]
        },
        {
          "output_type": "stream",
          "name": "stdout",
          "text": [
            "Epoch 26/500\n",
            "Training Loss: 0.083769\n",
            "Validation Loss: 0.092372\n",
            "----------------------------------------\n"
          ]
        },
        {
          "output_type": "stream",
          "name": "stderr",
          "text": [
            "\n",
            "\n",
            "Epoch 27/500: 100%|██████████| 12/12 [00:00<00:00, 184.57it/s]\n"
          ]
        },
        {
          "output_type": "stream",
          "name": "stdout",
          "text": [
            "Epoch 27/500\n",
            "Training Loss: 0.082793\n",
            "Validation Loss: 0.090362\n",
            "----------------------------------------\n"
          ]
        },
        {
          "output_type": "stream",
          "name": "stderr",
          "text": [
            "\n",
            "\n",
            "Epoch 28/500: 100%|██████████| 12/12 [00:00<00:00, 254.02it/s]\n"
          ]
        },
        {
          "output_type": "stream",
          "name": "stdout",
          "text": [
            "Epoch 28/500\n",
            "Training Loss: 0.082338\n",
            "Validation Loss: 0.090760\n",
            "----------------------------------------\n"
          ]
        },
        {
          "output_type": "stream",
          "name": "stderr",
          "text": [
            "\n",
            "\n",
            "Epoch 29/500: 100%|██████████| 12/12 [00:00<00:00, 227.16it/s]\n"
          ]
        },
        {
          "output_type": "stream",
          "name": "stdout",
          "text": [
            "Epoch 29/500\n",
            "Training Loss: 0.078093\n",
            "Validation Loss: 0.089276\n",
            "----------------------------------------\n"
          ]
        },
        {
          "output_type": "stream",
          "name": "stderr",
          "text": [
            "\n",
            "\n",
            "Epoch 30/500: 100%|██████████| 12/12 [00:00<00:00, 249.48it/s]\n"
          ]
        },
        {
          "output_type": "stream",
          "name": "stdout",
          "text": [
            "Epoch 30/500\n",
            "Training Loss: 0.081299\n",
            "Validation Loss: 0.088606\n",
            "----------------------------------------\n"
          ]
        },
        {
          "output_type": "stream",
          "name": "stderr",
          "text": [
            "\n",
            "\n",
            "Epoch 31/500: 100%|██████████| 12/12 [00:00<00:00, 228.64it/s]\n"
          ]
        },
        {
          "output_type": "stream",
          "name": "stdout",
          "text": [
            "Epoch 31/500\n",
            "Training Loss: 0.080401\n",
            "Validation Loss: 0.087919\n",
            "----------------------------------------\n"
          ]
        },
        {
          "output_type": "stream",
          "name": "stderr",
          "text": [
            "\n",
            "\n",
            "Epoch 32/500: 100%|██████████| 12/12 [00:00<00:00, 296.30it/s]\n"
          ]
        },
        {
          "output_type": "stream",
          "name": "stdout",
          "text": [
            "Epoch 32/500\n",
            "Training Loss: 0.077651\n",
            "Validation Loss: 0.087320\n",
            "----------------------------------------\n"
          ]
        },
        {
          "output_type": "stream",
          "name": "stderr",
          "text": [
            "\n",
            "\n",
            "Epoch 33/500: 100%|██████████| 12/12 [00:00<00:00, 234.41it/s]\n"
          ]
        },
        {
          "output_type": "stream",
          "name": "stdout",
          "text": [
            "Epoch 33/500\n",
            "Training Loss: 0.075554\n",
            "Validation Loss: 0.085397\n",
            "----------------------------------------\n"
          ]
        },
        {
          "output_type": "stream",
          "name": "stderr",
          "text": [
            "\n",
            "\n",
            "Epoch 34/500: 100%|██████████| 12/12 [00:00<00:00, 211.26it/s]\n"
          ]
        },
        {
          "output_type": "stream",
          "name": "stdout",
          "text": [
            "Epoch 34/500\n",
            "Training Loss: 0.078188\n",
            "Validation Loss: 0.085084\n",
            "----------------------------------------\n"
          ]
        },
        {
          "output_type": "stream",
          "name": "stderr",
          "text": [
            "\n",
            "\n",
            "Epoch 35/500: 100%|██████████| 12/12 [00:00<00:00, 192.04it/s]\n"
          ]
        },
        {
          "output_type": "stream",
          "name": "stdout",
          "text": [
            "Epoch 35/500\n",
            "Training Loss: 0.078413\n",
            "Validation Loss: 0.085147\n",
            "----------------------------------------\n"
          ]
        },
        {
          "output_type": "stream",
          "name": "stderr",
          "text": [
            "\n",
            "\n",
            "Epoch 36/500: 100%|██████████| 12/12 [00:00<00:00, 209.98it/s]\n"
          ]
        },
        {
          "output_type": "stream",
          "name": "stdout",
          "text": [
            "Epoch 36/500\n",
            "Training Loss: 0.074595\n",
            "Validation Loss: 0.084993\n",
            "----------------------------------------\n"
          ]
        },
        {
          "output_type": "stream",
          "name": "stderr",
          "text": [
            "\n",
            "\n",
            "Epoch 37/500: 100%|██████████| 12/12 [00:00<00:00, 187.02it/s]\n"
          ]
        },
        {
          "output_type": "stream",
          "name": "stdout",
          "text": [
            "Epoch 37/500\n",
            "Training Loss: 0.076868\n",
            "Validation Loss: 0.084528\n",
            "----------------------------------------\n"
          ]
        },
        {
          "output_type": "stream",
          "name": "stderr",
          "text": [
            "\n",
            "\n",
            "Epoch 38/500: 100%|██████████| 12/12 [00:00<00:00, 229.38it/s]\n"
          ]
        },
        {
          "output_type": "stream",
          "name": "stdout",
          "text": [
            "Epoch 38/500\n",
            "Training Loss: 0.077212\n",
            "Validation Loss: 0.083588\n",
            "----------------------------------------\n"
          ]
        },
        {
          "output_type": "stream",
          "name": "stderr",
          "text": [
            "\n",
            "\n",
            "Epoch 39/500: 100%|██████████| 12/12 [00:00<00:00, 260.47it/s]\n"
          ]
        },
        {
          "output_type": "stream",
          "name": "stdout",
          "text": [
            "Epoch 39/500\n",
            "Training Loss: 0.078372\n",
            "Validation Loss: 0.083129\n",
            "----------------------------------------\n"
          ]
        },
        {
          "output_type": "stream",
          "name": "stderr",
          "text": [
            "\n",
            "\n",
            "Epoch 40/500: 100%|██████████| 12/12 [00:00<00:00, 279.02it/s]\n"
          ]
        },
        {
          "output_type": "stream",
          "name": "stdout",
          "text": [
            "Epoch 40/500\n",
            "Training Loss: 0.077951\n",
            "Validation Loss: 0.082682\n",
            "----------------------------------------\n"
          ]
        },
        {
          "output_type": "stream",
          "name": "stderr",
          "text": [
            "\n",
            "\n",
            "Epoch 41/500: 100%|██████████| 12/12 [00:00<00:00, 263.06it/s]\n"
          ]
        },
        {
          "output_type": "stream",
          "name": "stdout",
          "text": [
            "Epoch 41/500\n",
            "Training Loss: 0.074910\n",
            "Validation Loss: 0.082130\n",
            "----------------------------------------\n"
          ]
        },
        {
          "output_type": "stream",
          "name": "stderr",
          "text": [
            "\n",
            "\n",
            "Epoch 42/500: 100%|██████████| 12/12 [00:00<00:00, 228.36it/s]\n"
          ]
        },
        {
          "output_type": "stream",
          "name": "stdout",
          "text": [
            "Epoch 42/500\n",
            "Training Loss: 0.075725\n",
            "Validation Loss: 0.081323\n",
            "----------------------------------------\n"
          ]
        },
        {
          "output_type": "stream",
          "name": "stderr",
          "text": [
            "\n",
            "\n",
            "Epoch 43/500: 100%|██████████| 12/12 [00:00<00:00, 253.88it/s]\n"
          ]
        },
        {
          "output_type": "stream",
          "name": "stdout",
          "text": [
            "Epoch 43/500\n",
            "Training Loss: 0.073733\n",
            "Validation Loss: 0.080577\n",
            "----------------------------------------\n"
          ]
        },
        {
          "output_type": "stream",
          "name": "stderr",
          "text": [
            "\n",
            "\n",
            "Epoch 44/500: 100%|██████████| 12/12 [00:00<00:00, 254.50it/s]\n"
          ]
        },
        {
          "output_type": "stream",
          "name": "stdout",
          "text": [
            "Epoch 44/500\n",
            "Training Loss: 0.075259\n",
            "Validation Loss: 0.082284\n",
            "----------------------------------------\n"
          ]
        },
        {
          "output_type": "stream",
          "name": "stderr",
          "text": [
            "\n",
            "\n",
            "Epoch 45/500: 100%|██████████| 12/12 [00:00<00:00, 197.08it/s]\n"
          ]
        },
        {
          "output_type": "stream",
          "name": "stdout",
          "text": [
            "Epoch 45/500\n",
            "Training Loss: 0.074861\n",
            "Validation Loss: 0.080840\n",
            "----------------------------------------\n"
          ]
        },
        {
          "output_type": "stream",
          "name": "stderr",
          "text": [
            "\n",
            "\n",
            "Epoch 46/500: 100%|██████████| 12/12 [00:00<00:00, 263.03it/s]\n"
          ]
        },
        {
          "output_type": "stream",
          "name": "stdout",
          "text": [
            "Epoch 46/500\n",
            "Training Loss: 0.071799\n",
            "Validation Loss: 0.080380\n",
            "----------------------------------------\n"
          ]
        },
        {
          "output_type": "stream",
          "name": "stderr",
          "text": [
            "\n",
            "\n",
            "Epoch 47/500: 100%|██████████| 12/12 [00:00<00:00, 240.47it/s]\n"
          ]
        },
        {
          "output_type": "stream",
          "name": "stdout",
          "text": [
            "Epoch 47/500\n",
            "Training Loss: 0.071990\n",
            "Validation Loss: 0.079232\n",
            "----------------------------------------\n"
          ]
        },
        {
          "output_type": "stream",
          "name": "stderr",
          "text": [
            "\n",
            "\n",
            "Epoch 48/500: 100%|██████████| 12/12 [00:00<00:00, 198.22it/s]\n"
          ]
        },
        {
          "output_type": "stream",
          "name": "stdout",
          "text": [
            "Epoch 48/500\n",
            "Training Loss: 0.070412\n",
            "Validation Loss: 0.079890\n",
            "----------------------------------------\n"
          ]
        },
        {
          "output_type": "stream",
          "name": "stderr",
          "text": [
            "\n",
            "\n",
            "Epoch 49/500: 100%|██████████| 12/12 [00:00<00:00, 193.61it/s]\n"
          ]
        },
        {
          "output_type": "stream",
          "name": "stdout",
          "text": [
            "Epoch 49/500\n",
            "Training Loss: 0.075623\n",
            "Validation Loss: 0.081355\n",
            "----------------------------------------\n"
          ]
        },
        {
          "output_type": "stream",
          "name": "stderr",
          "text": [
            "\n",
            "\n",
            "Epoch 50/500: 100%|██████████| 12/12 [00:00<00:00, 185.66it/s]\n"
          ]
        },
        {
          "output_type": "stream",
          "name": "stdout",
          "text": [
            "Epoch 50/500\n",
            "Training Loss: 0.073456\n",
            "Validation Loss: 0.079844\n",
            "----------------------------------------\n"
          ]
        },
        {
          "output_type": "stream",
          "name": "stderr",
          "text": [
            "\n",
            "\n",
            "Epoch 51/500: 100%|██████████| 12/12 [00:00<00:00, 158.57it/s]\n"
          ]
        },
        {
          "output_type": "stream",
          "name": "stdout",
          "text": [
            "Epoch 51/500\n",
            "Training Loss: 0.074683\n",
            "Validation Loss: 0.078728\n",
            "----------------------------------------\n"
          ]
        },
        {
          "output_type": "stream",
          "name": "stderr",
          "text": [
            "\n",
            "\n",
            "Epoch 52/500: 100%|██████████| 12/12 [00:00<00:00, 202.68it/s]\n"
          ]
        },
        {
          "output_type": "stream",
          "name": "stdout",
          "text": [
            "Epoch 52/500\n",
            "Training Loss: 0.072729\n",
            "Validation Loss: 0.079677\n",
            "----------------------------------------\n"
          ]
        },
        {
          "output_type": "stream",
          "name": "stderr",
          "text": [
            "\n",
            "\n",
            "Epoch 53/500: 100%|██████████| 12/12 [00:00<00:00, 173.08it/s]\n"
          ]
        },
        {
          "output_type": "stream",
          "name": "stdout",
          "text": [
            "Epoch 53/500\n",
            "Training Loss: 0.069693\n",
            "Validation Loss: 0.078766\n",
            "----------------------------------------\n"
          ]
        },
        {
          "output_type": "stream",
          "name": "stderr",
          "text": [
            "\n",
            "\n",
            "Epoch 54/500: 100%|██████████| 12/12 [00:00<00:00, 200.36it/s]\n"
          ]
        },
        {
          "output_type": "stream",
          "name": "stdout",
          "text": [
            "Epoch 54/500\n",
            "Training Loss: 0.070798\n",
            "Validation Loss: 0.077981\n",
            "----------------------------------------\n"
          ]
        },
        {
          "output_type": "stream",
          "name": "stderr",
          "text": [
            "\n",
            "\n",
            "Epoch 55/500: 100%|██████████| 12/12 [00:00<00:00, 220.98it/s]\n"
          ]
        },
        {
          "output_type": "stream",
          "name": "stdout",
          "text": [
            "Epoch 55/500\n",
            "Training Loss: 0.073652\n",
            "Validation Loss: 0.078443\n",
            "----------------------------------------\n"
          ]
        },
        {
          "output_type": "stream",
          "name": "stderr",
          "text": [
            "\n",
            "\n",
            "Epoch 56/500: 100%|██████████| 12/12 [00:00<00:00, 260.81it/s]\n"
          ]
        },
        {
          "output_type": "stream",
          "name": "stdout",
          "text": [
            "Epoch 56/500\n",
            "Training Loss: 0.071689\n",
            "Validation Loss: 0.076241\n",
            "----------------------------------------\n"
          ]
        },
        {
          "output_type": "stream",
          "name": "stderr",
          "text": [
            "\n",
            "\n",
            "Epoch 57/500: 100%|██████████| 12/12 [00:00<00:00, 167.64it/s]\n"
          ]
        },
        {
          "output_type": "stream",
          "name": "stdout",
          "text": [
            "Epoch 57/500\n",
            "Training Loss: 0.071835\n",
            "Validation Loss: 0.078619\n",
            "----------------------------------------\n"
          ]
        },
        {
          "output_type": "stream",
          "name": "stderr",
          "text": [
            "\n",
            "\n",
            "Epoch 58/500: 100%|██████████| 12/12 [00:00<00:00, 150.29it/s]\n"
          ]
        },
        {
          "output_type": "stream",
          "name": "stdout",
          "text": [
            "Epoch 58/500\n",
            "Training Loss: 0.072273\n",
            "Validation Loss: 0.078321\n",
            "----------------------------------------\n"
          ]
        },
        {
          "output_type": "stream",
          "name": "stderr",
          "text": [
            "\n",
            "\n",
            "Epoch 59/500: 100%|██████████| 12/12 [00:00<00:00, 180.67it/s]\n"
          ]
        },
        {
          "output_type": "stream",
          "name": "stdout",
          "text": [
            "Epoch 59/500\n",
            "Training Loss: 0.067664\n",
            "Validation Loss: 0.077309\n",
            "----------------------------------------\n"
          ]
        },
        {
          "output_type": "stream",
          "name": "stderr",
          "text": [
            "\n",
            "\n",
            "Epoch 60/500: 100%|██████████| 12/12 [00:00<00:00, 159.59it/s]\n"
          ]
        },
        {
          "output_type": "stream",
          "name": "stdout",
          "text": [
            "Epoch 60/500\n",
            "Training Loss: 0.071628\n",
            "Validation Loss: 0.077634\n",
            "----------------------------------------\n"
          ]
        },
        {
          "output_type": "stream",
          "name": "stderr",
          "text": [
            "\n",
            "\n",
            "Epoch 61/500:   0%|          | 0/12 [00:00<?, ?it/s]\u001b[A\u001b[A\n",
            "\n",
            "Epoch 61/500: 100%|██████████| 12/12 [00:00<00:00, 92.05it/s] \n"
          ]
        },
        {
          "output_type": "stream",
          "name": "stdout",
          "text": [
            "Epoch 61/500\n",
            "Training Loss: 0.071232\n",
            "Validation Loss: 0.078236\n",
            "----------------------------------------\n"
          ]
        },
        {
          "output_type": "stream",
          "name": "stderr",
          "text": [
            "\n",
            "\n",
            "Epoch 62/500: 100%|██████████| 12/12 [00:00<00:00, 152.00it/s]\n"
          ]
        },
        {
          "output_type": "stream",
          "name": "stdout",
          "text": [
            "Epoch 62/500\n",
            "Training Loss: 0.070936\n",
            "Validation Loss: 0.076523\n",
            "----------------------------------------\n"
          ]
        },
        {
          "output_type": "stream",
          "name": "stderr",
          "text": [
            "\n",
            "\n",
            "Epoch 63/500: 100%|██████████| 12/12 [00:00<00:00, 168.21it/s]\n"
          ]
        },
        {
          "output_type": "stream",
          "name": "stdout",
          "text": [
            "Epoch 63/500\n",
            "Training Loss: 0.070740\n",
            "Validation Loss: 0.076277\n",
            "----------------------------------------\n"
          ]
        },
        {
          "output_type": "stream",
          "name": "stderr",
          "text": [
            "\n",
            "\n",
            "Epoch 64/500: 100%|██████████| 12/12 [00:00<00:00, 180.84it/s]\n"
          ]
        },
        {
          "output_type": "stream",
          "name": "stdout",
          "text": [
            "Epoch 64/500\n",
            "Training Loss: 0.070458\n",
            "Validation Loss: 0.075698\n",
            "----------------------------------------\n"
          ]
        },
        {
          "output_type": "stream",
          "name": "stderr",
          "text": [
            "\n",
            "\n",
            "Epoch 65/500: 100%|██████████| 12/12 [00:00<00:00, 177.44it/s]\n"
          ]
        },
        {
          "output_type": "stream",
          "name": "stdout",
          "text": [
            "Epoch 65/500\n",
            "Training Loss: 0.070123\n",
            "Validation Loss: 0.077316\n",
            "----------------------------------------\n"
          ]
        },
        {
          "output_type": "stream",
          "name": "stderr",
          "text": [
            "\n",
            "\n",
            "Epoch 66/500: 100%|██████████| 12/12 [00:00<00:00, 161.97it/s]\n"
          ]
        },
        {
          "output_type": "stream",
          "name": "stdout",
          "text": [
            "Epoch 66/500\n",
            "Training Loss: 0.068594\n",
            "Validation Loss: 0.075669\n",
            "----------------------------------------\n"
          ]
        },
        {
          "output_type": "stream",
          "name": "stderr",
          "text": [
            "\n",
            "\n",
            "Epoch 67/500: 100%|██████████| 12/12 [00:00<00:00, 173.95it/s]\n"
          ]
        },
        {
          "output_type": "stream",
          "name": "stdout",
          "text": [
            "Epoch 67/500\n",
            "Training Loss: 0.069602\n",
            "Validation Loss: 0.077619\n",
            "----------------------------------------\n"
          ]
        },
        {
          "output_type": "stream",
          "name": "stderr",
          "text": [
            "\n",
            "\n",
            "Epoch 68/500: 100%|██████████| 12/12 [00:00<00:00, 169.20it/s]\n"
          ]
        },
        {
          "output_type": "stream",
          "name": "stdout",
          "text": [
            "Epoch 68/500\n",
            "Training Loss: 0.070776\n",
            "Validation Loss: 0.075548\n",
            "----------------------------------------\n"
          ]
        },
        {
          "output_type": "stream",
          "name": "stderr",
          "text": [
            "\n",
            "\n",
            "Epoch 69/500: 100%|██████████| 12/12 [00:00<00:00, 144.70it/s]\n"
          ]
        },
        {
          "output_type": "stream",
          "name": "stdout",
          "text": [
            "Epoch 69/500\n",
            "Training Loss: 0.071421\n",
            "Validation Loss: 0.075022\n",
            "----------------------------------------\n"
          ]
        },
        {
          "output_type": "stream",
          "name": "stderr",
          "text": [
            "\n",
            "\n",
            "Epoch 70/500: 100%|██████████| 12/12 [00:00<00:00, 165.01it/s]\n"
          ]
        },
        {
          "output_type": "stream",
          "name": "stdout",
          "text": [
            "Epoch 70/500\n",
            "Training Loss: 0.071253\n",
            "Validation Loss: 0.076423\n",
            "----------------------------------------\n"
          ]
        },
        {
          "output_type": "stream",
          "name": "stderr",
          "text": [
            "\n",
            "\n",
            "Epoch 71/500: 100%|██████████| 12/12 [00:00<00:00, 143.81it/s]\n"
          ]
        },
        {
          "output_type": "stream",
          "name": "stdout",
          "text": [
            "Epoch 71/500\n",
            "Training Loss: 0.068790\n",
            "Validation Loss: 0.076258\n",
            "----------------------------------------\n"
          ]
        },
        {
          "output_type": "stream",
          "name": "stderr",
          "text": [
            "\n",
            "\n",
            "Epoch 72/500: 100%|██████████| 12/12 [00:00<00:00, 167.62it/s]\n"
          ]
        },
        {
          "output_type": "stream",
          "name": "stdout",
          "text": [
            "Epoch 72/500\n",
            "Training Loss: 0.070148\n",
            "Validation Loss: 0.075820\n",
            "----------------------------------------\n"
          ]
        },
        {
          "output_type": "stream",
          "name": "stderr",
          "text": [
            "\n",
            "\n",
            "Epoch 73/500: 100%|██████████| 12/12 [00:00<00:00, 135.68it/s]\n"
          ]
        },
        {
          "output_type": "stream",
          "name": "stdout",
          "text": [
            "Epoch 73/500\n",
            "Training Loss: 0.064643\n",
            "Validation Loss: 0.075296\n",
            "----------------------------------------\n"
          ]
        },
        {
          "output_type": "stream",
          "name": "stderr",
          "text": [
            "\n",
            "\n",
            "Epoch 74/500: 100%|██████████| 12/12 [00:00<00:00, 186.66it/s]\n"
          ]
        },
        {
          "output_type": "stream",
          "name": "stdout",
          "text": [
            "Epoch 74/500\n",
            "Training Loss: 0.067128\n",
            "Validation Loss: 0.075599\n",
            "----------------------------------------\n"
          ]
        },
        {
          "output_type": "stream",
          "name": "stderr",
          "text": [
            "\n",
            "\n",
            "Epoch 75/500: 100%|██████████| 12/12 [00:00<00:00, 175.49it/s]\n"
          ]
        },
        {
          "output_type": "stream",
          "name": "stdout",
          "text": [
            "Epoch 75/500\n",
            "Training Loss: 0.066195\n",
            "Validation Loss: 0.077643\n",
            "----------------------------------------\n"
          ]
        },
        {
          "output_type": "stream",
          "name": "stderr",
          "text": [
            "\n",
            "\n",
            "Epoch 76/500: 100%|██████████| 12/12 [00:00<00:00, 191.82it/s]\n"
          ]
        },
        {
          "output_type": "stream",
          "name": "stdout",
          "text": [
            "Epoch 76/500\n",
            "Training Loss: 0.068417\n",
            "Validation Loss: 0.075046\n",
            "----------------------------------------\n"
          ]
        },
        {
          "output_type": "stream",
          "name": "stderr",
          "text": [
            "\n",
            "\n",
            "Epoch 77/500: 100%|██████████| 12/12 [00:00<00:00, 174.19it/s]\n"
          ]
        },
        {
          "output_type": "stream",
          "name": "stdout",
          "text": [
            "Epoch 77/500\n",
            "Training Loss: 0.067412\n",
            "Validation Loss: 0.076013\n",
            "----------------------------------------\n"
          ]
        },
        {
          "output_type": "stream",
          "name": "stderr",
          "text": [
            "\n",
            "\n",
            "Epoch 78/500: 100%|██████████| 12/12 [00:00<00:00, 166.55it/s]\n"
          ]
        },
        {
          "output_type": "stream",
          "name": "stdout",
          "text": [
            "Epoch 78/500\n",
            "Training Loss: 0.066257\n",
            "Validation Loss: 0.076182\n",
            "----------------------------------------\n"
          ]
        },
        {
          "output_type": "stream",
          "name": "stderr",
          "text": [
            "\n",
            "\n",
            "Epoch 79/500: 100%|██████████| 12/12 [00:00<00:00, 170.34it/s]\n"
          ]
        },
        {
          "output_type": "stream",
          "name": "stdout",
          "text": [
            "Epoch 79/500\n",
            "Training Loss: 0.066325\n",
            "Validation Loss: 0.076196\n",
            "----------------------------------------\n"
          ]
        },
        {
          "output_type": "stream",
          "name": "stderr",
          "text": [
            "\n",
            "\n",
            "Epoch 80/500: 100%|██████████| 12/12 [00:00<00:00, 126.94it/s]\n"
          ]
        },
        {
          "output_type": "stream",
          "name": "stdout",
          "text": [
            "Epoch 80/500\n",
            "Training Loss: 0.069494\n",
            "Validation Loss: 0.075112\n",
            "----------------------------------------\n"
          ]
        },
        {
          "output_type": "stream",
          "name": "stderr",
          "text": [
            "\n",
            "\n",
            "Epoch 81/500: 100%|██████████| 12/12 [00:00<00:00, 143.04it/s]\n"
          ]
        },
        {
          "output_type": "stream",
          "name": "stdout",
          "text": [
            "Epoch 81/500\n",
            "Training Loss: 0.070172\n",
            "Validation Loss: 0.076800\n",
            "----------------------------------------\n"
          ]
        },
        {
          "output_type": "stream",
          "name": "stderr",
          "text": [
            "\n",
            "\n",
            "Epoch 82/500: 100%|██████████| 12/12 [00:00<00:00, 120.67it/s]\n"
          ]
        },
        {
          "output_type": "stream",
          "name": "stdout",
          "text": [
            "Epoch 82/500\n",
            "Training Loss: 0.067707\n",
            "Validation Loss: 0.074954\n",
            "----------------------------------------\n"
          ]
        },
        {
          "output_type": "stream",
          "name": "stderr",
          "text": [
            "\n",
            "\n",
            "Epoch 83/500: 100%|██████████| 12/12 [00:00<00:00, 121.22it/s]\n"
          ]
        },
        {
          "output_type": "stream",
          "name": "stdout",
          "text": [
            "Epoch 83/500\n",
            "Training Loss: 0.068511\n",
            "Validation Loss: 0.076397\n",
            "----------------------------------------\n"
          ]
        },
        {
          "output_type": "stream",
          "name": "stderr",
          "text": [
            "\n",
            "\n",
            "Epoch 84/500: 100%|██████████| 12/12 [00:00<00:00, 126.08it/s]\n"
          ]
        },
        {
          "output_type": "stream",
          "name": "stdout",
          "text": [
            "Epoch 84/500\n",
            "Training Loss: 0.066437\n",
            "Validation Loss: 0.074621\n",
            "----------------------------------------\n"
          ]
        },
        {
          "output_type": "stream",
          "name": "stderr",
          "text": [
            "\n",
            "\n",
            "Epoch 85/500: 100%|██████████| 12/12 [00:00<00:00, 143.92it/s]\n"
          ]
        },
        {
          "output_type": "stream",
          "name": "stdout",
          "text": [
            "Epoch 85/500\n",
            "Training Loss: 0.066981\n",
            "Validation Loss: 0.075151\n",
            "----------------------------------------\n"
          ]
        },
        {
          "output_type": "stream",
          "name": "stderr",
          "text": [
            "\n",
            "\n",
            "Epoch 86/500: 100%|██████████| 12/12 [00:00<00:00, 145.81it/s]\n"
          ]
        },
        {
          "output_type": "stream",
          "name": "stdout",
          "text": [
            "Epoch 86/500\n",
            "Training Loss: 0.067965\n",
            "Validation Loss: 0.075707\n",
            "----------------------------------------\n"
          ]
        },
        {
          "output_type": "stream",
          "name": "stderr",
          "text": [
            "\n",
            "\n",
            "Epoch 87/500: 100%|██████████| 12/12 [00:00<00:00, 169.06it/s]\n"
          ]
        },
        {
          "output_type": "stream",
          "name": "stdout",
          "text": [
            "Epoch 87/500\n",
            "Training Loss: 0.069609\n",
            "Validation Loss: 0.075676\n",
            "----------------------------------------\n"
          ]
        },
        {
          "output_type": "stream",
          "name": "stderr",
          "text": [
            "\n",
            "\n",
            "Epoch 88/500: 100%|██████████| 12/12 [00:00<00:00, 172.50it/s]\n"
          ]
        },
        {
          "output_type": "stream",
          "name": "stdout",
          "text": [
            "Epoch 88/500\n",
            "Training Loss: 0.066884\n",
            "Validation Loss: 0.074994\n",
            "----------------------------------------\n"
          ]
        },
        {
          "output_type": "stream",
          "name": "stderr",
          "text": [
            "\n",
            "\n",
            "Epoch 89/500: 100%|██████████| 12/12 [00:00<00:00, 157.71it/s]\n"
          ]
        },
        {
          "output_type": "stream",
          "name": "stdout",
          "text": [
            "Epoch 89/500\n",
            "Training Loss: 0.065171\n",
            "Validation Loss: 0.075291\n",
            "----------------------------------------\n"
          ]
        },
        {
          "output_type": "stream",
          "name": "stderr",
          "text": [
            "\n",
            "\n",
            "Epoch 90/500: 100%|██████████| 12/12 [00:00<00:00, 125.16it/s]\n"
          ]
        },
        {
          "output_type": "stream",
          "name": "stdout",
          "text": [
            "Epoch 90/500\n",
            "Training Loss: 0.065734\n",
            "Validation Loss: 0.073777\n",
            "----------------------------------------\n"
          ]
        },
        {
          "output_type": "stream",
          "name": "stderr",
          "text": [
            "\n",
            "\n",
            "Epoch 91/500: 100%|██████████| 12/12 [00:00<00:00, 144.38it/s]\n"
          ]
        },
        {
          "output_type": "stream",
          "name": "stdout",
          "text": [
            "Epoch 91/500\n",
            "Training Loss: 0.070618\n",
            "Validation Loss: 0.077228\n",
            "----------------------------------------\n"
          ]
        },
        {
          "output_type": "stream",
          "name": "stderr",
          "text": [
            "\n",
            "\n",
            "Epoch 92/500: 100%|██████████| 12/12 [00:00<00:00, 172.41it/s]"
          ]
        },
        {
          "output_type": "stream",
          "name": "stdout",
          "text": [
            "Epoch 92/500\n",
            "Training Loss: 0.068241\n",
            "Validation Loss: 0.075915"
          ]
        },
        {
          "output_type": "stream",
          "name": "stderr",
          "text": [
            "\n"
          ]
        },
        {
          "output_type": "stream",
          "name": "stdout",
          "text": [
            "\n",
            "----------------------------------------\n"
          ]
        },
        {
          "output_type": "stream",
          "name": "stderr",
          "text": [
            "\n",
            "\n",
            "Epoch 93/500: 100%|██████████| 12/12 [00:00<00:00, 169.81it/s]\n"
          ]
        },
        {
          "output_type": "stream",
          "name": "stdout",
          "text": [
            "Epoch 93/500\n",
            "Training Loss: 0.068600\n",
            "Validation Loss: 0.074598\n",
            "----------------------------------------\n"
          ]
        },
        {
          "output_type": "stream",
          "name": "stderr",
          "text": [
            "\n",
            "\n",
            "Epoch 94/500: 100%|██████████| 12/12 [00:00<00:00, 183.98it/s]\n"
          ]
        },
        {
          "output_type": "stream",
          "name": "stdout",
          "text": [
            "Epoch 94/500\n",
            "Training Loss: 0.067351\n",
            "Validation Loss: 0.074416\n",
            "----------------------------------------\n"
          ]
        },
        {
          "output_type": "stream",
          "name": "stderr",
          "text": [
            "\n",
            "\n",
            "Epoch 95/500: 100%|██████████| 12/12 [00:00<00:00, 175.83it/s]\n"
          ]
        },
        {
          "output_type": "stream",
          "name": "stdout",
          "text": [
            "Epoch 95/500\n",
            "Training Loss: 0.065276\n",
            "Validation Loss: 0.074882\n",
            "----------------------------------------\n"
          ]
        },
        {
          "output_type": "stream",
          "name": "stderr",
          "text": [
            "\n",
            "\n",
            "Epoch 96/500: 100%|██████████| 12/12 [00:00<00:00, 168.45it/s]\n"
          ]
        },
        {
          "output_type": "stream",
          "name": "stdout",
          "text": [
            "Epoch 96/500\n",
            "Training Loss: 0.068815\n",
            "Validation Loss: 0.076421\n",
            "----------------------------------------\n"
          ]
        },
        {
          "output_type": "stream",
          "name": "stderr",
          "text": [
            "\n",
            "\n",
            "Epoch 97/500: 100%|██████████| 12/12 [00:00<00:00, 167.51it/s]\n"
          ]
        },
        {
          "output_type": "stream",
          "name": "stdout",
          "text": [
            "Epoch 97/500\n",
            "Training Loss: 0.064761\n",
            "Validation Loss: 0.074101\n",
            "----------------------------------------\n"
          ]
        },
        {
          "output_type": "stream",
          "name": "stderr",
          "text": [
            "\n",
            "\n",
            "Epoch 98/500: 100%|██████████| 12/12 [00:00<00:00, 163.84it/s]\n"
          ]
        },
        {
          "output_type": "stream",
          "name": "stdout",
          "text": [
            "Epoch 98/500\n",
            "Training Loss: 0.066696\n",
            "Validation Loss: 0.074405\n",
            "----------------------------------------\n"
          ]
        },
        {
          "output_type": "stream",
          "name": "stderr",
          "text": [
            "\n",
            "\n",
            "Epoch 99/500: 100%|██████████| 12/12 [00:00<00:00, 178.04it/s]\n"
          ]
        },
        {
          "output_type": "stream",
          "name": "stdout",
          "text": [
            "Epoch 99/500\n",
            "Training Loss: 0.066417\n",
            "Validation Loss: 0.077011\n",
            "----------------------------------------\n"
          ]
        },
        {
          "output_type": "stream",
          "name": "stderr",
          "text": [
            "\n",
            "\n",
            "Epoch 100/500: 100%|██████████| 12/12 [00:00<00:00, 120.69it/s]"
          ]
        },
        {
          "output_type": "stream",
          "name": "stdout",
          "text": [
            "Epoch 100/500"
          ]
        },
        {
          "output_type": "stream",
          "name": "stderr",
          "text": [
            "\n"
          ]
        },
        {
          "output_type": "stream",
          "name": "stdout",
          "text": [
            "\n",
            "Training Loss: 0.066855\n",
            "Validation Loss: 0.075448\n",
            "----------------------------------------\n"
          ]
        },
        {
          "output_type": "stream",
          "name": "stderr",
          "text": [
            "\n",
            "\n",
            "Epoch 101/500: 100%|██████████| 12/12 [00:00<00:00, 123.56it/s]\n"
          ]
        },
        {
          "output_type": "stream",
          "name": "stdout",
          "text": [
            "Epoch 101/500\n",
            "Training Loss: 0.066632\n",
            "Validation Loss: 0.075149\n",
            "----------------------------------------\n"
          ]
        },
        {
          "output_type": "stream",
          "name": "stderr",
          "text": [
            "\n",
            "\n",
            "Epoch 102/500: 100%|██████████| 12/12 [00:00<00:00, 119.91it/s]\n"
          ]
        },
        {
          "output_type": "stream",
          "name": "stdout",
          "text": [
            "Epoch 102/500\n",
            "Training Loss: 0.068281\n",
            "Validation Loss: 0.076664\n",
            "----------------------------------------\n"
          ]
        },
        {
          "output_type": "stream",
          "name": "stderr",
          "text": [
            "\n",
            "\n",
            "Epoch 103/500: 100%|██████████| 12/12 [00:00<00:00, 137.85it/s]\n"
          ]
        },
        {
          "output_type": "stream",
          "name": "stdout",
          "text": [
            "Epoch 103/500\n",
            "Training Loss: 0.065247\n",
            "Validation Loss: 0.073405\n",
            "----------------------------------------\n"
          ]
        },
        {
          "output_type": "stream",
          "name": "stderr",
          "text": [
            "\n",
            "\n",
            "Epoch 104/500: 100%|██████████| 12/12 [00:00<00:00, 148.57it/s]\n"
          ]
        },
        {
          "output_type": "stream",
          "name": "stdout",
          "text": [
            "Epoch 104/500\n",
            "Training Loss: 0.064950\n",
            "Validation Loss: 0.074001\n",
            "----------------------------------------\n"
          ]
        },
        {
          "output_type": "stream",
          "name": "stderr",
          "text": [
            "\n",
            "\n",
            "Epoch 105/500: 100%|██████████| 12/12 [00:00<00:00, 152.93it/s]\n"
          ]
        },
        {
          "output_type": "stream",
          "name": "stdout",
          "text": [
            "Epoch 105/500\n",
            "Training Loss: 0.066125\n",
            "Validation Loss: 0.074779\n",
            "----------------------------------------\n"
          ]
        },
        {
          "output_type": "stream",
          "name": "stderr",
          "text": [
            "\n",
            "\n",
            "Epoch 106/500: 100%|██████████| 12/12 [00:00<00:00, 259.58it/s]\n"
          ]
        },
        {
          "output_type": "stream",
          "name": "stdout",
          "text": [
            "Epoch 106/500\n",
            "Training Loss: 0.067084\n",
            "Validation Loss: 0.074777\n",
            "----------------------------------------\n"
          ]
        },
        {
          "output_type": "stream",
          "name": "stderr",
          "text": [
            "\n",
            "\n",
            "Epoch 107/500: 100%|██████████| 12/12 [00:00<00:00, 220.84it/s]\n"
          ]
        },
        {
          "output_type": "stream",
          "name": "stdout",
          "text": [
            "Epoch 107/500\n",
            "Training Loss: 0.065827\n",
            "Validation Loss: 0.074516\n",
            "----------------------------------------\n"
          ]
        },
        {
          "output_type": "stream",
          "name": "stderr",
          "text": [
            "\n",
            "\n",
            "Epoch 108/500: 100%|██████████| 12/12 [00:00<00:00, 246.45it/s]\n"
          ]
        },
        {
          "output_type": "stream",
          "name": "stdout",
          "text": [
            "Epoch 108/500\n",
            "Training Loss: 0.068256\n",
            "Validation Loss: 0.074046\n",
            "----------------------------------------\n"
          ]
        },
        {
          "output_type": "stream",
          "name": "stderr",
          "text": [
            "\n",
            "\n",
            "Epoch 109/500: 100%|██████████| 12/12 [00:00<00:00, 180.16it/s]\n"
          ]
        },
        {
          "output_type": "stream",
          "name": "stdout",
          "text": [
            "Epoch 109/500\n",
            "Training Loss: 0.065904\n",
            "Validation Loss: 0.075139\n",
            "----------------------------------------\n"
          ]
        },
        {
          "output_type": "stream",
          "name": "stderr",
          "text": [
            "\n",
            "\n",
            "Epoch 110/500: 100%|██████████| 12/12 [00:00<00:00, 247.42it/s]\n"
          ]
        },
        {
          "output_type": "stream",
          "name": "stdout",
          "text": [
            "Epoch 110/500\n",
            "Training Loss: 0.066762\n",
            "Validation Loss: 0.075149\n",
            "----------------------------------------\n"
          ]
        },
        {
          "output_type": "stream",
          "name": "stderr",
          "text": [
            "\n",
            "\n",
            "Epoch 111/500: 100%|██████████| 12/12 [00:00<00:00, 173.82it/s]\n"
          ]
        },
        {
          "output_type": "stream",
          "name": "stdout",
          "text": [
            "Epoch 111/500\n",
            "Training Loss: 0.065191\n",
            "Validation Loss: 0.073949\n",
            "----------------------------------------\n"
          ]
        },
        {
          "output_type": "stream",
          "name": "stderr",
          "text": [
            "\n",
            "\n",
            "Epoch 112/500: 100%|██████████| 12/12 [00:00<00:00, 179.48it/s]\n"
          ]
        },
        {
          "output_type": "stream",
          "name": "stdout",
          "text": [
            "Epoch 112/500\n",
            "Training Loss: 0.063420\n",
            "Validation Loss: 0.072469\n",
            "----------------------------------------\n"
          ]
        },
        {
          "output_type": "stream",
          "name": "stderr",
          "text": [
            "\n",
            "\n",
            "Epoch 113/500: 100%|██████████| 12/12 [00:00<00:00, 142.67it/s]\n"
          ]
        },
        {
          "output_type": "stream",
          "name": "stdout",
          "text": [
            "Epoch 113/500\n",
            "Training Loss: 0.064101\n",
            "Validation Loss: 0.075734\n",
            "----------------------------------------\n"
          ]
        },
        {
          "output_type": "stream",
          "name": "stderr",
          "text": [
            "\n",
            "\n",
            "Epoch 114/500: 100%|██████████| 12/12 [00:00<00:00, 192.30it/s]\n"
          ]
        },
        {
          "output_type": "stream",
          "name": "stdout",
          "text": [
            "Epoch 114/500\n",
            "Training Loss: 0.065830\n",
            "Validation Loss: 0.074469\n",
            "----------------------------------------\n"
          ]
        },
        {
          "output_type": "stream",
          "name": "stderr",
          "text": [
            "\n",
            "\n",
            "Epoch 115/500: 100%|██████████| 12/12 [00:00<00:00, 215.73it/s]\n"
          ]
        },
        {
          "output_type": "stream",
          "name": "stdout",
          "text": [
            "Epoch 115/500\n",
            "Training Loss: 0.063886\n",
            "Validation Loss: 0.074001\n",
            "----------------------------------------\n"
          ]
        },
        {
          "output_type": "stream",
          "name": "stderr",
          "text": [
            "\n",
            "\n",
            "Epoch 116/500: 100%|██████████| 12/12 [00:00<00:00, 244.36it/s]\n"
          ]
        },
        {
          "output_type": "stream",
          "name": "stdout",
          "text": [
            "Epoch 116/500\n",
            "Training Loss: 0.062461\n",
            "Validation Loss: 0.074444\n",
            "----------------------------------------\n"
          ]
        },
        {
          "output_type": "stream",
          "name": "stderr",
          "text": [
            "\n",
            "\n",
            "Epoch 117/500: 100%|██████████| 12/12 [00:00<00:00, 216.38it/s]\n"
          ]
        },
        {
          "output_type": "stream",
          "name": "stdout",
          "text": [
            "Epoch 117/500\n",
            "Training Loss: 0.061799\n",
            "Validation Loss: 0.073017\n",
            "----------------------------------------\n"
          ]
        },
        {
          "output_type": "stream",
          "name": "stderr",
          "text": [
            "\n",
            "\n",
            "Epoch 118/500: 100%|██████████| 12/12 [00:00<00:00, 231.30it/s]\n"
          ]
        },
        {
          "output_type": "stream",
          "name": "stdout",
          "text": [
            "Epoch 118/500\n",
            "Training Loss: 0.065119\n",
            "Validation Loss: 0.074932\n",
            "----------------------------------------\n"
          ]
        },
        {
          "output_type": "stream",
          "name": "stderr",
          "text": [
            "\n",
            "\n",
            "Epoch 119/500: 100%|██████████| 12/12 [00:00<00:00, 278.84it/s]\n"
          ]
        },
        {
          "output_type": "stream",
          "name": "stdout",
          "text": [
            "Epoch 119/500\n",
            "Training Loss: 0.063560\n",
            "Validation Loss: 0.073282\n",
            "----------------------------------------\n"
          ]
        },
        {
          "output_type": "stream",
          "name": "stderr",
          "text": [
            "\n",
            "\n",
            "Epoch 120/500: 100%|██████████| 12/12 [00:00<00:00, 218.84it/s]\n"
          ]
        },
        {
          "output_type": "stream",
          "name": "stdout",
          "text": [
            "Epoch 120/500\n",
            "Training Loss: 0.065579\n",
            "Validation Loss: 0.074058\n",
            "----------------------------------------\n"
          ]
        },
        {
          "output_type": "stream",
          "name": "stderr",
          "text": [
            "\n",
            "\n",
            "Epoch 121/500: 100%|██████████| 12/12 [00:00<00:00, 264.51it/s]\n"
          ]
        },
        {
          "output_type": "stream",
          "name": "stdout",
          "text": [
            "Epoch 121/500\n",
            "Training Loss: 0.064675\n",
            "Validation Loss: 0.075067\n",
            "----------------------------------------\n"
          ]
        },
        {
          "output_type": "stream",
          "name": "stderr",
          "text": [
            "\n",
            "\n",
            "Epoch 122/500: 100%|██████████| 12/12 [00:00<00:00, 232.78it/s]\n"
          ]
        },
        {
          "output_type": "stream",
          "name": "stdout",
          "text": [
            "Epoch 122/500\n",
            "Training Loss: 0.061738\n",
            "Validation Loss: 0.074185\n",
            "----------------------------------------\n"
          ]
        },
        {
          "output_type": "stream",
          "name": "stderr",
          "text": [
            "\n",
            "\n",
            "Epoch 123/500: 100%|██████████| 12/12 [00:00<00:00, 272.22it/s]\n"
          ]
        },
        {
          "output_type": "stream",
          "name": "stdout",
          "text": [
            "Epoch 123/500\n",
            "Training Loss: 0.065710\n",
            "Validation Loss: 0.074430\n",
            "----------------------------------------\n"
          ]
        },
        {
          "output_type": "stream",
          "name": "stderr",
          "text": [
            "\n",
            "\n",
            "Epoch 124/500: 100%|██████████| 12/12 [00:00<00:00, 186.67it/s]\n"
          ]
        },
        {
          "output_type": "stream",
          "name": "stdout",
          "text": [
            "Epoch 124/500\n",
            "Training Loss: 0.068471\n",
            "Validation Loss: 0.074679\n",
            "----------------------------------------\n"
          ]
        },
        {
          "output_type": "stream",
          "name": "stderr",
          "text": [
            "\n",
            "\n",
            "Epoch 125/500: 100%|██████████| 12/12 [00:00<00:00, 153.60it/s]\n"
          ]
        },
        {
          "output_type": "stream",
          "name": "stdout",
          "text": [
            "Epoch 125/500\n",
            "Training Loss: 0.065352\n",
            "Validation Loss: 0.074810\n",
            "----------------------------------------\n"
          ]
        },
        {
          "output_type": "stream",
          "name": "stderr",
          "text": [
            "\n",
            "\n",
            "Epoch 126/500: 100%|██████████| 12/12 [00:00<00:00, 170.75it/s]\n"
          ]
        },
        {
          "output_type": "stream",
          "name": "stdout",
          "text": [
            "Epoch 126/500\n",
            "Training Loss: 0.065571\n",
            "Validation Loss: 0.074777\n",
            "----------------------------------------\n"
          ]
        },
        {
          "output_type": "stream",
          "name": "stderr",
          "text": [
            "\n",
            "\n",
            "Epoch 127/500: 100%|██████████| 12/12 [00:00<00:00, 141.64it/s]\n"
          ]
        },
        {
          "output_type": "stream",
          "name": "stdout",
          "text": [
            "Epoch 127/500\n",
            "Training Loss: 0.065104\n",
            "Validation Loss: 0.074736\n",
            "----------------------------------------\n"
          ]
        },
        {
          "output_type": "stream",
          "name": "stderr",
          "text": [
            "\n",
            "\n",
            "Epoch 128/500: 100%|██████████| 12/12 [00:00<00:00, 168.61it/s]\n"
          ]
        },
        {
          "output_type": "stream",
          "name": "stdout",
          "text": [
            "Epoch 128/500\n",
            "Training Loss: 0.066608\n",
            "Validation Loss: 0.073807\n",
            "----------------------------------------\n"
          ]
        },
        {
          "output_type": "stream",
          "name": "stderr",
          "text": [
            "\n",
            "\n",
            "Epoch 129/500: 100%|██████████| 12/12 [00:00<00:00, 190.25it/s]\n"
          ]
        },
        {
          "output_type": "stream",
          "name": "stdout",
          "text": [
            "Epoch 129/500\n",
            "Training Loss: 0.066755\n",
            "Validation Loss: 0.075318\n",
            "----------------------------------------\n"
          ]
        },
        {
          "output_type": "stream",
          "name": "stderr",
          "text": [
            "\n",
            "\n",
            "Epoch 130/500: 100%|██████████| 12/12 [00:00<00:00, 221.95it/s]\n"
          ]
        },
        {
          "output_type": "stream",
          "name": "stdout",
          "text": [
            "Epoch 130/500\n",
            "Training Loss: 0.064277\n",
            "Validation Loss: 0.073832\n",
            "----------------------------------------\n"
          ]
        },
        {
          "output_type": "stream",
          "name": "stderr",
          "text": [
            "\n",
            "\n",
            "Epoch 131/500: 100%|██████████| 12/12 [00:00<00:00, 215.14it/s]\n"
          ]
        },
        {
          "output_type": "stream",
          "name": "stdout",
          "text": [
            "Epoch 131/500\n",
            "Training Loss: 0.063980\n",
            "Validation Loss: 0.073619\n",
            "----------------------------------------\n"
          ]
        },
        {
          "output_type": "stream",
          "name": "stderr",
          "text": [
            "\n",
            "\n",
            "Epoch 132/500: 100%|██████████| 12/12 [00:00<00:00, 232.44it/s]\n"
          ]
        },
        {
          "output_type": "stream",
          "name": "stdout",
          "text": [
            "Epoch 132/500\n",
            "Training Loss: 0.064815\n",
            "Validation Loss: 0.075342\n",
            "----------------------------------------\n"
          ]
        },
        {
          "output_type": "stream",
          "name": "stderr",
          "text": [
            "\n",
            "\n",
            "Epoch 133/500: 100%|██████████| 12/12 [00:00<00:00, 231.80it/s]\n"
          ]
        },
        {
          "output_type": "stream",
          "name": "stdout",
          "text": [
            "Epoch 133/500\n",
            "Training Loss: 0.064371\n",
            "Validation Loss: 0.074656\n",
            "----------------------------------------\n"
          ]
        },
        {
          "output_type": "stream",
          "name": "stderr",
          "text": [
            "\n",
            "\n",
            "Epoch 134/500: 100%|██████████| 12/12 [00:00<00:00, 219.95it/s]\n"
          ]
        },
        {
          "output_type": "stream",
          "name": "stdout",
          "text": [
            "Epoch 134/500\n",
            "Training Loss: 0.065737\n",
            "Validation Loss: 0.072656\n",
            "----------------------------------------\n"
          ]
        },
        {
          "output_type": "stream",
          "name": "stderr",
          "text": [
            "\n",
            "\n",
            "Epoch 135/500: 100%|██████████| 12/12 [00:00<00:00, 214.67it/s]\n"
          ]
        },
        {
          "output_type": "stream",
          "name": "stdout",
          "text": [
            "Epoch 135/500\n",
            "Training Loss: 0.063710\n",
            "Validation Loss: 0.075002\n",
            "----------------------------------------\n"
          ]
        },
        {
          "output_type": "stream",
          "name": "stderr",
          "text": [
            "\n",
            "\n",
            "Epoch 136/500: 100%|██████████| 12/12 [00:00<00:00, 184.93it/s]\n"
          ]
        },
        {
          "output_type": "stream",
          "name": "stdout",
          "text": [
            "Epoch 136/500\n",
            "Training Loss: 0.063332\n",
            "Validation Loss: 0.073835\n",
            "----------------------------------------\n"
          ]
        },
        {
          "output_type": "stream",
          "name": "stderr",
          "text": [
            "\n",
            "\n",
            "Epoch 137/500: 100%|██████████| 12/12 [00:00<00:00, 171.45it/s]\n"
          ]
        },
        {
          "output_type": "stream",
          "name": "stdout",
          "text": [
            "Epoch 137/500\n",
            "Training Loss: 0.061387\n",
            "Validation Loss: 0.076133\n",
            "----------------------------------------\n"
          ]
        },
        {
          "output_type": "stream",
          "name": "stderr",
          "text": [
            "\n",
            "\n",
            "Epoch 138/500: 100%|██████████| 12/12 [00:00<00:00, 190.88it/s]\n"
          ]
        },
        {
          "output_type": "stream",
          "name": "stdout",
          "text": [
            "Epoch 138/500\n",
            "Training Loss: 0.066060\n",
            "Validation Loss: 0.073574\n",
            "----------------------------------------\n"
          ]
        },
        {
          "output_type": "stream",
          "name": "stderr",
          "text": [
            "\n",
            "\n",
            "Epoch 139/500: 100%|██████████| 12/12 [00:00<00:00, 182.40it/s]\n"
          ]
        },
        {
          "output_type": "stream",
          "name": "stdout",
          "text": [
            "Epoch 139/500\n",
            "Training Loss: 0.064839\n",
            "Validation Loss: 0.075319\n",
            "----------------------------------------\n"
          ]
        },
        {
          "output_type": "stream",
          "name": "stderr",
          "text": [
            "\n",
            "\n",
            "Epoch 140/500: 100%|██████████| 12/12 [00:00<00:00, 146.86it/s]\n"
          ]
        },
        {
          "output_type": "stream",
          "name": "stdout",
          "text": [
            "Epoch 140/500\n",
            "Training Loss: 0.063831\n",
            "Validation Loss: 0.073909\n",
            "----------------------------------------\n"
          ]
        },
        {
          "output_type": "stream",
          "name": "stderr",
          "text": [
            "\n",
            "\n",
            "Epoch 141/500: 100%|██████████| 12/12 [00:00<00:00, 267.60it/s]\n"
          ]
        },
        {
          "output_type": "stream",
          "name": "stdout",
          "text": [
            "Epoch 141/500\n",
            "Training Loss: 0.064257\n",
            "Validation Loss: 0.074723\n",
            "----------------------------------------\n"
          ]
        },
        {
          "output_type": "stream",
          "name": "stderr",
          "text": [
            "\n",
            "\n",
            "Epoch 142/500: 100%|██████████| 12/12 [00:00<00:00, 226.69it/s]\n"
          ]
        },
        {
          "output_type": "stream",
          "name": "stdout",
          "text": [
            "Epoch 142/500\n",
            "Training Loss: 0.064703\n",
            "Validation Loss: 0.074495\n",
            "----------------------------------------\n"
          ]
        },
        {
          "output_type": "stream",
          "name": "stderr",
          "text": [
            "\n",
            "\n",
            "Epoch 143/500: 100%|██████████| 12/12 [00:00<00:00, 232.18it/s]\n"
          ]
        },
        {
          "output_type": "stream",
          "name": "stdout",
          "text": [
            "Epoch 143/500\n",
            "Training Loss: 0.061158\n",
            "Validation Loss: 0.075539\n",
            "----------------------------------------\n"
          ]
        },
        {
          "output_type": "stream",
          "name": "stderr",
          "text": [
            "\n",
            "\n",
            "Epoch 144/500: 100%|██████████| 12/12 [00:00<00:00, 259.74it/s]\n"
          ]
        },
        {
          "output_type": "stream",
          "name": "stdout",
          "text": [
            "Epoch 144/500\n",
            "Training Loss: 0.065221\n",
            "Validation Loss: 0.074797\n",
            "----------------------------------------\n"
          ]
        },
        {
          "output_type": "stream",
          "name": "stderr",
          "text": [
            "\n",
            "\n",
            "Epoch 145/500: 100%|██████████| 12/12 [00:00<00:00, 219.22it/s]\n"
          ]
        },
        {
          "output_type": "stream",
          "name": "stdout",
          "text": [
            "Epoch 145/500\n",
            "Training Loss: 0.066016\n",
            "Validation Loss: 0.073418\n",
            "----------------------------------------\n"
          ]
        },
        {
          "output_type": "stream",
          "name": "stderr",
          "text": [
            "\n",
            "\n",
            "Epoch 146/500: 100%|██████████| 12/12 [00:00<00:00, 241.48it/s]\n"
          ]
        },
        {
          "output_type": "stream",
          "name": "stdout",
          "text": [
            "Epoch 146/500\n",
            "Training Loss: 0.061521\n",
            "Validation Loss: 0.075190\n",
            "----------------------------------------\n"
          ]
        },
        {
          "output_type": "stream",
          "name": "stderr",
          "text": [
            "\n",
            "\n",
            "Epoch 147/500: 100%|██████████| 12/12 [00:00<00:00, 230.51it/s]\n"
          ]
        },
        {
          "output_type": "stream",
          "name": "stdout",
          "text": [
            "Epoch 147/500\n",
            "Training Loss: 0.067195\n",
            "Validation Loss: 0.072869\n",
            "----------------------------------------\n"
          ]
        },
        {
          "output_type": "stream",
          "name": "stderr",
          "text": [
            "\n",
            "\n",
            "Epoch 148/500: 100%|██████████| 12/12 [00:00<00:00, 263.39it/s]\n"
          ]
        },
        {
          "output_type": "stream",
          "name": "stdout",
          "text": [
            "Epoch 148/500\n",
            "Training Loss: 0.064148\n",
            "Validation Loss: 0.075500\n",
            "----------------------------------------\n"
          ]
        },
        {
          "output_type": "stream",
          "name": "stderr",
          "text": [
            "\n",
            "\n",
            "Epoch 149/500: 100%|██████████| 12/12 [00:00<00:00, 207.37it/s]\n"
          ]
        },
        {
          "output_type": "stream",
          "name": "stdout",
          "text": [
            "Epoch 149/500\n",
            "Training Loss: 0.064457\n",
            "Validation Loss: 0.073394\n",
            "----------------------------------------\n"
          ]
        },
        {
          "output_type": "stream",
          "name": "stderr",
          "text": [
            "\n",
            "\n",
            "Epoch 150/500: 100%|██████████| 12/12 [00:00<00:00, 186.57it/s]\n"
          ]
        },
        {
          "output_type": "stream",
          "name": "stdout",
          "text": [
            "Epoch 150/500\n",
            "Training Loss: 0.061828\n",
            "Validation Loss: 0.074614\n",
            "----------------------------------------\n"
          ]
        },
        {
          "output_type": "stream",
          "name": "stderr",
          "text": [
            "\n",
            "\n",
            "Epoch 151/500: 100%|██████████| 12/12 [00:00<00:00, 156.90it/s]\n"
          ]
        },
        {
          "output_type": "stream",
          "name": "stdout",
          "text": [
            "Epoch 151/500\n",
            "Training Loss: 0.063231\n",
            "Validation Loss: 0.073481\n",
            "----------------------------------------\n"
          ]
        },
        {
          "output_type": "stream",
          "name": "stderr",
          "text": [
            "\n",
            "\n",
            "Epoch 152/500: 100%|██████████| 12/12 [00:00<00:00, 192.84it/s]\n"
          ]
        },
        {
          "output_type": "stream",
          "name": "stdout",
          "text": [
            "Epoch 152/500\n",
            "Training Loss: 0.065151\n",
            "Validation Loss: 0.074676\n",
            "----------------------------------------\n"
          ]
        },
        {
          "output_type": "stream",
          "name": "stderr",
          "text": [
            "\n",
            "\n",
            "Epoch 153/500: 100%|██████████| 12/12 [00:00<00:00, 155.47it/s]\n"
          ]
        },
        {
          "output_type": "stream",
          "name": "stdout",
          "text": [
            "Epoch 153/500\n",
            "Training Loss: 0.063179\n",
            "Validation Loss: 0.075386\n",
            "----------------------------------------\n"
          ]
        },
        {
          "output_type": "stream",
          "name": "stderr",
          "text": [
            "\n",
            "\n",
            "Epoch 154/500: 100%|██████████| 12/12 [00:00<00:00, 169.14it/s]\n"
          ]
        },
        {
          "output_type": "stream",
          "name": "stdout",
          "text": [
            "Epoch 154/500\n",
            "Training Loss: 0.061791\n",
            "Validation Loss: 0.072916\n",
            "----------------------------------------\n"
          ]
        },
        {
          "output_type": "stream",
          "name": "stderr",
          "text": [
            "\n",
            "\n",
            "Epoch 155/500: 100%|██████████| 12/12 [00:00<00:00, 229.49it/s]\n"
          ]
        },
        {
          "output_type": "stream",
          "name": "stdout",
          "text": [
            "Epoch 155/500\n",
            "Training Loss: 0.064793\n",
            "Validation Loss: 0.075076\n",
            "----------------------------------------\n"
          ]
        },
        {
          "output_type": "stream",
          "name": "stderr",
          "text": [
            "\n",
            "\n",
            "Epoch 156/500: 100%|██████████| 12/12 [00:00<00:00, 220.82it/s]\n"
          ]
        },
        {
          "output_type": "stream",
          "name": "stdout",
          "text": [
            "Epoch 156/500\n",
            "Training Loss: 0.063951\n",
            "Validation Loss: 0.074119\n",
            "----------------------------------------\n"
          ]
        },
        {
          "output_type": "stream",
          "name": "stderr",
          "text": [
            "\n",
            "\n",
            "Epoch 157/500: 100%|██████████| 12/12 [00:00<00:00, 269.98it/s]\n"
          ]
        },
        {
          "output_type": "stream",
          "name": "stdout",
          "text": [
            "Epoch 157/500\n",
            "Training Loss: 0.062779\n",
            "Validation Loss: 0.074802\n",
            "----------------------------------------\n"
          ]
        },
        {
          "output_type": "stream",
          "name": "stderr",
          "text": [
            "\n",
            "\n",
            "Epoch 158/500: 100%|██████████| 12/12 [00:00<00:00, 229.80it/s]\n"
          ]
        },
        {
          "output_type": "stream",
          "name": "stdout",
          "text": [
            "Epoch 158/500\n",
            "Training Loss: 0.063533\n",
            "Validation Loss: 0.071992\n",
            "----------------------------------------\n"
          ]
        },
        {
          "output_type": "stream",
          "name": "stderr",
          "text": [
            "\n",
            "\n",
            "Epoch 159/500: 100%|██████████| 12/12 [00:00<00:00, 237.00it/s]\n"
          ]
        },
        {
          "output_type": "stream",
          "name": "stdout",
          "text": [
            "Epoch 159/500\n",
            "Training Loss: 0.061863\n",
            "Validation Loss: 0.074595\n",
            "----------------------------------------\n"
          ]
        },
        {
          "output_type": "stream",
          "name": "stderr",
          "text": [
            "\n",
            "\n",
            "Epoch 160/500: 100%|██████████| 12/12 [00:00<00:00, 247.56it/s]\n"
          ]
        },
        {
          "output_type": "stream",
          "name": "stdout",
          "text": [
            "Epoch 160/500\n",
            "Training Loss: 0.063239\n",
            "Validation Loss: 0.073619\n",
            "----------------------------------------\n"
          ]
        },
        {
          "output_type": "stream",
          "name": "stderr",
          "text": [
            "\n",
            "\n",
            "Epoch 161/500: 100%|██████████| 12/12 [00:00<00:00, 259.20it/s]\n"
          ]
        },
        {
          "output_type": "stream",
          "name": "stdout",
          "text": [
            "Epoch 161/500\n",
            "Training Loss: 0.062585\n",
            "Validation Loss: 0.074730\n",
            "----------------------------------------\n"
          ]
        },
        {
          "output_type": "stream",
          "name": "stderr",
          "text": [
            "\n",
            "\n",
            "Epoch 162/500: 100%|██████████| 12/12 [00:00<00:00, 172.26it/s]\n"
          ]
        },
        {
          "output_type": "stream",
          "name": "stdout",
          "text": [
            "Epoch 162/500\n",
            "Training Loss: 0.064757\n",
            "Validation Loss: 0.072407\n",
            "----------------------------------------\n"
          ]
        },
        {
          "output_type": "stream",
          "name": "stderr",
          "text": [
            "\n",
            "\n",
            "Epoch 163/500: 100%|██████████| 12/12 [00:00<00:00, 171.36it/s]\n"
          ]
        },
        {
          "output_type": "stream",
          "name": "stdout",
          "text": [
            "Epoch 163/500\n",
            "Training Loss: 0.063818\n",
            "Validation Loss: 0.074123\n",
            "----------------------------------------\n"
          ]
        },
        {
          "output_type": "stream",
          "name": "stderr",
          "text": [
            "\n",
            "\n",
            "Epoch 164/500: 100%|██████████| 12/12 [00:00<00:00, 164.35it/s]\n"
          ]
        },
        {
          "output_type": "stream",
          "name": "stdout",
          "text": [
            "Epoch 164/500\n",
            "Training Loss: 0.065719\n",
            "Validation Loss: 0.075182\n",
            "----------------------------------------\n"
          ]
        },
        {
          "output_type": "stream",
          "name": "stderr",
          "text": [
            "\n",
            "\n",
            "Epoch 165/500: 100%|██████████| 12/12 [00:00<00:00, 157.34it/s]\n"
          ]
        },
        {
          "output_type": "stream",
          "name": "stdout",
          "text": [
            "Epoch 165/500\n",
            "Training Loss: 0.064674\n",
            "Validation Loss: 0.072809\n",
            "----------------------------------------\n"
          ]
        },
        {
          "output_type": "stream",
          "name": "stderr",
          "text": [
            "\n",
            "\n",
            "Epoch 166/500: 100%|██████████| 12/12 [00:00<00:00, 154.00it/s]\n"
          ]
        },
        {
          "output_type": "stream",
          "name": "stdout",
          "text": [
            "Epoch 166/500\n",
            "Training Loss: 0.063873\n",
            "Validation Loss: 0.073336\n",
            "----------------------------------------\n"
          ]
        },
        {
          "output_type": "stream",
          "name": "stderr",
          "text": [
            "\n",
            "\n",
            "Epoch 167/500: 100%|██████████| 12/12 [00:00<00:00, 154.61it/s]\n"
          ]
        },
        {
          "output_type": "stream",
          "name": "stdout",
          "text": [
            "Epoch 167/500\n",
            "Training Loss: 0.063805\n",
            "Validation Loss: 0.073734\n",
            "----------------------------------------\n"
          ]
        },
        {
          "output_type": "stream",
          "name": "stderr",
          "text": [
            "\n",
            "\n",
            "Epoch 168/500: 100%|██████████| 12/12 [00:00<00:00, 239.98it/s]\n"
          ]
        },
        {
          "output_type": "stream",
          "name": "stdout",
          "text": [
            "Epoch 168/500\n",
            "Training Loss: 0.063343\n",
            "Validation Loss: 0.073925\n",
            "----------------------------------------\n"
          ]
        },
        {
          "output_type": "stream",
          "name": "stderr",
          "text": [
            "\n",
            "\n",
            "Epoch 169/500: 100%|██████████| 12/12 [00:00<00:00, 216.57it/s]\n"
          ]
        },
        {
          "output_type": "stream",
          "name": "stdout",
          "text": [
            "Epoch 169/500\n",
            "Training Loss: 0.063161\n",
            "Validation Loss: 0.073590\n",
            "----------------------------------------\n"
          ]
        },
        {
          "output_type": "stream",
          "name": "stderr",
          "text": [
            "\n",
            "\n",
            "Epoch 170/500: 100%|██████████| 12/12 [00:00<00:00, 251.13it/s]\n"
          ]
        },
        {
          "output_type": "stream",
          "name": "stdout",
          "text": [
            "Epoch 170/500\n",
            "Training Loss: 0.062473\n",
            "Validation Loss: 0.073658\n",
            "----------------------------------------\n"
          ]
        },
        {
          "output_type": "stream",
          "name": "stderr",
          "text": [
            "\n",
            "\n",
            "Epoch 171/500: 100%|██████████| 12/12 [00:00<00:00, 199.87it/s]\n"
          ]
        },
        {
          "output_type": "stream",
          "name": "stdout",
          "text": [
            "Epoch 171/500\n",
            "Training Loss: 0.064186\n",
            "Validation Loss: 0.072394\n",
            "----------------------------------------\n"
          ]
        },
        {
          "output_type": "stream",
          "name": "stderr",
          "text": [
            "\n",
            "\n",
            "Epoch 172/500: 100%|██████████| 12/12 [00:00<00:00, 253.04it/s]\n"
          ]
        },
        {
          "output_type": "stream",
          "name": "stdout",
          "text": [
            "Epoch 172/500\n",
            "Training Loss: 0.064403\n",
            "Validation Loss: 0.074185\n",
            "----------------------------------------\n"
          ]
        },
        {
          "output_type": "stream",
          "name": "stderr",
          "text": [
            "\n",
            "\n",
            "Epoch 173/500: 100%|██████████| 12/12 [00:00<00:00, 264.18it/s]\n"
          ]
        },
        {
          "output_type": "stream",
          "name": "stdout",
          "text": [
            "Epoch 173/500\n",
            "Training Loss: 0.066866\n",
            "Validation Loss: 0.074822\n",
            "----------------------------------------\n"
          ]
        },
        {
          "output_type": "stream",
          "name": "stderr",
          "text": [
            "\n",
            "\n",
            "Epoch 174/500: 100%|██████████| 12/12 [00:00<00:00, 141.79it/s]\n"
          ]
        },
        {
          "output_type": "stream",
          "name": "stdout",
          "text": [
            "Epoch 174/500\n",
            "Training Loss: 0.064548\n",
            "Validation Loss: 0.072971\n",
            "----------------------------------------\n"
          ]
        },
        {
          "output_type": "stream",
          "name": "stderr",
          "text": [
            "\n",
            "\n",
            "Epoch 175/500: 100%|██████████| 12/12 [00:00<00:00, 167.11it/s]"
          ]
        },
        {
          "output_type": "stream",
          "name": "stdout",
          "text": [
            "Epoch 175/500\n",
            "Training Loss: 0.065538\n",
            "Validation Loss: 0.075686\n"
          ]
        },
        {
          "output_type": "stream",
          "name": "stderr",
          "text": [
            "\n"
          ]
        },
        {
          "output_type": "stream",
          "name": "stdout",
          "text": [
            "----------------------------------------\n"
          ]
        },
        {
          "output_type": "stream",
          "name": "stderr",
          "text": [
            "\n",
            "\n",
            "Epoch 176/500: 100%|██████████| 12/12 [00:00<00:00, 156.15it/s]\n"
          ]
        },
        {
          "output_type": "stream",
          "name": "stdout",
          "text": [
            "Epoch 176/500\n",
            "Training Loss: 0.064041\n",
            "Validation Loss: 0.072242\n",
            "----------------------------------------\n"
          ]
        },
        {
          "output_type": "stream",
          "name": "stderr",
          "text": [
            "\n",
            "\n",
            "Epoch 177/500: 100%|██████████| 12/12 [00:00<00:00, 173.71it/s]\n"
          ]
        },
        {
          "output_type": "stream",
          "name": "stdout",
          "text": [
            "Epoch 177/500\n",
            "Training Loss: 0.061932\n",
            "Validation Loss: 0.075889\n",
            "----------------------------------------\n"
          ]
        },
        {
          "output_type": "stream",
          "name": "stderr",
          "text": [
            "\n",
            "\n",
            "Epoch 178/500: 100%|██████████| 12/12 [00:00<00:00, 186.79it/s]\n"
          ]
        },
        {
          "output_type": "stream",
          "name": "stdout",
          "text": [
            "Epoch 178/500\n",
            "Training Loss: 0.062499\n",
            "Validation Loss: 0.073594\n",
            "----------------------------------------\n"
          ]
        },
        {
          "output_type": "stream",
          "name": "stderr",
          "text": [
            "\n",
            "\n",
            "Epoch 179/500: 100%|██████████| 12/12 [00:00<00:00, 157.41it/s]\n"
          ]
        },
        {
          "output_type": "stream",
          "name": "stdout",
          "text": [
            "Epoch 179/500\n",
            "Training Loss: 0.062211\n",
            "Validation Loss: 0.074267\n",
            "----------------------------------------\n"
          ]
        },
        {
          "output_type": "stream",
          "name": "stderr",
          "text": [
            "\n",
            "\n",
            "Epoch 180/500: 100%|██████████| 12/12 [00:00<00:00, 203.81it/s]\n"
          ]
        },
        {
          "output_type": "stream",
          "name": "stdout",
          "text": [
            "Epoch 180/500\n",
            "Training Loss: 0.062385\n",
            "Validation Loss: 0.072936\n",
            "----------------------------------------\n"
          ]
        },
        {
          "output_type": "stream",
          "name": "stderr",
          "text": [
            "\n",
            "\n",
            "Epoch 181/500: 100%|██████████| 12/12 [00:00<00:00, 216.41it/s]\n"
          ]
        },
        {
          "output_type": "stream",
          "name": "stdout",
          "text": [
            "Epoch 181/500\n",
            "Training Loss: 0.062238\n",
            "Validation Loss: 0.073100\n",
            "----------------------------------------\n"
          ]
        },
        {
          "output_type": "stream",
          "name": "stderr",
          "text": [
            "\n",
            "\n",
            "Epoch 182/500: 100%|██████████| 12/12 [00:00<00:00, 234.10it/s]\n"
          ]
        },
        {
          "output_type": "stream",
          "name": "stdout",
          "text": [
            "Epoch 182/500\n",
            "Training Loss: 0.062529\n",
            "Validation Loss: 0.073186\n",
            "----------------------------------------\n"
          ]
        },
        {
          "output_type": "stream",
          "name": "stderr",
          "text": [
            "\n",
            "\n",
            "Epoch 183/500: 100%|██████████| 12/12 [00:00<00:00, 191.32it/s]\n"
          ]
        },
        {
          "output_type": "stream",
          "name": "stdout",
          "text": [
            "Epoch 183/500\n",
            "Training Loss: 0.063087\n",
            "Validation Loss: 0.074058\n",
            "----------------------------------------\n"
          ]
        },
        {
          "output_type": "stream",
          "name": "stderr",
          "text": [
            "\n",
            "\n",
            "Epoch 184/500: 100%|██████████| 12/12 [00:00<00:00, 241.66it/s]\n"
          ]
        },
        {
          "output_type": "stream",
          "name": "stdout",
          "text": [
            "Epoch 184/500\n",
            "Training Loss: 0.067242\n",
            "Validation Loss: 0.073249\n",
            "----------------------------------------\n"
          ]
        },
        {
          "output_type": "stream",
          "name": "stderr",
          "text": [
            "\n",
            "\n",
            "Epoch 185/500: 100%|██████████| 12/12 [00:00<00:00, 213.25it/s]\n"
          ]
        },
        {
          "output_type": "stream",
          "name": "stdout",
          "text": [
            "Epoch 185/500\n",
            "Training Loss: 0.063124\n",
            "Validation Loss: 0.076735\n",
            "----------------------------------------\n"
          ]
        },
        {
          "output_type": "stream",
          "name": "stderr",
          "text": [
            "\n",
            "\n",
            "Epoch 186/500: 100%|██████████| 12/12 [00:00<00:00, 175.83it/s]\n"
          ]
        },
        {
          "output_type": "stream",
          "name": "stdout",
          "text": [
            "Epoch 186/500\n",
            "Training Loss: 0.062125\n",
            "Validation Loss: 0.072520\n",
            "----------------------------------------\n"
          ]
        },
        {
          "output_type": "stream",
          "name": "stderr",
          "text": [
            "\n",
            "\n",
            "Epoch 187/500: 100%|██████████| 12/12 [00:00<00:00, 164.87it/s]\n"
          ]
        },
        {
          "output_type": "stream",
          "name": "stdout",
          "text": [
            "Epoch 187/500\n",
            "Training Loss: 0.063310\n",
            "Validation Loss: 0.075191\n",
            "----------------------------------------\n"
          ]
        },
        {
          "output_type": "stream",
          "name": "stderr",
          "text": [
            "\n",
            "\n",
            "Epoch 188/500: 100%|██████████| 12/12 [00:00<00:00, 171.08it/s]\n"
          ]
        },
        {
          "output_type": "stream",
          "name": "stdout",
          "text": [
            "Epoch 188/500\n",
            "Training Loss: 0.061621\n",
            "Validation Loss: 0.074640\n",
            "----------------------------------------\n"
          ]
        },
        {
          "output_type": "stream",
          "name": "stderr",
          "text": [
            "\n",
            "\n",
            "Epoch 189/500: 100%|██████████| 12/12 [00:00<00:00, 181.58it/s]\n"
          ]
        },
        {
          "output_type": "stream",
          "name": "stdout",
          "text": [
            "Epoch 189/500\n",
            "Training Loss: 0.062136\n",
            "Validation Loss: 0.072226\n",
            "----------------------------------------\n"
          ]
        },
        {
          "output_type": "stream",
          "name": "stderr",
          "text": [
            "\n",
            "\n",
            "Epoch 190/500: 100%|██████████| 12/12 [00:00<00:00, 178.17it/s]\n"
          ]
        },
        {
          "output_type": "stream",
          "name": "stdout",
          "text": [
            "Epoch 190/500\n",
            "Training Loss: 0.064746\n",
            "Validation Loss: 0.075052\n",
            "----------------------------------------\n"
          ]
        },
        {
          "output_type": "stream",
          "name": "stderr",
          "text": [
            "\n",
            "\n",
            "Epoch 191/500: 100%|██████████| 12/12 [00:00<00:00, 201.21it/s]\n"
          ]
        },
        {
          "output_type": "stream",
          "name": "stdout",
          "text": [
            "Epoch 191/500\n",
            "Training Loss: 0.061211\n",
            "Validation Loss: 0.071780\n",
            "----------------------------------------\n"
          ]
        },
        {
          "output_type": "stream",
          "name": "stderr",
          "text": [
            "\n",
            "\n",
            "Epoch 192/500: 100%|██████████| 12/12 [00:00<00:00, 182.79it/s]\n"
          ]
        },
        {
          "output_type": "stream",
          "name": "stdout",
          "text": [
            "Epoch 192/500\n",
            "Training Loss: 0.064290\n",
            "Validation Loss: 0.075563\n",
            "----------------------------------------\n"
          ]
        },
        {
          "output_type": "stream",
          "name": "stderr",
          "text": [
            "\n",
            "\n",
            "Epoch 193/500: 100%|██████████| 12/12 [00:00<00:00, 241.50it/s]\n"
          ]
        },
        {
          "output_type": "stream",
          "name": "stdout",
          "text": [
            "Epoch 193/500\n",
            "Training Loss: 0.062488\n",
            "Validation Loss: 0.072468\n",
            "----------------------------------------\n"
          ]
        },
        {
          "output_type": "stream",
          "name": "stderr",
          "text": [
            "\n",
            "\n",
            "Epoch 194/500: 100%|██████████| 12/12 [00:00<00:00, 211.37it/s]\n"
          ]
        },
        {
          "output_type": "stream",
          "name": "stdout",
          "text": [
            "Epoch 194/500\n",
            "Training Loss: 0.061080\n",
            "Validation Loss: 0.073440\n",
            "----------------------------------------\n"
          ]
        },
        {
          "output_type": "stream",
          "name": "stderr",
          "text": [
            "\n",
            "\n",
            "Epoch 195/500: 100%|██████████| 12/12 [00:00<00:00, 243.29it/s]\n"
          ]
        },
        {
          "output_type": "stream",
          "name": "stdout",
          "text": [
            "Epoch 195/500\n",
            "Training Loss: 0.061931\n",
            "Validation Loss: 0.074044\n",
            "----------------------------------------\n"
          ]
        },
        {
          "output_type": "stream",
          "name": "stderr",
          "text": [
            "\n",
            "\n",
            "Epoch 196/500: 100%|██████████| 12/12 [00:00<00:00, 227.97it/s]\n"
          ]
        },
        {
          "output_type": "stream",
          "name": "stdout",
          "text": [
            "Epoch 196/500\n",
            "Training Loss: 0.063530\n",
            "Validation Loss: 0.073962\n",
            "----------------------------------------\n"
          ]
        },
        {
          "output_type": "stream",
          "name": "stderr",
          "text": [
            "\n",
            "\n",
            "Epoch 197/500: 100%|██████████| 12/12 [00:00<00:00, 224.75it/s]\n"
          ]
        },
        {
          "output_type": "stream",
          "name": "stdout",
          "text": [
            "Epoch 197/500\n",
            "Training Loss: 0.063881\n",
            "Validation Loss: 0.073206\n",
            "----------------------------------------\n"
          ]
        },
        {
          "output_type": "stream",
          "name": "stderr",
          "text": [
            "\n",
            "\n",
            "Epoch 198/500: 100%|██████████| 12/12 [00:00<00:00, 166.00it/s]\n"
          ]
        },
        {
          "output_type": "stream",
          "name": "stdout",
          "text": [
            "Epoch 198/500\n",
            "Training Loss: 0.063216\n",
            "Validation Loss: 0.072452\n",
            "----------------------------------------\n"
          ]
        },
        {
          "output_type": "stream",
          "name": "stderr",
          "text": [
            "\n",
            "\n",
            "Epoch 199/500: 100%|██████████| 12/12 [00:00<00:00, 180.68it/s]\n"
          ]
        },
        {
          "output_type": "stream",
          "name": "stdout",
          "text": [
            "Epoch 199/500\n",
            "Training Loss: 0.063890\n",
            "Validation Loss: 0.073104\n",
            "----------------------------------------\n"
          ]
        },
        {
          "output_type": "stream",
          "name": "stderr",
          "text": [
            "\n",
            "\n",
            "Epoch 200/500: 100%|██████████| 12/12 [00:00<00:00, 165.40it/s]\n"
          ]
        },
        {
          "output_type": "stream",
          "name": "stdout",
          "text": [
            "Epoch 200/500\n",
            "Training Loss: 0.062549\n",
            "Validation Loss: 0.074486\n",
            "----------------------------------------\n"
          ]
        },
        {
          "output_type": "stream",
          "name": "stderr",
          "text": [
            "\n",
            "\n",
            "Epoch 201/500: 100%|██████████| 12/12 [00:00<00:00, 172.52it/s]\n"
          ]
        },
        {
          "output_type": "stream",
          "name": "stdout",
          "text": [
            "Epoch 201/500\n",
            "Training Loss: 0.065773\n",
            "Validation Loss: 0.073336\n",
            "----------------------------------------\n"
          ]
        },
        {
          "output_type": "stream",
          "name": "stderr",
          "text": [
            "\n",
            "\n",
            "Epoch 202/500: 100%|██████████| 12/12 [00:00<00:00, 174.77it/s]\n"
          ]
        },
        {
          "output_type": "stream",
          "name": "stdout",
          "text": [
            "Epoch 202/500\n",
            "Training Loss: 0.059457\n",
            "Validation Loss: 0.072745\n",
            "----------------------------------------\n"
          ]
        },
        {
          "output_type": "stream",
          "name": "stderr",
          "text": [
            "\n",
            "\n",
            "Epoch 203/500: 100%|██████████| 12/12 [00:00<00:00, 227.87it/s]\n"
          ]
        },
        {
          "output_type": "stream",
          "name": "stdout",
          "text": [
            "Epoch 203/500\n",
            "Training Loss: 0.065091\n",
            "Validation Loss: 0.075585\n",
            "----------------------------------------\n"
          ]
        },
        {
          "output_type": "stream",
          "name": "stderr",
          "text": [
            "\n",
            "\n",
            "Epoch 204/500: 100%|██████████| 12/12 [00:00<00:00, 243.29it/s]\n"
          ]
        },
        {
          "output_type": "stream",
          "name": "stdout",
          "text": [
            "Epoch 204/500\n",
            "Training Loss: 0.061034\n",
            "Validation Loss: 0.073025\n",
            "----------------------------------------\n"
          ]
        },
        {
          "output_type": "stream",
          "name": "stderr",
          "text": [
            "\n",
            "\n",
            "Epoch 205/500: 100%|██████████| 12/12 [00:00<00:00, 174.21it/s]\n"
          ]
        },
        {
          "output_type": "stream",
          "name": "stdout",
          "text": [
            "Epoch 205/500\n",
            "Training Loss: 0.063498\n",
            "Validation Loss: 0.074029\n",
            "----------------------------------------\n"
          ]
        },
        {
          "output_type": "stream",
          "name": "stderr",
          "text": [
            "\n",
            "\n",
            "Epoch 206/500: 100%|██████████| 12/12 [00:00<00:00, 242.89it/s]\n"
          ]
        },
        {
          "output_type": "stream",
          "name": "stdout",
          "text": [
            "Epoch 206/500\n",
            "Training Loss: 0.063836\n",
            "Validation Loss: 0.073437\n",
            "----------------------------------------\n"
          ]
        },
        {
          "output_type": "stream",
          "name": "stderr",
          "text": [
            "\n",
            "\n",
            "Epoch 207/500: 100%|██████████| 12/12 [00:00<00:00, 219.90it/s]\n"
          ]
        },
        {
          "output_type": "stream",
          "name": "stdout",
          "text": [
            "Epoch 207/500\n",
            "Training Loss: 0.058819\n",
            "Validation Loss: 0.073583\n",
            "----------------------------------------\n"
          ]
        },
        {
          "output_type": "stream",
          "name": "stderr",
          "text": [
            "\n",
            "\n",
            "Epoch 208/500: 100%|██████████| 12/12 [00:00<00:00, 214.37it/s]\n"
          ]
        },
        {
          "output_type": "stream",
          "name": "stdout",
          "text": [
            "Epoch 208/500\n",
            "Training Loss: 0.060940\n",
            "Validation Loss: 0.074070\n",
            "----------------------------------------\n"
          ]
        },
        {
          "output_type": "stream",
          "name": "stderr",
          "text": [
            "\n",
            "\n",
            "Epoch 209/500: 100%|██████████| 12/12 [00:00<00:00, 206.84it/s]\n"
          ]
        },
        {
          "output_type": "stream",
          "name": "stdout",
          "text": [
            "Epoch 209/500\n",
            "Training Loss: 0.063253\n",
            "Validation Loss: 0.072913\n",
            "----------------------------------------\n"
          ]
        },
        {
          "output_type": "stream",
          "name": "stderr",
          "text": [
            "\n",
            "\n",
            "Epoch 210/500: 100%|██████████| 12/12 [00:00<00:00, 193.01it/s]\n"
          ]
        },
        {
          "output_type": "stream",
          "name": "stdout",
          "text": [
            "Epoch 210/500\n",
            "Training Loss: 0.061347\n",
            "Validation Loss: 0.073211\n",
            "----------------------------------------\n"
          ]
        },
        {
          "output_type": "stream",
          "name": "stderr",
          "text": [
            "\n",
            "\n",
            "Epoch 211/500: 100%|██████████| 12/12 [00:00<00:00, 165.96it/s]\n"
          ]
        },
        {
          "output_type": "stream",
          "name": "stdout",
          "text": [
            "Epoch 211/500\n",
            "Training Loss: 0.060242\n",
            "Validation Loss: 0.073744\n",
            "----------------------------------------\n"
          ]
        },
        {
          "output_type": "stream",
          "name": "stderr",
          "text": [
            "\n",
            "\n",
            "Epoch 212/500: 100%|██████████| 12/12 [00:00<00:00, 177.99it/s]\n"
          ]
        },
        {
          "output_type": "stream",
          "name": "stdout",
          "text": [
            "Epoch 212/500\n",
            "Training Loss: 0.063043\n",
            "Validation Loss: 0.072029\n",
            "----------------------------------------\n"
          ]
        },
        {
          "output_type": "stream",
          "name": "stderr",
          "text": [
            "\n",
            "\n",
            "Epoch 213/500: 100%|██████████| 12/12 [00:00<00:00, 174.93it/s]\n"
          ]
        },
        {
          "output_type": "stream",
          "name": "stdout",
          "text": [
            "Epoch 213/500\n",
            "Training Loss: 0.060064\n",
            "Validation Loss: 0.074615\n",
            "----------------------------------------\n"
          ]
        },
        {
          "output_type": "stream",
          "name": "stderr",
          "text": [
            "\n",
            "\n",
            "Epoch 214/500: 100%|██████████| 12/12 [00:00<00:00, 175.81it/s]\n"
          ]
        },
        {
          "output_type": "stream",
          "name": "stdout",
          "text": [
            "Epoch 214/500\n",
            "Training Loss: 0.060579\n",
            "Validation Loss: 0.072482\n",
            "----------------------------------------\n"
          ]
        },
        {
          "output_type": "stream",
          "name": "stderr",
          "text": [
            "\n",
            "\n",
            "Epoch 215/500: 100%|██████████| 12/12 [00:00<00:00, 243.70it/s]\n"
          ]
        },
        {
          "output_type": "stream",
          "name": "stdout",
          "text": [
            "Epoch 215/500\n",
            "Training Loss: 0.060771\n",
            "Validation Loss: 0.072706\n",
            "----------------------------------------\n"
          ]
        },
        {
          "output_type": "stream",
          "name": "stderr",
          "text": [
            "\n",
            "\n",
            "Epoch 216/500: 100%|██████████| 12/12 [00:00<00:00, 222.81it/s]\n"
          ]
        },
        {
          "output_type": "stream",
          "name": "stdout",
          "text": [
            "Epoch 216/500\n",
            "Training Loss: 0.065517\n",
            "Validation Loss: 0.075064\n",
            "----------------------------------------\n"
          ]
        },
        {
          "output_type": "stream",
          "name": "stderr",
          "text": [
            "\n",
            "\n",
            "Epoch 217/500: 100%|██████████| 12/12 [00:00<00:00, 229.52it/s]\n"
          ]
        },
        {
          "output_type": "stream",
          "name": "stdout",
          "text": [
            "Epoch 217/500\n",
            "Training Loss: 0.063104\n",
            "Validation Loss: 0.071512\n",
            "----------------------------------------\n"
          ]
        },
        {
          "output_type": "stream",
          "name": "stderr",
          "text": [
            "\n",
            "\n",
            "Epoch 218/500: 100%|██████████| 12/12 [00:00<00:00, 196.37it/s]\n"
          ]
        },
        {
          "output_type": "stream",
          "name": "stdout",
          "text": [
            "Epoch 218/500\n",
            "Training Loss: 0.062925\n",
            "Validation Loss: 0.073698\n",
            "----------------------------------------\n"
          ]
        },
        {
          "output_type": "stream",
          "name": "stderr",
          "text": [
            "\n",
            "\n",
            "Epoch 219/500: 100%|██████████| 12/12 [00:00<00:00, 195.38it/s]\n"
          ]
        },
        {
          "output_type": "stream",
          "name": "stdout",
          "text": [
            "Epoch 219/500\n",
            "Training Loss: 0.060169\n",
            "Validation Loss: 0.072116\n",
            "----------------------------------------\n"
          ]
        },
        {
          "output_type": "stream",
          "name": "stderr",
          "text": [
            "\n",
            "\n",
            "Epoch 220/500: 100%|██████████| 12/12 [00:00<00:00, 211.62it/s]\n"
          ]
        },
        {
          "output_type": "stream",
          "name": "stdout",
          "text": [
            "Epoch 220/500\n",
            "Training Loss: 0.059377\n",
            "Validation Loss: 0.074992\n",
            "----------------------------------------\n"
          ]
        },
        {
          "output_type": "stream",
          "name": "stderr",
          "text": [
            "\n",
            "\n",
            "Epoch 221/500: 100%|██████████| 12/12 [00:00<00:00, 204.20it/s]\n"
          ]
        },
        {
          "output_type": "stream",
          "name": "stdout",
          "text": [
            "Epoch 221/500\n",
            "Training Loss: 0.060805\n",
            "Validation Loss: 0.071413\n",
            "----------------------------------------\n"
          ]
        },
        {
          "output_type": "stream",
          "name": "stderr",
          "text": [
            "\n",
            "\n",
            "Epoch 222/500: 100%|██████████| 12/12 [00:00<00:00, 204.44it/s]\n"
          ]
        },
        {
          "output_type": "stream",
          "name": "stdout",
          "text": [
            "Epoch 222/500\n",
            "Training Loss: 0.063474\n",
            "Validation Loss: 0.074069\n",
            "----------------------------------------\n"
          ]
        },
        {
          "output_type": "stream",
          "name": "stderr",
          "text": [
            "\n",
            "\n",
            "Epoch 223/500: 100%|██████████| 12/12 [00:00<00:00, 169.00it/s]\n"
          ]
        },
        {
          "output_type": "stream",
          "name": "stdout",
          "text": [
            "Epoch 223/500\n",
            "Training Loss: 0.064347\n",
            "Validation Loss: 0.073222\n",
            "----------------------------------------\n"
          ]
        },
        {
          "output_type": "stream",
          "name": "stderr",
          "text": [
            "\n",
            "\n",
            "Epoch 224/500: 100%|██████████| 12/12 [00:00<00:00, 155.90it/s]\n"
          ]
        },
        {
          "output_type": "stream",
          "name": "stdout",
          "text": [
            "Epoch 224/500\n",
            "Training Loss: 0.063033\n",
            "Validation Loss: 0.074043\n",
            "----------------------------------------\n"
          ]
        },
        {
          "output_type": "stream",
          "name": "stderr",
          "text": [
            "\n",
            "\n",
            "Epoch 225/500: 100%|██████████| 12/12 [00:00<00:00, 176.62it/s]\n"
          ]
        },
        {
          "output_type": "stream",
          "name": "stdout",
          "text": [
            "Epoch 225/500\n",
            "Training Loss: 0.061716\n",
            "Validation Loss: 0.075068\n",
            "----------------------------------------\n"
          ]
        },
        {
          "output_type": "stream",
          "name": "stderr",
          "text": [
            "\n",
            "\n",
            "Epoch 226/500: 100%|██████████| 12/12 [00:00<00:00, 153.50it/s]\n"
          ]
        },
        {
          "output_type": "stream",
          "name": "stdout",
          "text": [
            "Epoch 226/500\n",
            "Training Loss: 0.060814\n",
            "Validation Loss: 0.071680\n",
            "----------------------------------------\n"
          ]
        },
        {
          "output_type": "stream",
          "name": "stderr",
          "text": [
            "\n",
            "\n",
            "Epoch 227/500: 100%|██████████| 12/12 [00:00<00:00, 172.81it/s]\n"
          ]
        },
        {
          "output_type": "stream",
          "name": "stdout",
          "text": [
            "Epoch 227/500\n",
            "Training Loss: 0.059679\n",
            "Validation Loss: 0.074453\n",
            "----------------------------------------\n"
          ]
        },
        {
          "output_type": "stream",
          "name": "stderr",
          "text": [
            "\n",
            "\n",
            "Epoch 228/500: 100%|██████████| 12/12 [00:00<00:00, 203.21it/s]\n"
          ]
        },
        {
          "output_type": "stream",
          "name": "stdout",
          "text": [
            "Epoch 228/500\n",
            "Training Loss: 0.062098\n",
            "Validation Loss: 0.072429\n",
            "----------------------------------------\n"
          ]
        },
        {
          "output_type": "stream",
          "name": "stderr",
          "text": [
            "\n",
            "\n",
            "Epoch 229/500: 100%|██████████| 12/12 [00:00<00:00, 228.06it/s]\n"
          ]
        },
        {
          "output_type": "stream",
          "name": "stdout",
          "text": [
            "Epoch 229/500\n",
            "Training Loss: 0.060447\n",
            "Validation Loss: 0.073695\n",
            "----------------------------------------\n"
          ]
        },
        {
          "output_type": "stream",
          "name": "stderr",
          "text": [
            "\n",
            "\n",
            "Epoch 230/500: 100%|██████████| 12/12 [00:00<00:00, 154.76it/s]\n"
          ]
        },
        {
          "output_type": "stream",
          "name": "stdout",
          "text": [
            "Epoch 230/500\n",
            "Training Loss: 0.060703\n",
            "Validation Loss: 0.071878\n",
            "----------------------------------------\n"
          ]
        },
        {
          "output_type": "stream",
          "name": "stderr",
          "text": [
            "\n",
            "\n",
            "Epoch 231/500: 100%|██████████| 12/12 [00:00<00:00, 166.25it/s]\n"
          ]
        },
        {
          "output_type": "stream",
          "name": "stdout",
          "text": [
            "Epoch 231/500\n",
            "Training Loss: 0.061798\n",
            "Validation Loss: 0.074865\n",
            "----------------------------------------\n"
          ]
        },
        {
          "output_type": "stream",
          "name": "stderr",
          "text": [
            "\n",
            "\n",
            "Epoch 232/500: 100%|██████████| 12/12 [00:00<00:00, 168.09it/s]\n"
          ]
        },
        {
          "output_type": "stream",
          "name": "stdout",
          "text": [
            "Epoch 232/500\n",
            "Training Loss: 0.060620\n",
            "Validation Loss: 0.073096\n",
            "----------------------------------------\n"
          ]
        },
        {
          "output_type": "stream",
          "name": "stderr",
          "text": [
            "\n",
            "\n",
            "Epoch 233/500: 100%|██████████| 12/12 [00:00<00:00, 156.17it/s]\n"
          ]
        },
        {
          "output_type": "stream",
          "name": "stdout",
          "text": [
            "Epoch 233/500\n",
            "Training Loss: 0.062483\n",
            "Validation Loss: 0.074153\n",
            "----------------------------------------\n"
          ]
        },
        {
          "output_type": "stream",
          "name": "stderr",
          "text": [
            "\n",
            "\n",
            "Epoch 234/500: 100%|██████████| 12/12 [00:00<00:00, 140.46it/s]"
          ]
        },
        {
          "output_type": "stream",
          "name": "stdout",
          "text": [
            "Epoch 234/500"
          ]
        },
        {
          "output_type": "stream",
          "name": "stderr",
          "text": [
            "\n"
          ]
        },
        {
          "output_type": "stream",
          "name": "stdout",
          "text": [
            "\n",
            "Training Loss: 0.063064\n",
            "Validation Loss: 0.072653\n",
            "----------------------------------------\n"
          ]
        },
        {
          "output_type": "stream",
          "name": "stderr",
          "text": [
            "\n",
            "\n",
            "Epoch 235/500:   0%|          | 0/12 [00:00<?, ?it/s]\u001b[A\u001b[A\n",
            "\n",
            "Epoch 235/500: 100%|██████████| 12/12 [00:00<00:00, 104.12it/s]\n"
          ]
        },
        {
          "output_type": "stream",
          "name": "stdout",
          "text": [
            "Epoch 235/500\n",
            "Training Loss: 0.062345\n",
            "Validation Loss: 0.073700\n",
            "----------------------------------------\n"
          ]
        },
        {
          "output_type": "stream",
          "name": "stderr",
          "text": [
            "\n",
            "\n",
            "Epoch 236/500:   0%|          | 0/12 [00:00<?, ?it/s]\u001b[A\u001b[A\n",
            "\n",
            "Epoch 236/500: 100%|██████████| 12/12 [00:00<00:00, 104.71it/s]\n"
          ]
        },
        {
          "output_type": "stream",
          "name": "stdout",
          "text": [
            "Epoch 236/500\n",
            "Training Loss: 0.062860\n",
            "Validation Loss: 0.073334\n",
            "----------------------------------------\n"
          ]
        },
        {
          "output_type": "stream",
          "name": "stderr",
          "text": [
            "\n",
            "\n",
            "Epoch 237/500: 100%|██████████| 12/12 [00:00<00:00, 136.13it/s]\n"
          ]
        },
        {
          "output_type": "stream",
          "name": "stdout",
          "text": [
            "Epoch 237/500\n",
            "Training Loss: 0.062235\n",
            "Validation Loss: 0.073555\n",
            "----------------------------------------\n"
          ]
        },
        {
          "output_type": "stream",
          "name": "stderr",
          "text": [
            "\n",
            "\n",
            "Epoch 238/500: 100%|██████████| 12/12 [00:00<00:00, 147.97it/s]\n"
          ]
        },
        {
          "output_type": "stream",
          "name": "stdout",
          "text": [
            "Epoch 238/500\n",
            "Training Loss: 0.062497\n",
            "Validation Loss: 0.072511\n",
            "----------------------------------------\n"
          ]
        },
        {
          "output_type": "stream",
          "name": "stderr",
          "text": [
            "\n",
            "\n",
            "Epoch 239/500: 100%|██████████| 12/12 [00:00<00:00, 196.87it/s]\n"
          ]
        },
        {
          "output_type": "stream",
          "name": "stdout",
          "text": [
            "Epoch 239/500\n",
            "Training Loss: 0.060138\n",
            "Validation Loss: 0.073780\n",
            "----------------------------------------\n"
          ]
        },
        {
          "output_type": "stream",
          "name": "stderr",
          "text": [
            "\n",
            "\n",
            "Epoch 240/500: 100%|██████████| 12/12 [00:00<00:00, 176.74it/s]\n"
          ]
        },
        {
          "output_type": "stream",
          "name": "stdout",
          "text": [
            "Epoch 240/500\n",
            "Training Loss: 0.061897\n",
            "Validation Loss: 0.072810\n",
            "----------------------------------------\n"
          ]
        },
        {
          "output_type": "stream",
          "name": "stderr",
          "text": [
            "\n",
            "\n",
            "Epoch 241/500: 100%|██████████| 12/12 [00:00<00:00, 158.30it/s]\n"
          ]
        },
        {
          "output_type": "stream",
          "name": "stdout",
          "text": [
            "Epoch 241/500\n",
            "Training Loss: 0.062641\n",
            "Validation Loss: 0.073941\n",
            "----------------------------------------\n"
          ]
        },
        {
          "output_type": "stream",
          "name": "stderr",
          "text": [
            "\n",
            "\n",
            "Epoch 242/500: 100%|██████████| 12/12 [00:00<00:00, 161.06it/s]\n"
          ]
        },
        {
          "output_type": "stream",
          "name": "stdout",
          "text": [
            "Epoch 242/500\n",
            "Training Loss: 0.061040\n",
            "Validation Loss: 0.073239\n",
            "----------------------------------------\n"
          ]
        },
        {
          "output_type": "stream",
          "name": "stderr",
          "text": [
            "\n",
            "\n",
            "Epoch 243/500: 100%|██████████| 12/12 [00:00<00:00, 183.97it/s]\n"
          ]
        },
        {
          "output_type": "stream",
          "name": "stdout",
          "text": [
            "Epoch 243/500\n",
            "Training Loss: 0.062488\n",
            "Validation Loss: 0.073656\n",
            "----------------------------------------\n"
          ]
        },
        {
          "output_type": "stream",
          "name": "stderr",
          "text": [
            "\n",
            "\n",
            "Epoch 244/500: 100%|██████████| 12/12 [00:00<00:00, 144.62it/s]\n"
          ]
        },
        {
          "output_type": "stream",
          "name": "stdout",
          "text": [
            "Epoch 244/500\n",
            "Training Loss: 0.060987\n",
            "Validation Loss: 0.072416\n",
            "----------------------------------------\n"
          ]
        },
        {
          "output_type": "stream",
          "name": "stderr",
          "text": [
            "\n",
            "\n",
            "Epoch 245/500: 100%|██████████| 12/12 [00:00<00:00, 117.50it/s]\n"
          ]
        },
        {
          "output_type": "stream",
          "name": "stdout",
          "text": [
            "Epoch 245/500\n",
            "Training Loss: 0.062305\n",
            "Validation Loss: 0.074843\n",
            "----------------------------------------\n"
          ]
        },
        {
          "output_type": "stream",
          "name": "stderr",
          "text": [
            "\n",
            "\n",
            "Epoch 246/500: 100%|██████████| 12/12 [00:00<00:00, 119.78it/s]\n"
          ]
        },
        {
          "output_type": "stream",
          "name": "stdout",
          "text": [
            "Epoch 246/500\n",
            "Training Loss: 0.060118\n",
            "Validation Loss: 0.071325\n",
            "----------------------------------------\n"
          ]
        },
        {
          "output_type": "stream",
          "name": "stderr",
          "text": [
            "\n",
            "\n",
            "Epoch 247/500: 100%|██████████| 12/12 [00:00<00:00, 133.30it/s]\n"
          ]
        },
        {
          "output_type": "stream",
          "name": "stdout",
          "text": [
            "Epoch 247/500\n",
            "Training Loss: 0.062394\n",
            "Validation Loss: 0.074349\n",
            "----------------------------------------\n"
          ]
        },
        {
          "output_type": "stream",
          "name": "stderr",
          "text": [
            "\n",
            "\n",
            "Epoch 248/500: 100%|██████████| 12/12 [00:00<00:00, 182.95it/s]\n"
          ]
        },
        {
          "output_type": "stream",
          "name": "stdout",
          "text": [
            "Epoch 248/500\n",
            "Training Loss: 0.061013\n",
            "Validation Loss: 0.071386\n",
            "----------------------------------------\n"
          ]
        },
        {
          "output_type": "stream",
          "name": "stderr",
          "text": [
            "\n",
            "\n",
            "Epoch 249/500: 100%|██████████| 12/12 [00:00<00:00, 174.60it/s]\n"
          ]
        },
        {
          "output_type": "stream",
          "name": "stdout",
          "text": [
            "Epoch 249/500\n",
            "Training Loss: 0.059841\n",
            "Validation Loss: 0.073285\n",
            "----------------------------------------\n"
          ]
        },
        {
          "output_type": "stream",
          "name": "stderr",
          "text": [
            "\n",
            "\n",
            "Epoch 250/500: 100%|██████████| 12/12 [00:00<00:00, 198.19it/s]\n"
          ]
        },
        {
          "output_type": "stream",
          "name": "stdout",
          "text": [
            "Epoch 250/500\n",
            "Training Loss: 0.060688\n",
            "Validation Loss: 0.073790\n",
            "----------------------------------------\n"
          ]
        },
        {
          "output_type": "stream",
          "name": "stderr",
          "text": [
            "\n",
            "\n",
            "Epoch 251/500: 100%|██████████| 12/12 [00:00<00:00, 161.89it/s]\n"
          ]
        },
        {
          "output_type": "stream",
          "name": "stdout",
          "text": [
            "Epoch 251/500\n",
            "Training Loss: 0.062248\n",
            "Validation Loss: 0.071593\n",
            "----------------------------------------\n"
          ]
        },
        {
          "output_type": "stream",
          "name": "stderr",
          "text": [
            "\n",
            "\n",
            "Epoch 252/500: 100%|██████████| 12/12 [00:00<00:00, 123.59it/s]\n"
          ]
        },
        {
          "output_type": "stream",
          "name": "stdout",
          "text": [
            "Epoch 252/500\n",
            "Training Loss: 0.060478\n",
            "Validation Loss: 0.074185\n",
            "----------------------------------------\n"
          ]
        },
        {
          "output_type": "stream",
          "name": "stderr",
          "text": [
            "\n",
            "\n",
            "Epoch 253/500: 100%|██████████| 12/12 [00:00<00:00, 190.46it/s]\n"
          ]
        },
        {
          "output_type": "stream",
          "name": "stdout",
          "text": [
            "Epoch 253/500\n",
            "Training Loss: 0.059715\n",
            "Validation Loss: 0.072657\n",
            "----------------------------------------\n"
          ]
        },
        {
          "output_type": "stream",
          "name": "stderr",
          "text": [
            "\n",
            "\n",
            "Epoch 254/500: 100%|██████████| 12/12 [00:00<00:00, 160.19it/s]\n"
          ]
        },
        {
          "output_type": "stream",
          "name": "stdout",
          "text": [
            "Epoch 254/500\n",
            "Training Loss: 0.058977\n",
            "Validation Loss: 0.072587\n",
            "----------------------------------------\n"
          ]
        },
        {
          "output_type": "stream",
          "name": "stderr",
          "text": [
            "\n",
            "\n",
            "Epoch 255/500:   0%|          | 0/12 [00:00<?, ?it/s]\u001b[A\u001b[A\n",
            "\n",
            "Epoch 255/500: 100%|██████████| 12/12 [00:00<00:00, 88.41it/s] \n"
          ]
        },
        {
          "output_type": "stream",
          "name": "stdout",
          "text": [
            "Epoch 255/500\n",
            "Training Loss: 0.059268\n",
            "Validation Loss: 0.072985\n",
            "----------------------------------------\n"
          ]
        },
        {
          "output_type": "stream",
          "name": "stderr",
          "text": [
            "\n",
            "\n",
            "Epoch 256/500: 100%|██████████| 12/12 [00:00<00:00, 139.99it/s]\n"
          ]
        },
        {
          "output_type": "stream",
          "name": "stdout",
          "text": [
            "Epoch 256/500\n",
            "Training Loss: 0.062332\n",
            "Validation Loss: 0.072366\n",
            "----------------------------------------\n"
          ]
        },
        {
          "output_type": "stream",
          "name": "stderr",
          "text": [
            "\n",
            "\n",
            "Epoch 257/500: 100%|██████████| 12/12 [00:00<00:00, 148.72it/s]\n"
          ]
        },
        {
          "output_type": "stream",
          "name": "stdout",
          "text": [
            "Epoch 257/500\n",
            "Training Loss: 0.062000\n",
            "Validation Loss: 0.074247\n",
            "----------------------------------------\n"
          ]
        },
        {
          "output_type": "stream",
          "name": "stderr",
          "text": [
            "\n",
            "\n",
            "Epoch 258/500: 100%|██████████| 12/12 [00:00<00:00, 138.70it/s]\n"
          ]
        },
        {
          "output_type": "stream",
          "name": "stdout",
          "text": [
            "Epoch 258/500\n",
            "Training Loss: 0.058206\n",
            "Validation Loss: 0.072597\n",
            "----------------------------------------\n"
          ]
        },
        {
          "output_type": "stream",
          "name": "stderr",
          "text": [
            "\n",
            "\n",
            "Epoch 259/500: 100%|██████████| 12/12 [00:00<00:00, 182.48it/s]\n"
          ]
        },
        {
          "output_type": "stream",
          "name": "stdout",
          "text": [
            "Epoch 259/500\n",
            "Training Loss: 0.061468\n",
            "Validation Loss: 0.074490\n",
            "----------------------------------------\n"
          ]
        },
        {
          "output_type": "stream",
          "name": "stderr",
          "text": [
            "\n",
            "\n",
            "Epoch 260/500: 100%|██████████| 12/12 [00:00<00:00, 168.40it/s]\n"
          ]
        },
        {
          "output_type": "stream",
          "name": "stdout",
          "text": [
            "Epoch 260/500\n",
            "Training Loss: 0.061737\n",
            "Validation Loss: 0.072601\n",
            "----------------------------------------\n"
          ]
        },
        {
          "output_type": "stream",
          "name": "stderr",
          "text": [
            "\n",
            "\n",
            "Epoch 261/500: 100%|██████████| 12/12 [00:00<00:00, 172.21it/s]\n"
          ]
        },
        {
          "output_type": "stream",
          "name": "stdout",
          "text": [
            "Epoch 261/500\n",
            "Training Loss: 0.063021\n",
            "Validation Loss: 0.073533\n",
            "----------------------------------------\n"
          ]
        },
        {
          "output_type": "stream",
          "name": "stderr",
          "text": [
            "\n",
            "\n",
            "Epoch 262/500: 100%|██████████| 12/12 [00:00<00:00, 138.94it/s]\n"
          ]
        },
        {
          "output_type": "stream",
          "name": "stdout",
          "text": [
            "Epoch 262/500\n",
            "Training Loss: 0.061212\n",
            "Validation Loss: 0.073506\n",
            "----------------------------------------\n"
          ]
        },
        {
          "output_type": "stream",
          "name": "stderr",
          "text": [
            "\n",
            "\n",
            "Epoch 263/500: 100%|██████████| 12/12 [00:00<00:00, 124.34it/s]\n"
          ]
        },
        {
          "output_type": "stream",
          "name": "stdout",
          "text": [
            "Epoch 263/500\n",
            "Training Loss: 0.060266\n",
            "Validation Loss: 0.073118\n",
            "----------------------------------------\n"
          ]
        },
        {
          "output_type": "stream",
          "name": "stderr",
          "text": [
            "\n",
            "\n",
            "Epoch 264/500:   0%|          | 0/12 [00:00<?, ?it/s]\u001b[A\u001b[A\n",
            "\n",
            "Epoch 264/500: 100%|██████████| 12/12 [00:00<00:00, 103.66it/s]\n"
          ]
        },
        {
          "output_type": "stream",
          "name": "stdout",
          "text": [
            "Epoch 264/500\n",
            "Training Loss: 0.062100\n",
            "Validation Loss: 0.073949\n",
            "----------------------------------------\n"
          ]
        },
        {
          "output_type": "stream",
          "name": "stderr",
          "text": [
            "\n",
            "\n",
            "Epoch 265/500: 100%|██████████| 12/12 [00:00<00:00, 119.10it/s]\n"
          ]
        },
        {
          "output_type": "stream",
          "name": "stdout",
          "text": [
            "Epoch 265/500\n",
            "Training Loss: 0.062206\n",
            "Validation Loss: 0.071928\n",
            "----------------------------------------\n"
          ]
        },
        {
          "output_type": "stream",
          "name": "stderr",
          "text": [
            "\n",
            "\n",
            "Epoch 266/500: 100%|██████████| 12/12 [00:00<00:00, 118.60it/s]\n"
          ]
        },
        {
          "output_type": "stream",
          "name": "stdout",
          "text": [
            "Epoch 266/500\n",
            "Training Loss: 0.061796\n",
            "Validation Loss: 0.072826\n",
            "----------------------------------------\n"
          ]
        },
        {
          "output_type": "stream",
          "name": "stderr",
          "text": [
            "\n",
            "\n",
            "Epoch 267/500: 100%|██████████| 12/12 [00:00<00:00, 140.75it/s]\n"
          ]
        },
        {
          "output_type": "stream",
          "name": "stdout",
          "text": [
            "Epoch 267/500\n",
            "Training Loss: 0.060782\n",
            "Validation Loss: 0.072686\n",
            "----------------------------------------\n"
          ]
        },
        {
          "output_type": "stream",
          "name": "stderr",
          "text": [
            "\n",
            "\n",
            "Epoch 268/500: 100%|██████████| 12/12 [00:00<00:00, 125.15it/s]\n"
          ]
        },
        {
          "output_type": "stream",
          "name": "stdout",
          "text": [
            "Epoch 268/500\n",
            "Training Loss: 0.060907\n",
            "Validation Loss: 0.071423\n",
            "----------------------------------------\n"
          ]
        },
        {
          "output_type": "stream",
          "name": "stderr",
          "text": [
            "\n",
            "\n",
            "Epoch 269/500: 100%|██████████| 12/12 [00:00<00:00, 178.20it/s]\n"
          ]
        },
        {
          "output_type": "stream",
          "name": "stdout",
          "text": [
            "Epoch 269/500\n",
            "Training Loss: 0.061412\n",
            "Validation Loss: 0.073085\n",
            "----------------------------------------\n"
          ]
        },
        {
          "output_type": "stream",
          "name": "stderr",
          "text": [
            "\n",
            "\n",
            "Epoch 270/500: 100%|██████████| 12/12 [00:00<00:00, 170.25it/s]\n"
          ]
        },
        {
          "output_type": "stream",
          "name": "stdout",
          "text": [
            "Epoch 270/500\n",
            "Training Loss: 0.060160\n",
            "Validation Loss: 0.072811\n",
            "----------------------------------------\n"
          ]
        },
        {
          "output_type": "stream",
          "name": "stderr",
          "text": [
            "\n",
            "\n",
            "Epoch 271/500: 100%|██████████| 12/12 [00:00<00:00, 145.63it/s]\n"
          ]
        },
        {
          "output_type": "stream",
          "name": "stdout",
          "text": [
            "Epoch 271/500\n",
            "Training Loss: 0.061663\n",
            "Validation Loss: 0.073700\n",
            "----------------------------------------\n"
          ]
        },
        {
          "output_type": "stream",
          "name": "stderr",
          "text": [
            "\n",
            "\n",
            "Epoch 272/500:   0%|          | 0/12 [00:00<?, ?it/s]\u001b[A\u001b[A\n",
            "\n",
            "Epoch 272/500: 100%|██████████| 12/12 [00:00<00:00, 98.94it/s] \n"
          ]
        },
        {
          "output_type": "stream",
          "name": "stdout",
          "text": [
            "Epoch 272/500\n",
            "Training Loss: 0.059806\n",
            "Validation Loss: 0.072576\n",
            "----------------------------------------\n"
          ]
        },
        {
          "output_type": "stream",
          "name": "stderr",
          "text": [
            "\n",
            "\n",
            "Epoch 273/500: 100%|██████████| 12/12 [00:00<00:00, 139.22it/s]\n"
          ]
        },
        {
          "output_type": "stream",
          "name": "stdout",
          "text": [
            "Epoch 273/500\n",
            "Training Loss: 0.064018\n",
            "Validation Loss: 0.073566\n",
            "----------------------------------------\n"
          ]
        },
        {
          "output_type": "stream",
          "name": "stderr",
          "text": [
            "\n",
            "\n",
            "Epoch 274/500: 100%|██████████| 12/12 [00:00<00:00, 160.38it/s]\n"
          ]
        },
        {
          "output_type": "stream",
          "name": "stdout",
          "text": [
            "Epoch 274/500\n",
            "Training Loss: 0.063280\n",
            "Validation Loss: 0.074407\n",
            "----------------------------------------\n"
          ]
        },
        {
          "output_type": "stream",
          "name": "stderr",
          "text": [
            "\n",
            "\n",
            "Epoch 275/500: 100%|██████████| 12/12 [00:00<00:00, 178.81it/s]\n"
          ]
        },
        {
          "output_type": "stream",
          "name": "stdout",
          "text": [
            "Epoch 275/500\n",
            "Training Loss: 0.061760\n",
            "Validation Loss: 0.073724\n",
            "----------------------------------------\n"
          ]
        },
        {
          "output_type": "stream",
          "name": "stderr",
          "text": [
            "\n",
            "\n",
            "Epoch 276/500: 100%|██████████| 12/12 [00:00<00:00, 180.17it/s]\n"
          ]
        },
        {
          "output_type": "stream",
          "name": "stdout",
          "text": [
            "Epoch 276/500\n",
            "Training Loss: 0.059509\n",
            "Validation Loss: 0.073498\n",
            "----------------------------------------\n"
          ]
        },
        {
          "output_type": "stream",
          "name": "stderr",
          "text": [
            "\n",
            "\n",
            "Epoch 277/500: 100%|██████████| 12/12 [00:00<00:00, 167.41it/s]\n"
          ]
        },
        {
          "output_type": "stream",
          "name": "stdout",
          "text": [
            "Epoch 277/500\n",
            "Training Loss: 0.060438\n",
            "Validation Loss: 0.073281\n",
            "----------------------------------------\n"
          ]
        },
        {
          "output_type": "stream",
          "name": "stderr",
          "text": [
            "\n",
            "\n",
            "Epoch 278/500: 100%|██████████| 12/12 [00:00<00:00, 181.90it/s]\n"
          ]
        },
        {
          "output_type": "stream",
          "name": "stdout",
          "text": [
            "Epoch 278/500\n",
            "Training Loss: 0.063325\n",
            "Validation Loss: 0.074841\n",
            "----------------------------------------\n"
          ]
        },
        {
          "output_type": "stream",
          "name": "stderr",
          "text": [
            "\n",
            "\n",
            "Epoch 279/500: 100%|██████████| 12/12 [00:00<00:00, 174.84it/s]\n"
          ]
        },
        {
          "output_type": "stream",
          "name": "stdout",
          "text": [
            "Epoch 279/500\n",
            "Training Loss: 0.061078\n",
            "Validation Loss: 0.071109\n",
            "----------------------------------------\n"
          ]
        },
        {
          "output_type": "stream",
          "name": "stderr",
          "text": [
            "\n",
            "\n",
            "Epoch 280/500: 100%|██████████| 12/12 [00:00<00:00, 170.63it/s]\n"
          ]
        },
        {
          "output_type": "stream",
          "name": "stdout",
          "text": [
            "Epoch 280/500\n",
            "Training Loss: 0.060607\n",
            "Validation Loss: 0.075577\n",
            "----------------------------------------\n"
          ]
        },
        {
          "output_type": "stream",
          "name": "stderr",
          "text": [
            "\n",
            "\n",
            "Epoch 281/500: 100%|██████████| 12/12 [00:00<00:00, 181.72it/s]\n"
          ]
        },
        {
          "output_type": "stream",
          "name": "stdout",
          "text": [
            "Epoch 281/500\n",
            "Training Loss: 0.059407\n",
            "Validation Loss: 0.072746\n",
            "----------------------------------------\n"
          ]
        },
        {
          "output_type": "stream",
          "name": "stderr",
          "text": [
            "\n",
            "\n",
            "Epoch 282/500: 100%|██████████| 12/12 [00:00<00:00, 169.77it/s]\n"
          ]
        },
        {
          "output_type": "stream",
          "name": "stdout",
          "text": [
            "Epoch 282/500\n",
            "Training Loss: 0.062474\n",
            "Validation Loss: 0.074580\n",
            "----------------------------------------\n"
          ]
        },
        {
          "output_type": "stream",
          "name": "stderr",
          "text": [
            "\n",
            "\n",
            "Epoch 283/500:   0%|          | 0/12 [00:00<?, ?it/s]\u001b[A\u001b[A\n",
            "\n",
            "Epoch 283/500: 100%|██████████| 12/12 [00:00<00:00, 101.72it/s]\n"
          ]
        },
        {
          "output_type": "stream",
          "name": "stdout",
          "text": [
            "Epoch 283/500\n",
            "Training Loss: 0.060468\n",
            "Validation Loss: 0.071360\n",
            "----------------------------------------\n"
          ]
        },
        {
          "output_type": "stream",
          "name": "stderr",
          "text": [
            "\n",
            "\n",
            "Epoch 284/500:   0%|          | 0/12 [00:00<?, ?it/s]\u001b[A\u001b[A\n",
            "\n",
            "Epoch 284/500: 100%|██████████| 12/12 [00:00<00:00, 104.85it/s]\n"
          ]
        },
        {
          "output_type": "stream",
          "name": "stdout",
          "text": [
            "Epoch 284/500\n",
            "Training Loss: 0.062363\n",
            "Validation Loss: 0.075122\n",
            "----------------------------------------\n"
          ]
        },
        {
          "output_type": "stream",
          "name": "stderr",
          "text": [
            "\n",
            "\n",
            "Epoch 285/500:   0%|          | 0/12 [00:00<?, ?it/s]\u001b[A\u001b[A\n",
            "\n",
            "Epoch 285/500: 100%|██████████| 12/12 [00:00<00:00, 97.07it/s] \n"
          ]
        },
        {
          "output_type": "stream",
          "name": "stdout",
          "text": [
            "Epoch 285/500\n",
            "Training Loss: 0.061455\n",
            "Validation Loss: 0.072491\n",
            "----------------------------------------\n"
          ]
        },
        {
          "output_type": "stream",
          "name": "stderr",
          "text": [
            "\n",
            "\n",
            "Epoch 286/500: 100%|██████████| 12/12 [00:00<00:00, 124.82it/s]\n"
          ]
        },
        {
          "output_type": "stream",
          "name": "stdout",
          "text": [
            "Epoch 286/500\n",
            "Training Loss: 0.061222\n",
            "Validation Loss: 0.074151\n",
            "----------------------------------------\n"
          ]
        },
        {
          "output_type": "stream",
          "name": "stderr",
          "text": [
            "\n",
            "\n",
            "Epoch 287/500: 100%|██████████| 12/12 [00:00<00:00, 124.20it/s]\n"
          ]
        },
        {
          "output_type": "stream",
          "name": "stdout",
          "text": [
            "Epoch 287/500\n",
            "Training Loss: 0.061241\n",
            "Validation Loss: 0.072239\n",
            "----------------------------------------\n"
          ]
        },
        {
          "output_type": "stream",
          "name": "stderr",
          "text": [
            "\n",
            "\n",
            "Epoch 288/500: 100%|██████████| 12/12 [00:00<00:00, 132.22it/s]\n"
          ]
        },
        {
          "output_type": "stream",
          "name": "stdout",
          "text": [
            "Epoch 288/500\n",
            "Training Loss: 0.062810\n",
            "Validation Loss: 0.073506\n",
            "----------------------------------------\n"
          ]
        },
        {
          "output_type": "stream",
          "name": "stderr",
          "text": [
            "\n",
            "\n",
            "Epoch 289/500: 100%|██████████| 12/12 [00:00<00:00, 183.57it/s]\n"
          ]
        },
        {
          "output_type": "stream",
          "name": "stdout",
          "text": [
            "Epoch 289/500\n",
            "Training Loss: 0.060017\n",
            "Validation Loss: 0.072516\n",
            "----------------------------------------\n"
          ]
        },
        {
          "output_type": "stream",
          "name": "stderr",
          "text": [
            "\n",
            "\n",
            "Epoch 290/500: 100%|██████████| 12/12 [00:00<00:00, 184.85it/s]\n"
          ]
        },
        {
          "output_type": "stream",
          "name": "stdout",
          "text": [
            "Epoch 290/500\n",
            "Training Loss: 0.061393\n",
            "Validation Loss: 0.072301\n",
            "----------------------------------------\n"
          ]
        },
        {
          "output_type": "stream",
          "name": "stderr",
          "text": [
            "\n",
            "\n",
            "Epoch 291/500:   0%|          | 0/12 [00:00<?, ?it/s]\u001b[A\u001b[A\n",
            "\n",
            "Epoch 291/500: 100%|██████████| 12/12 [00:00<00:00, 108.10it/s]\n"
          ]
        },
        {
          "output_type": "stream",
          "name": "stdout",
          "text": [
            "Epoch 291/500\n",
            "Training Loss: 0.061986\n",
            "Validation Loss: 0.072567\n",
            "----------------------------------------\n"
          ]
        },
        {
          "output_type": "stream",
          "name": "stderr",
          "text": [
            "\n",
            "\n",
            "Epoch 292/500: 100%|██████████| 12/12 [00:00<00:00, 132.20it/s]\n"
          ]
        },
        {
          "output_type": "stream",
          "name": "stdout",
          "text": [
            "Epoch 292/500\n",
            "Training Loss: 0.059937\n",
            "Validation Loss: 0.071924\n",
            "----------------------------------------\n"
          ]
        },
        {
          "output_type": "stream",
          "name": "stderr",
          "text": [
            "\n",
            "\n",
            "Epoch 293/500: 100%|██████████| 12/12 [00:00<00:00, 218.15it/s]\n"
          ]
        },
        {
          "output_type": "stream",
          "name": "stdout",
          "text": [
            "Epoch 293/500\n",
            "Training Loss: 0.060459\n",
            "Validation Loss: 0.073100\n",
            "----------------------------------------\n"
          ]
        },
        {
          "output_type": "stream",
          "name": "stderr",
          "text": [
            "\n",
            "\n",
            "Epoch 294/500: 100%|██████████| 12/12 [00:00<00:00, 197.53it/s]\n"
          ]
        },
        {
          "output_type": "stream",
          "name": "stdout",
          "text": [
            "Epoch 294/500\n",
            "Training Loss: 0.061066\n",
            "Validation Loss: 0.073633\n",
            "----------------------------------------\n"
          ]
        },
        {
          "output_type": "stream",
          "name": "stderr",
          "text": [
            "\n",
            "\n",
            "Epoch 295/500: 100%|██████████| 12/12 [00:00<00:00, 222.64it/s]\n"
          ]
        },
        {
          "output_type": "stream",
          "name": "stdout",
          "text": [
            "Epoch 295/500\n",
            "Training Loss: 0.059302\n",
            "Validation Loss: 0.072733\n",
            "----------------------------------------\n"
          ]
        },
        {
          "output_type": "stream",
          "name": "stderr",
          "text": [
            "\n",
            "\n",
            "Epoch 296/500: 100%|██████████| 12/12 [00:00<00:00, 200.57it/s]\n"
          ]
        },
        {
          "output_type": "stream",
          "name": "stdout",
          "text": [
            "Epoch 296/500\n",
            "Training Loss: 0.061646\n",
            "Validation Loss: 0.071887\n",
            "----------------------------------------\n"
          ]
        },
        {
          "output_type": "stream",
          "name": "stderr",
          "text": [
            "\n",
            "\n",
            "Epoch 297/500: 100%|██████████| 12/12 [00:00<00:00, 216.31it/s]\n"
          ]
        },
        {
          "output_type": "stream",
          "name": "stdout",
          "text": [
            "Epoch 297/500\n",
            "Training Loss: 0.062034\n",
            "Validation Loss: 0.072703\n",
            "----------------------------------------\n"
          ]
        },
        {
          "output_type": "stream",
          "name": "stderr",
          "text": [
            "\n",
            "\n",
            "Epoch 298/500: 100%|██████████| 12/12 [00:00<00:00, 209.83it/s]\n"
          ]
        },
        {
          "output_type": "stream",
          "name": "stdout",
          "text": [
            "Epoch 298/500\n",
            "Training Loss: 0.059956\n",
            "Validation Loss: 0.071291\n",
            "----------------------------------------\n"
          ]
        },
        {
          "output_type": "stream",
          "name": "stderr",
          "text": [
            "\n",
            "\n",
            "Epoch 299/500: 100%|██████████| 12/12 [00:00<00:00, 221.20it/s]\n"
          ]
        },
        {
          "output_type": "stream",
          "name": "stdout",
          "text": [
            "Epoch 299/500\n",
            "Training Loss: 0.060350\n",
            "Validation Loss: 0.075153\n",
            "----------------------------------------\n"
          ]
        },
        {
          "output_type": "stream",
          "name": "stderr",
          "text": [
            "\n",
            "\n",
            "Epoch 300/500: 100%|██████████| 12/12 [00:00<00:00, 192.31it/s]\n"
          ]
        },
        {
          "output_type": "stream",
          "name": "stdout",
          "text": [
            "Epoch 300/500\n",
            "Training Loss: 0.058591\n",
            "Validation Loss: 0.071134\n",
            "----------------------------------------\n"
          ]
        },
        {
          "output_type": "stream",
          "name": "stderr",
          "text": [
            "\n",
            "\n",
            "Epoch 301/500: 100%|██████████| 12/12 [00:00<00:00, 209.44it/s]\n"
          ]
        },
        {
          "output_type": "stream",
          "name": "stdout",
          "text": [
            "Epoch 301/500\n",
            "Training Loss: 0.063104\n",
            "Validation Loss: 0.075097\n",
            "----------------------------------------\n"
          ]
        },
        {
          "output_type": "stream",
          "name": "stderr",
          "text": [
            "\n",
            "\n",
            "Epoch 302/500: 100%|██████████| 12/12 [00:00<00:00, 187.70it/s]\n"
          ]
        },
        {
          "output_type": "stream",
          "name": "stdout",
          "text": [
            "Epoch 302/500\n",
            "Training Loss: 0.061015\n",
            "Validation Loss: 0.074567\n",
            "----------------------------------------\n"
          ]
        },
        {
          "output_type": "stream",
          "name": "stderr",
          "text": [
            "\n",
            "\n",
            "Epoch 303/500: 100%|██████████| 12/12 [00:00<00:00, 131.34it/s]\n"
          ]
        },
        {
          "output_type": "stream",
          "name": "stdout",
          "text": [
            "Epoch 303/500\n",
            "Training Loss: 0.059417\n",
            "Validation Loss: 0.072395\n",
            "----------------------------------------\n"
          ]
        },
        {
          "output_type": "stream",
          "name": "stderr",
          "text": [
            "\n",
            "\n",
            "Epoch 304/500: 100%|██████████| 12/12 [00:00<00:00, 166.22it/s]\n"
          ]
        },
        {
          "output_type": "stream",
          "name": "stdout",
          "text": [
            "Epoch 304/500\n",
            "Training Loss: 0.059562\n",
            "Validation Loss: 0.072716\n",
            "----------------------------------------\n"
          ]
        },
        {
          "output_type": "stream",
          "name": "stderr",
          "text": [
            "\n",
            "\n",
            "Epoch 305/500: 100%|██████████| 12/12 [00:00<00:00, 125.41it/s]\n"
          ]
        },
        {
          "output_type": "stream",
          "name": "stdout",
          "text": [
            "Epoch 305/500\n",
            "Training Loss: 0.059083\n",
            "Validation Loss: 0.071688\n",
            "----------------------------------------\n"
          ]
        },
        {
          "output_type": "stream",
          "name": "stderr",
          "text": [
            "\n",
            "\n",
            "Epoch 306/500: 100%|██████████| 12/12 [00:00<00:00, 168.92it/s]\n"
          ]
        },
        {
          "output_type": "stream",
          "name": "stdout",
          "text": [
            "Epoch 306/500\n",
            "Training Loss: 0.062262\n",
            "Validation Loss: 0.072727\n",
            "----------------------------------------\n"
          ]
        },
        {
          "output_type": "stream",
          "name": "stderr",
          "text": [
            "\n",
            "\n",
            "Epoch 307/500: 100%|██████████| 12/12 [00:00<00:00, 152.36it/s]\n"
          ]
        },
        {
          "output_type": "stream",
          "name": "stdout",
          "text": [
            "Epoch 307/500\n",
            "Training Loss: 0.059530\n",
            "Validation Loss: 0.073348\n",
            "----------------------------------------\n"
          ]
        },
        {
          "output_type": "stream",
          "name": "stderr",
          "text": [
            "\n",
            "\n",
            "Epoch 308/500: 100%|██████████| 12/12 [00:00<00:00, 175.11it/s]\n"
          ]
        },
        {
          "output_type": "stream",
          "name": "stdout",
          "text": [
            "Epoch 308/500\n",
            "Training Loss: 0.061835\n",
            "Validation Loss: 0.074350\n",
            "----------------------------------------\n"
          ]
        },
        {
          "output_type": "stream",
          "name": "stderr",
          "text": [
            "\n",
            "\n",
            "Epoch 309/500: 100%|██████████| 12/12 [00:00<00:00, 198.68it/s]\n"
          ]
        },
        {
          "output_type": "stream",
          "name": "stdout",
          "text": [
            "Epoch 309/500\n",
            "Training Loss: 0.063136\n",
            "Validation Loss: 0.072379\n",
            "----------------------------------------\n"
          ]
        },
        {
          "output_type": "stream",
          "name": "stderr",
          "text": [
            "\n",
            "\n",
            "Epoch 310/500: 100%|██████████| 12/12 [00:00<00:00, 212.37it/s]\n"
          ]
        },
        {
          "output_type": "stream",
          "name": "stdout",
          "text": [
            "Epoch 310/500\n",
            "Training Loss: 0.058494\n",
            "Validation Loss: 0.073151\n",
            "----------------------------------------\n"
          ]
        },
        {
          "output_type": "stream",
          "name": "stderr",
          "text": [
            "\n",
            "\n",
            "Epoch 311/500: 100%|██████████| 12/12 [00:00<00:00, 208.27it/s]\n"
          ]
        },
        {
          "output_type": "stream",
          "name": "stdout",
          "text": [
            "Epoch 311/500\n",
            "Training Loss: 0.061181\n",
            "Validation Loss: 0.072949\n",
            "----------------------------------------\n"
          ]
        },
        {
          "output_type": "stream",
          "name": "stderr",
          "text": [
            "\n",
            "\n",
            "Epoch 312/500: 100%|██████████| 12/12 [00:00<00:00, 190.30it/s]\n"
          ]
        },
        {
          "output_type": "stream",
          "name": "stdout",
          "text": [
            "Epoch 312/500\n",
            "Training Loss: 0.061540\n",
            "Validation Loss: 0.073148\n",
            "----------------------------------------\n"
          ]
        },
        {
          "output_type": "stream",
          "name": "stderr",
          "text": [
            "\n",
            "\n",
            "Epoch 313/500: 100%|██████████| 12/12 [00:00<00:00, 210.52it/s]\n"
          ]
        },
        {
          "output_type": "stream",
          "name": "stdout",
          "text": [
            "Epoch 313/500\n",
            "Training Loss: 0.060627\n",
            "Validation Loss: 0.074460\n",
            "----------------------------------------\n"
          ]
        },
        {
          "output_type": "stream",
          "name": "stderr",
          "text": [
            "\n",
            "\n",
            "Epoch 314/500: 100%|██████████| 12/12 [00:00<00:00, 167.44it/s]\n"
          ]
        },
        {
          "output_type": "stream",
          "name": "stdout",
          "text": [
            "Epoch 314/500\n",
            "Training Loss: 0.058413\n",
            "Validation Loss: 0.073102\n",
            "----------------------------------------\n"
          ]
        },
        {
          "output_type": "stream",
          "name": "stderr",
          "text": [
            "\n",
            "\n",
            "Epoch 315/500: 100%|██████████| 12/12 [00:00<00:00, 145.97it/s]\n"
          ]
        },
        {
          "output_type": "stream",
          "name": "stdout",
          "text": [
            "Epoch 315/500\n",
            "Training Loss: 0.062884\n",
            "Validation Loss: 0.072835\n",
            "----------------------------------------\n"
          ]
        },
        {
          "output_type": "stream",
          "name": "stderr",
          "text": [
            "\n",
            "\n",
            "Epoch 316/500: 100%|██████████| 12/12 [00:00<00:00, 175.12it/s]\n"
          ]
        },
        {
          "output_type": "stream",
          "name": "stdout",
          "text": [
            "Epoch 316/500\n",
            "Training Loss: 0.060286\n",
            "Validation Loss: 0.073638\n",
            "----------------------------------------\n"
          ]
        },
        {
          "output_type": "stream",
          "name": "stderr",
          "text": [
            "\n",
            "\n",
            "Epoch 317/500: 100%|██████████| 12/12 [00:00<00:00, 160.55it/s]\n"
          ]
        },
        {
          "output_type": "stream",
          "name": "stdout",
          "text": [
            "Epoch 317/500\n",
            "Training Loss: 0.060238\n",
            "Validation Loss: 0.071022\n",
            "----------------------------------------\n"
          ]
        },
        {
          "output_type": "stream",
          "name": "stderr",
          "text": [
            "\n",
            "\n",
            "Epoch 318/500: 100%|██████████| 12/12 [00:00<00:00, 221.05it/s]\n"
          ]
        },
        {
          "output_type": "stream",
          "name": "stdout",
          "text": [
            "Epoch 318/500\n",
            "Training Loss: 0.059223\n",
            "Validation Loss: 0.075232\n",
            "----------------------------------------\n"
          ]
        },
        {
          "output_type": "stream",
          "name": "stderr",
          "text": [
            "\n",
            "\n",
            "Epoch 319/500: 100%|██████████| 12/12 [00:00<00:00, 207.04it/s]\n"
          ]
        },
        {
          "output_type": "stream",
          "name": "stdout",
          "text": [
            "Epoch 319/500\n",
            "Training Loss: 0.060692\n",
            "Validation Loss: 0.071412\n",
            "----------------------------------------\n"
          ]
        },
        {
          "output_type": "stream",
          "name": "stderr",
          "text": [
            "\n",
            "\n",
            "Epoch 320/500: 100%|██████████| 12/12 [00:00<00:00, 205.96it/s]\n"
          ]
        },
        {
          "output_type": "stream",
          "name": "stdout",
          "text": [
            "Epoch 320/500\n",
            "Training Loss: 0.059526\n",
            "Validation Loss: 0.073261\n",
            "----------------------------------------\n"
          ]
        },
        {
          "output_type": "stream",
          "name": "stderr",
          "text": [
            "\n",
            "\n",
            "Epoch 321/500: 100%|██████████| 12/12 [00:00<00:00, 204.26it/s]\n"
          ]
        },
        {
          "output_type": "stream",
          "name": "stdout",
          "text": [
            "Epoch 321/500\n",
            "Training Loss: 0.060697\n",
            "Validation Loss: 0.073558\n",
            "----------------------------------------\n"
          ]
        },
        {
          "output_type": "stream",
          "name": "stderr",
          "text": [
            "\n",
            "\n",
            "Epoch 322/500: 100%|██████████| 12/12 [00:00<00:00, 232.37it/s]\n"
          ]
        },
        {
          "output_type": "stream",
          "name": "stdout",
          "text": [
            "Epoch 322/500\n",
            "Training Loss: 0.061761\n",
            "Validation Loss: 0.073211\n",
            "----------------------------------------\n"
          ]
        },
        {
          "output_type": "stream",
          "name": "stderr",
          "text": [
            "\n",
            "\n",
            "Epoch 323/500: 100%|██████████| 12/12 [00:00<00:00, 197.75it/s]\n"
          ]
        },
        {
          "output_type": "stream",
          "name": "stdout",
          "text": [
            "Epoch 323/500\n",
            "Training Loss: 0.059787\n",
            "Validation Loss: 0.074104\n",
            "----------------------------------------\n"
          ]
        },
        {
          "output_type": "stream",
          "name": "stderr",
          "text": [
            "\n",
            "\n",
            "Epoch 324/500: 100%|██████████| 12/12 [00:00<00:00, 211.93it/s]\n"
          ]
        },
        {
          "output_type": "stream",
          "name": "stdout",
          "text": [
            "Epoch 324/500\n",
            "Training Loss: 0.060356\n",
            "Validation Loss: 0.072918\n",
            "----------------------------------------\n"
          ]
        },
        {
          "output_type": "stream",
          "name": "stderr",
          "text": [
            "\n",
            "\n",
            "Epoch 325/500: 100%|██████████| 12/12 [00:00<00:00, 192.03it/s]\n"
          ]
        },
        {
          "output_type": "stream",
          "name": "stdout",
          "text": [
            "Epoch 325/500\n",
            "Training Loss: 0.061725\n",
            "Validation Loss: 0.073573\n",
            "----------------------------------------\n"
          ]
        },
        {
          "output_type": "stream",
          "name": "stderr",
          "text": [
            "\n",
            "\n",
            "Epoch 326/500: 100%|██████████| 12/12 [00:00<00:00, 161.13it/s]\n"
          ]
        },
        {
          "output_type": "stream",
          "name": "stdout",
          "text": [
            "Epoch 326/500\n",
            "Training Loss: 0.060151\n",
            "Validation Loss: 0.074126\n",
            "----------------------------------------\n"
          ]
        },
        {
          "output_type": "stream",
          "name": "stderr",
          "text": [
            "\n",
            "\n",
            "Epoch 327/500: 100%|██████████| 12/12 [00:00<00:00, 156.65it/s]\n"
          ]
        },
        {
          "output_type": "stream",
          "name": "stdout",
          "text": [
            "Epoch 327/500\n",
            "Training Loss: 0.059079\n",
            "Validation Loss: 0.072557\n",
            "----------------------------------------\n"
          ]
        },
        {
          "output_type": "stream",
          "name": "stderr",
          "text": [
            "\n",
            "\n",
            "Epoch 328/500: 100%|██████████| 12/12 [00:00<00:00, 149.47it/s]\n"
          ]
        },
        {
          "output_type": "stream",
          "name": "stdout",
          "text": [
            "Epoch 328/500\n",
            "Training Loss: 0.060921\n",
            "Validation Loss: 0.071596\n",
            "----------------------------------------\n"
          ]
        },
        {
          "output_type": "stream",
          "name": "stderr",
          "text": [
            "\n",
            "\n",
            "Epoch 329/500: 100%|██████████| 12/12 [00:00<00:00, 143.72it/s]\n"
          ]
        },
        {
          "output_type": "stream",
          "name": "stdout",
          "text": [
            "Epoch 329/500\n",
            "Training Loss: 0.062658\n",
            "Validation Loss: 0.072857\n",
            "----------------------------------------\n"
          ]
        },
        {
          "output_type": "stream",
          "name": "stderr",
          "text": [
            "\n",
            "\n",
            "Epoch 330/500: 100%|██████████| 12/12 [00:00<00:00, 167.49it/s]\n"
          ]
        },
        {
          "output_type": "stream",
          "name": "stdout",
          "text": [
            "Epoch 330/500\n",
            "Training Loss: 0.058319\n",
            "Validation Loss: 0.073285\n",
            "----------------------------------------\n"
          ]
        },
        {
          "output_type": "stream",
          "name": "stderr",
          "text": [
            "\n",
            "\n",
            "Epoch 331/500: 100%|██████████| 12/12 [00:00<00:00, 173.58it/s]\n"
          ]
        },
        {
          "output_type": "stream",
          "name": "stdout",
          "text": [
            "Epoch 331/500\n",
            "Training Loss: 0.060479\n",
            "Validation Loss: 0.071778\n",
            "----------------------------------------\n"
          ]
        },
        {
          "output_type": "stream",
          "name": "stderr",
          "text": [
            "\n",
            "\n",
            "Epoch 332/500: 100%|██████████| 12/12 [00:00<00:00, 215.31it/s]\n"
          ]
        },
        {
          "output_type": "stream",
          "name": "stdout",
          "text": [
            "Epoch 332/500\n",
            "Training Loss: 0.059376\n",
            "Validation Loss: 0.073583\n",
            "----------------------------------------\n"
          ]
        },
        {
          "output_type": "stream",
          "name": "stderr",
          "text": [
            "\n",
            "\n",
            "Epoch 333/500: 100%|██████████| 12/12 [00:00<00:00, 186.26it/s]\n"
          ]
        },
        {
          "output_type": "stream",
          "name": "stdout",
          "text": [
            "Epoch 333/500\n",
            "Training Loss: 0.061243\n",
            "Validation Loss: 0.072289\n",
            "----------------------------------------\n"
          ]
        },
        {
          "output_type": "stream",
          "name": "stderr",
          "text": [
            "\n",
            "\n",
            "Epoch 334/500: 100%|██████████| 12/12 [00:00<00:00, 222.11it/s]\n"
          ]
        },
        {
          "output_type": "stream",
          "name": "stdout",
          "text": [
            "Epoch 334/500\n",
            "Training Loss: 0.060035\n",
            "Validation Loss: 0.074508\n",
            "----------------------------------------\n"
          ]
        },
        {
          "output_type": "stream",
          "name": "stderr",
          "text": [
            "\n",
            "\n",
            "Epoch 335/500: 100%|██████████| 12/12 [00:00<00:00, 200.49it/s]\n"
          ]
        },
        {
          "output_type": "stream",
          "name": "stdout",
          "text": [
            "Epoch 335/500\n",
            "Training Loss: 0.061205\n",
            "Validation Loss: 0.071341\n",
            "----------------------------------------\n"
          ]
        },
        {
          "output_type": "stream",
          "name": "stderr",
          "text": [
            "\n",
            "\n",
            "Epoch 336/500: 100%|██████████| 12/12 [00:00<00:00, 210.54it/s]\n"
          ]
        },
        {
          "output_type": "stream",
          "name": "stdout",
          "text": [
            "Epoch 336/500\n",
            "Training Loss: 0.059811\n",
            "Validation Loss: 0.072298\n",
            "----------------------------------------\n"
          ]
        },
        {
          "output_type": "stream",
          "name": "stderr",
          "text": [
            "\n",
            "\n",
            "Epoch 337/500: 100%|██████████| 12/12 [00:00<00:00, 177.96it/s]\n"
          ]
        },
        {
          "output_type": "stream",
          "name": "stdout",
          "text": [
            "Epoch 337/500\n",
            "Training Loss: 0.062392\n",
            "Validation Loss: 0.071884\n",
            "----------------------------------------\n"
          ]
        },
        {
          "output_type": "stream",
          "name": "stderr",
          "text": [
            "\n",
            "\n",
            "Epoch 338/500: 100%|██████████| 12/12 [00:00<00:00, 165.88it/s]\n"
          ]
        },
        {
          "output_type": "stream",
          "name": "stdout",
          "text": [
            "Epoch 338/500\n",
            "Training Loss: 0.060622\n",
            "Validation Loss: 0.072865\n",
            "----------------------------------------\n"
          ]
        },
        {
          "output_type": "stream",
          "name": "stderr",
          "text": [
            "\n",
            "\n",
            "Epoch 339/500: 100%|██████████| 12/12 [00:00<00:00, 152.58it/s]\n"
          ]
        },
        {
          "output_type": "stream",
          "name": "stdout",
          "text": [
            "Epoch 339/500\n",
            "Training Loss: 0.058041\n",
            "Validation Loss: 0.072614\n",
            "----------------------------------------\n"
          ]
        },
        {
          "output_type": "stream",
          "name": "stderr",
          "text": [
            "\n",
            "\n",
            "Epoch 340/500: 100%|██████████| 12/12 [00:00<00:00, 188.11it/s]\n"
          ]
        },
        {
          "output_type": "stream",
          "name": "stdout",
          "text": [
            "Epoch 340/500\n",
            "Training Loss: 0.057913\n",
            "Validation Loss: 0.072628\n",
            "----------------------------------------\n"
          ]
        },
        {
          "output_type": "stream",
          "name": "stderr",
          "text": [
            "\n",
            "\n",
            "Epoch 341/500: 100%|██████████| 12/12 [00:00<00:00, 150.64it/s]\n"
          ]
        },
        {
          "output_type": "stream",
          "name": "stdout",
          "text": [
            "Epoch 341/500\n",
            "Training Loss: 0.059700\n",
            "Validation Loss: 0.073634\n",
            "----------------------------------------\n"
          ]
        },
        {
          "output_type": "stream",
          "name": "stderr",
          "text": [
            "\n",
            "\n",
            "Epoch 342/500: 100%|██████████| 12/12 [00:00<00:00, 207.36it/s]\n"
          ]
        },
        {
          "output_type": "stream",
          "name": "stdout",
          "text": [
            "Epoch 342/500\n",
            "Training Loss: 0.061794\n",
            "Validation Loss: 0.071586\n",
            "----------------------------------------\n"
          ]
        },
        {
          "output_type": "stream",
          "name": "stderr",
          "text": [
            "\n",
            "\n",
            "Epoch 343/500: 100%|██████████| 12/12 [00:00<00:00, 190.57it/s]\n"
          ]
        },
        {
          "output_type": "stream",
          "name": "stdout",
          "text": [
            "Epoch 343/500\n",
            "Training Loss: 0.059034\n",
            "Validation Loss: 0.072679\n",
            "----------------------------------------\n"
          ]
        },
        {
          "output_type": "stream",
          "name": "stderr",
          "text": [
            "\n",
            "\n",
            "Epoch 344/500: 100%|██████████| 12/12 [00:00<00:00, 217.55it/s]\n"
          ]
        },
        {
          "output_type": "stream",
          "name": "stdout",
          "text": [
            "Epoch 344/500\n",
            "Training Loss: 0.060816\n",
            "Validation Loss: 0.073399\n",
            "----------------------------------------\n"
          ]
        },
        {
          "output_type": "stream",
          "name": "stderr",
          "text": [
            "\n",
            "\n",
            "Epoch 345/500: 100%|██████████| 12/12 [00:00<00:00, 203.85it/s]\n"
          ]
        },
        {
          "output_type": "stream",
          "name": "stdout",
          "text": [
            "Epoch 345/500\n",
            "Training Loss: 0.059656\n",
            "Validation Loss: 0.072931\n",
            "----------------------------------------\n"
          ]
        },
        {
          "output_type": "stream",
          "name": "stderr",
          "text": [
            "\n",
            "\n",
            "Epoch 346/500: 100%|██████████| 12/12 [00:00<00:00, 220.12it/s]\n"
          ]
        },
        {
          "output_type": "stream",
          "name": "stdout",
          "text": [
            "Epoch 346/500\n",
            "Training Loss: 0.061750\n",
            "Validation Loss: 0.073806\n",
            "----------------------------------------\n"
          ]
        },
        {
          "output_type": "stream",
          "name": "stderr",
          "text": [
            "\n",
            "\n",
            "Epoch 347/500: 100%|██████████| 12/12 [00:00<00:00, 193.71it/s]\n"
          ]
        },
        {
          "output_type": "stream",
          "name": "stdout",
          "text": [
            "Epoch 347/500\n",
            "Training Loss: 0.061316\n",
            "Validation Loss: 0.073117\n",
            "----------------------------------------\n"
          ]
        },
        {
          "output_type": "stream",
          "name": "stderr",
          "text": [
            "\n",
            "\n",
            "Epoch 348/500: 100%|██████████| 12/12 [00:00<00:00, 206.12it/s]\n"
          ]
        },
        {
          "output_type": "stream",
          "name": "stdout",
          "text": [
            "Epoch 348/500\n",
            "Training Loss: 0.060324\n",
            "Validation Loss: 0.072530\n",
            "----------------------------------------\n"
          ]
        },
        {
          "output_type": "stream",
          "name": "stderr",
          "text": [
            "\n",
            "\n",
            "Epoch 349/500: 100%|██████████| 12/12 [00:00<00:00, 166.30it/s]\n"
          ]
        },
        {
          "output_type": "stream",
          "name": "stdout",
          "text": [
            "Epoch 349/500\n",
            "Training Loss: 0.060472\n",
            "Validation Loss: 0.073174\n",
            "----------------------------------------\n"
          ]
        },
        {
          "output_type": "stream",
          "name": "stderr",
          "text": [
            "\n",
            "\n",
            "Epoch 350/500: 100%|██████████| 12/12 [00:00<00:00, 166.39it/s]\n"
          ]
        },
        {
          "output_type": "stream",
          "name": "stdout",
          "text": [
            "Epoch 350/500\n",
            "Training Loss: 0.061076\n",
            "Validation Loss: 0.073691\n",
            "----------------------------------------\n"
          ]
        },
        {
          "output_type": "stream",
          "name": "stderr",
          "text": [
            "\n",
            "\n",
            "Epoch 351/500: 100%|██████████| 12/12 [00:00<00:00, 155.57it/s]\n"
          ]
        },
        {
          "output_type": "stream",
          "name": "stdout",
          "text": [
            "Epoch 351/500\n",
            "Training Loss: 0.060198\n",
            "Validation Loss: 0.071491\n",
            "----------------------------------------\n"
          ]
        },
        {
          "output_type": "stream",
          "name": "stderr",
          "text": [
            "\n",
            "\n",
            "Epoch 352/500: 100%|██████████| 12/12 [00:00<00:00, 142.17it/s]\n"
          ]
        },
        {
          "output_type": "stream",
          "name": "stdout",
          "text": [
            "Epoch 352/500\n",
            "Training Loss: 0.061450\n",
            "Validation Loss: 0.072965\n",
            "----------------------------------------\n"
          ]
        },
        {
          "output_type": "stream",
          "name": "stderr",
          "text": [
            "\n",
            "\n",
            "Epoch 353/500: 100%|██████████| 12/12 [00:00<00:00, 130.58it/s]\n"
          ]
        },
        {
          "output_type": "stream",
          "name": "stdout",
          "text": [
            "Epoch 353/500\n",
            "Training Loss: 0.058881\n",
            "Validation Loss: 0.073528\n",
            "----------------------------------------\n"
          ]
        },
        {
          "output_type": "stream",
          "name": "stderr",
          "text": [
            "\n",
            "\n",
            "Epoch 354/500: 100%|██████████| 12/12 [00:00<00:00, 177.62it/s]\n"
          ]
        },
        {
          "output_type": "stream",
          "name": "stdout",
          "text": [
            "Epoch 354/500\n",
            "Training Loss: 0.059038\n",
            "Validation Loss: 0.071586\n",
            "----------------------------------------\n"
          ]
        },
        {
          "output_type": "stream",
          "name": "stderr",
          "text": [
            "\n",
            "\n",
            "Epoch 355/500: 100%|██████████| 12/12 [00:00<00:00, 240.04it/s]\n"
          ]
        },
        {
          "output_type": "stream",
          "name": "stdout",
          "text": [
            "Epoch 355/500\n",
            "Training Loss: 0.057585\n",
            "Validation Loss: 0.072968\n",
            "----------------------------------------\n"
          ]
        },
        {
          "output_type": "stream",
          "name": "stderr",
          "text": [
            "\n",
            "\n",
            "Epoch 356/500: 100%|██████████| 12/12 [00:00<00:00, 207.15it/s]\n"
          ]
        },
        {
          "output_type": "stream",
          "name": "stdout",
          "text": [
            "Epoch 356/500\n",
            "Training Loss: 0.058449\n",
            "Validation Loss: 0.072534\n",
            "----------------------------------------\n"
          ]
        },
        {
          "output_type": "stream",
          "name": "stderr",
          "text": [
            "\n",
            "\n",
            "Epoch 357/500: 100%|██████████| 12/12 [00:00<00:00, 224.40it/s]\n"
          ]
        },
        {
          "output_type": "stream",
          "name": "stdout",
          "text": [
            "Epoch 357/500\n",
            "Training Loss: 0.058715\n",
            "Validation Loss: 0.072660\n",
            "----------------------------------------\n"
          ]
        },
        {
          "output_type": "stream",
          "name": "stderr",
          "text": [
            "\n",
            "\n",
            "Epoch 358/500: 100%|██████████| 12/12 [00:00<00:00, 200.27it/s]\n"
          ]
        },
        {
          "output_type": "stream",
          "name": "stdout",
          "text": [
            "Epoch 358/500\n",
            "Training Loss: 0.061884\n",
            "Validation Loss: 0.073006\n",
            "----------------------------------------\n"
          ]
        },
        {
          "output_type": "stream",
          "name": "stderr",
          "text": [
            "\n",
            "\n",
            "Epoch 359/500: 100%|██████████| 12/12 [00:00<00:00, 208.62it/s]\n"
          ]
        },
        {
          "output_type": "stream",
          "name": "stdout",
          "text": [
            "Epoch 359/500\n",
            "Training Loss: 0.061063\n",
            "Validation Loss: 0.073049\n",
            "----------------------------------------\n"
          ]
        },
        {
          "output_type": "stream",
          "name": "stderr",
          "text": [
            "\n",
            "\n",
            "Epoch 360/500: 100%|██████████| 12/12 [00:00<00:00, 205.13it/s]\n"
          ]
        },
        {
          "output_type": "stream",
          "name": "stdout",
          "text": [
            "Epoch 360/500\n",
            "Training Loss: 0.059888\n",
            "Validation Loss: 0.072845\n",
            "----------------------------------------\n"
          ]
        },
        {
          "output_type": "stream",
          "name": "stderr",
          "text": [
            "\n",
            "\n",
            "Epoch 361/500: 100%|██████████| 12/12 [00:00<00:00, 168.62it/s]\n"
          ]
        },
        {
          "output_type": "stream",
          "name": "stdout",
          "text": [
            "Epoch 361/500\n",
            "Training Loss: 0.058475\n",
            "Validation Loss: 0.073818\n",
            "----------------------------------------\n"
          ]
        },
        {
          "output_type": "stream",
          "name": "stderr",
          "text": [
            "\n",
            "\n",
            "Epoch 362/500: 100%|██████████| 12/12 [00:00<00:00, 152.04it/s]\n"
          ]
        },
        {
          "output_type": "stream",
          "name": "stdout",
          "text": [
            "Epoch 362/500\n",
            "Training Loss: 0.058832\n",
            "Validation Loss: 0.073086\n",
            "----------------------------------------\n"
          ]
        },
        {
          "output_type": "stream",
          "name": "stderr",
          "text": [
            "\n",
            "\n",
            "Epoch 363/500: 100%|██████████| 12/12 [00:00<00:00, 186.24it/s]\n"
          ]
        },
        {
          "output_type": "stream",
          "name": "stdout",
          "text": [
            "Epoch 363/500\n",
            "Training Loss: 0.059676\n",
            "Validation Loss: 0.072068\n",
            "----------------------------------------\n"
          ]
        },
        {
          "output_type": "stream",
          "name": "stderr",
          "text": [
            "\n",
            "\n",
            "Epoch 364/500: 100%|██████████| 12/12 [00:00<00:00, 164.17it/s]\n"
          ]
        },
        {
          "output_type": "stream",
          "name": "stdout",
          "text": [
            "Epoch 364/500\n",
            "Training Loss: 0.059282\n",
            "Validation Loss: 0.074898\n",
            "----------------------------------------\n"
          ]
        },
        {
          "output_type": "stream",
          "name": "stderr",
          "text": [
            "\n",
            "\n",
            "Epoch 365/500: 100%|██████████| 12/12 [00:00<00:00, 178.48it/s]\n"
          ]
        },
        {
          "output_type": "stream",
          "name": "stdout",
          "text": [
            "Epoch 365/500\n",
            "Training Loss: 0.059373\n",
            "Validation Loss: 0.072006\n",
            "----------------------------------------\n"
          ]
        },
        {
          "output_type": "stream",
          "name": "stderr",
          "text": [
            "\n",
            "\n",
            "Epoch 366/500: 100%|██████████| 12/12 [00:00<00:00, 163.51it/s]\n"
          ]
        },
        {
          "output_type": "stream",
          "name": "stdout",
          "text": [
            "Epoch 366/500\n",
            "Training Loss: 0.060502\n",
            "Validation Loss: 0.071550\n",
            "----------------------------------------\n"
          ]
        },
        {
          "output_type": "stream",
          "name": "stderr",
          "text": [
            "\n",
            "\n",
            "Epoch 367/500: 100%|██████████| 12/12 [00:00<00:00, 195.23it/s]\n"
          ]
        },
        {
          "output_type": "stream",
          "name": "stdout",
          "text": [
            "Epoch 367/500\n",
            "Training Loss: 0.060217\n",
            "Validation Loss: 0.072468\n",
            "----------------------------------------\n"
          ]
        },
        {
          "output_type": "stream",
          "name": "stderr",
          "text": [
            "\n",
            "\n",
            "Epoch 368/500: 100%|██████████| 12/12 [00:00<00:00, 207.90it/s]\n"
          ]
        },
        {
          "output_type": "stream",
          "name": "stdout",
          "text": [
            "Epoch 368/500\n",
            "Training Loss: 0.061554\n",
            "Validation Loss: 0.073709\n",
            "----------------------------------------\n"
          ]
        },
        {
          "output_type": "stream",
          "name": "stderr",
          "text": [
            "\n",
            "\n",
            "Epoch 369/500: 100%|██████████| 12/12 [00:00<00:00, 198.18it/s]\n"
          ]
        },
        {
          "output_type": "stream",
          "name": "stdout",
          "text": [
            "Epoch 369/500\n",
            "Training Loss: 0.061017\n",
            "Validation Loss: 0.073238\n",
            "----------------------------------------\n"
          ]
        },
        {
          "output_type": "stream",
          "name": "stderr",
          "text": [
            "\n",
            "\n",
            "Epoch 370/500: 100%|██████████| 12/12 [00:00<00:00, 201.91it/s]\n"
          ]
        },
        {
          "output_type": "stream",
          "name": "stdout",
          "text": [
            "Epoch 370/500\n",
            "Training Loss: 0.058684\n",
            "Validation Loss: 0.073151\n",
            "----------------------------------------\n"
          ]
        },
        {
          "output_type": "stream",
          "name": "stderr",
          "text": [
            "\n",
            "\n",
            "Epoch 371/500: 100%|██████████| 12/12 [00:00<00:00, 205.27it/s]\n"
          ]
        },
        {
          "output_type": "stream",
          "name": "stdout",
          "text": [
            "Epoch 371/500\n",
            "Training Loss: 0.060513\n",
            "Validation Loss: 0.074486\n",
            "----------------------------------------\n"
          ]
        },
        {
          "output_type": "stream",
          "name": "stderr",
          "text": [
            "\n",
            "\n",
            "Epoch 372/500: 100%|██████████| 12/12 [00:00<00:00, 219.35it/s]\n"
          ]
        },
        {
          "output_type": "stream",
          "name": "stdout",
          "text": [
            "Epoch 372/500\n",
            "Training Loss: 0.058397\n",
            "Validation Loss: 0.072492\n",
            "----------------------------------------\n"
          ]
        },
        {
          "output_type": "stream",
          "name": "stderr",
          "text": [
            "\n",
            "\n",
            "Epoch 373/500: 100%|██████████| 12/12 [00:00<00:00, 160.72it/s]\n"
          ]
        },
        {
          "output_type": "stream",
          "name": "stdout",
          "text": [
            "Epoch 373/500\n",
            "Training Loss: 0.058032\n",
            "Validation Loss: 0.072074\n",
            "----------------------------------------\n"
          ]
        },
        {
          "output_type": "stream",
          "name": "stderr",
          "text": [
            "\n",
            "\n",
            "Epoch 374/500: 100%|██████████| 12/12 [00:00<00:00, 160.45it/s]\n"
          ]
        },
        {
          "output_type": "stream",
          "name": "stdout",
          "text": [
            "Epoch 374/500\n",
            "Training Loss: 0.057534\n",
            "Validation Loss: 0.071092\n",
            "----------------------------------------\n"
          ]
        },
        {
          "output_type": "stream",
          "name": "stderr",
          "text": [
            "\n",
            "\n",
            "Epoch 375/500: 100%|██████████| 12/12 [00:00<00:00, 157.02it/s]\n"
          ]
        },
        {
          "output_type": "stream",
          "name": "stdout",
          "text": [
            "Epoch 375/500\n",
            "Training Loss: 0.058020\n",
            "Validation Loss: 0.075883\n",
            "----------------------------------------\n"
          ]
        },
        {
          "output_type": "stream",
          "name": "stderr",
          "text": [
            "\n",
            "\n",
            "Epoch 376/500: 100%|██████████| 12/12 [00:00<00:00, 166.55it/s]\n"
          ]
        },
        {
          "output_type": "stream",
          "name": "stdout",
          "text": [
            "Epoch 376/500\n",
            "Training Loss: 0.060369\n",
            "Validation Loss: 0.071253\n",
            "----------------------------------------\n"
          ]
        },
        {
          "output_type": "stream",
          "name": "stderr",
          "text": [
            "\n",
            "\n",
            "Epoch 377/500: 100%|██████████| 12/12 [00:00<00:00, 152.34it/s]\n"
          ]
        },
        {
          "output_type": "stream",
          "name": "stdout",
          "text": [
            "Epoch 377/500\n",
            "Training Loss: 0.058277\n",
            "Validation Loss: 0.074302\n",
            "----------------------------------------\n"
          ]
        },
        {
          "output_type": "stream",
          "name": "stderr",
          "text": [
            "\n",
            "\n",
            "Epoch 378/500: 100%|██████████| 12/12 [00:00<00:00, 178.42it/s]\n"
          ]
        },
        {
          "output_type": "stream",
          "name": "stdout",
          "text": [
            "Epoch 378/500\n",
            "Training Loss: 0.059992\n",
            "Validation Loss: 0.071694\n",
            "----------------------------------------\n"
          ]
        },
        {
          "output_type": "stream",
          "name": "stderr",
          "text": [
            "\n",
            "\n",
            "Epoch 379/500: 100%|██████████| 12/12 [00:00<00:00, 203.46it/s]\n"
          ]
        },
        {
          "output_type": "stream",
          "name": "stdout",
          "text": [
            "Epoch 379/500\n",
            "Training Loss: 0.059582\n",
            "Validation Loss: 0.073157\n",
            "----------------------------------------\n"
          ]
        },
        {
          "output_type": "stream",
          "name": "stderr",
          "text": [
            "\n",
            "\n",
            "Epoch 380/500: 100%|██████████| 12/12 [00:00<00:00, 216.54it/s]\n"
          ]
        },
        {
          "output_type": "stream",
          "name": "stdout",
          "text": [
            "Epoch 380/500\n",
            "Training Loss: 0.058882\n",
            "Validation Loss: 0.073337\n",
            "----------------------------------------\n"
          ]
        },
        {
          "output_type": "stream",
          "name": "stderr",
          "text": [
            "\n",
            "\n",
            "Epoch 381/500: 100%|██████████| 12/12 [00:00<00:00, 191.27it/s]\n"
          ]
        },
        {
          "output_type": "stream",
          "name": "stdout",
          "text": [
            "Epoch 381/500\n",
            "Training Loss: 0.059226\n",
            "Validation Loss: 0.074086\n",
            "----------------------------------------\n"
          ]
        },
        {
          "output_type": "stream",
          "name": "stderr",
          "text": [
            "\n",
            "\n",
            "Epoch 382/500: 100%|██████████| 12/12 [00:00<00:00, 209.67it/s]\n"
          ]
        },
        {
          "output_type": "stream",
          "name": "stdout",
          "text": [
            "Epoch 382/500\n",
            "Training Loss: 0.060632\n",
            "Validation Loss: 0.070360\n",
            "----------------------------------------\n"
          ]
        },
        {
          "output_type": "stream",
          "name": "stderr",
          "text": [
            "\n",
            "\n",
            "Epoch 383/500: 100%|██████████| 12/12 [00:00<00:00, 205.33it/s]\n"
          ]
        },
        {
          "output_type": "stream",
          "name": "stdout",
          "text": [
            "Epoch 383/500\n",
            "Training Loss: 0.059420\n",
            "Validation Loss: 0.076106\n",
            "----------------------------------------\n"
          ]
        },
        {
          "output_type": "stream",
          "name": "stderr",
          "text": [
            "\n",
            "\n",
            "Epoch 384/500: 100%|██████████| 12/12 [00:00<00:00, 193.74it/s]\n"
          ]
        },
        {
          "output_type": "stream",
          "name": "stdout",
          "text": [
            "Epoch 384/500\n",
            "Training Loss: 0.059432\n",
            "Validation Loss: 0.072777\n",
            "----------------------------------------\n"
          ]
        },
        {
          "output_type": "stream",
          "name": "stderr",
          "text": [
            "\n",
            "\n",
            "Epoch 385/500: 100%|██████████| 12/12 [00:00<00:00, 137.24it/s]\n"
          ]
        },
        {
          "output_type": "stream",
          "name": "stdout",
          "text": [
            "Epoch 385/500\n",
            "Training Loss: 0.058487\n",
            "Validation Loss: 0.072184\n",
            "----------------------------------------\n"
          ]
        },
        {
          "output_type": "stream",
          "name": "stderr",
          "text": [
            "\n",
            "\n",
            "Epoch 386/500: 100%|██████████| 12/12 [00:00<00:00, 125.07it/s]\n"
          ]
        },
        {
          "output_type": "stream",
          "name": "stdout",
          "text": [
            "Epoch 386/500\n",
            "Training Loss: 0.059859\n",
            "Validation Loss: 0.072481\n",
            "----------------------------------------\n"
          ]
        },
        {
          "output_type": "stream",
          "name": "stderr",
          "text": [
            "\n",
            "\n",
            "Epoch 387/500: 100%|██████████| 12/12 [00:00<00:00, 164.04it/s]\n"
          ]
        },
        {
          "output_type": "stream",
          "name": "stdout",
          "text": [
            "Epoch 387/500\n",
            "Training Loss: 0.058889\n",
            "Validation Loss: 0.072114\n",
            "----------------------------------------\n"
          ]
        },
        {
          "output_type": "stream",
          "name": "stderr",
          "text": [
            "\n",
            "\n",
            "Epoch 388/500: 100%|██████████| 12/12 [00:00<00:00, 192.12it/s]\n"
          ]
        },
        {
          "output_type": "stream",
          "name": "stdout",
          "text": [
            "Epoch 388/500\n",
            "Training Loss: 0.061074\n",
            "Validation Loss: 0.071980\n",
            "----------------------------------------\n"
          ]
        },
        {
          "output_type": "stream",
          "name": "stderr",
          "text": [
            "\n",
            "\n",
            "Epoch 389/500: 100%|██████████| 12/12 [00:00<00:00, 208.67it/s]\n"
          ]
        },
        {
          "output_type": "stream",
          "name": "stdout",
          "text": [
            "Epoch 389/500\n",
            "Training Loss: 0.061245\n",
            "Validation Loss: 0.071362\n",
            "----------------------------------------\n"
          ]
        },
        {
          "output_type": "stream",
          "name": "stderr",
          "text": [
            "\n",
            "\n",
            "Epoch 390/500: 100%|██████████| 12/12 [00:00<00:00, 172.58it/s]\n"
          ]
        },
        {
          "output_type": "stream",
          "name": "stdout",
          "text": [
            "Epoch 390/500\n",
            "Training Loss: 0.061437\n",
            "Validation Loss: 0.073716\n",
            "----------------------------------------\n"
          ]
        },
        {
          "output_type": "stream",
          "name": "stderr",
          "text": [
            "\n",
            "\n",
            "Epoch 391/500: 100%|██████████| 12/12 [00:00<00:00, 200.60it/s]\n"
          ]
        },
        {
          "output_type": "stream",
          "name": "stdout",
          "text": [
            "Epoch 391/500\n",
            "Training Loss: 0.057419\n",
            "Validation Loss: 0.073345\n",
            "----------------------------------------\n"
          ]
        },
        {
          "output_type": "stream",
          "name": "stderr",
          "text": [
            "\n",
            "\n",
            "Epoch 392/500: 100%|██████████| 12/12 [00:00<00:00, 196.74it/s]\n"
          ]
        },
        {
          "output_type": "stream",
          "name": "stdout",
          "text": [
            "Epoch 392/500\n",
            "Training Loss: 0.058160\n",
            "Validation Loss: 0.072837\n",
            "----------------------------------------\n"
          ]
        },
        {
          "output_type": "stream",
          "name": "stderr",
          "text": [
            "\n",
            "\n",
            "Epoch 393/500: 100%|██████████| 12/12 [00:00<00:00, 216.98it/s]\n"
          ]
        },
        {
          "output_type": "stream",
          "name": "stdout",
          "text": [
            "Epoch 393/500\n",
            "Training Loss: 0.060643\n",
            "Validation Loss: 0.072630\n",
            "----------------------------------------\n"
          ]
        },
        {
          "output_type": "stream",
          "name": "stderr",
          "text": [
            "\n",
            "\n",
            "Epoch 394/500: 100%|██████████| 12/12 [00:00<00:00, 188.61it/s]\n"
          ]
        },
        {
          "output_type": "stream",
          "name": "stdout",
          "text": [
            "Epoch 394/500\n",
            "Training Loss: 0.058243\n",
            "Validation Loss: 0.073844\n",
            "----------------------------------------\n"
          ]
        },
        {
          "output_type": "stream",
          "name": "stderr",
          "text": [
            "\n",
            "\n",
            "Epoch 395/500: 100%|██████████| 12/12 [00:00<00:00, 217.10it/s]\n"
          ]
        },
        {
          "output_type": "stream",
          "name": "stdout",
          "text": [
            "Epoch 395/500\n",
            "Training Loss: 0.060468\n",
            "Validation Loss: 0.072585\n",
            "----------------------------------------\n"
          ]
        },
        {
          "output_type": "stream",
          "name": "stderr",
          "text": [
            "\n",
            "\n",
            "Epoch 396/500: 100%|██████████| 12/12 [00:00<00:00, 147.91it/s]\n"
          ]
        },
        {
          "output_type": "stream",
          "name": "stdout",
          "text": [
            "Epoch 396/500\n",
            "Training Loss: 0.059360\n",
            "Validation Loss: 0.072410\n",
            "----------------------------------------\n"
          ]
        },
        {
          "output_type": "stream",
          "name": "stderr",
          "text": [
            "\n",
            "\n",
            "Epoch 397/500: 100%|██████████| 12/12 [00:00<00:00, 140.37it/s]\n"
          ]
        },
        {
          "output_type": "stream",
          "name": "stdout",
          "text": [
            "Epoch 397/500\n",
            "Training Loss: 0.058524\n",
            "Validation Loss: 0.073168\n",
            "----------------------------------------\n"
          ]
        },
        {
          "output_type": "stream",
          "name": "stderr",
          "text": [
            "\n",
            "\n",
            "Epoch 398/500: 100%|██████████| 12/12 [00:00<00:00, 158.79it/s]\n"
          ]
        },
        {
          "output_type": "stream",
          "name": "stdout",
          "text": [
            "Epoch 398/500\n",
            "Training Loss: 0.059285\n",
            "Validation Loss: 0.073905\n",
            "----------------------------------------\n"
          ]
        },
        {
          "output_type": "stream",
          "name": "stderr",
          "text": [
            "\n",
            "\n",
            "Epoch 399/500: 100%|██████████| 12/12 [00:00<00:00, 152.06it/s]\n"
          ]
        },
        {
          "output_type": "stream",
          "name": "stdout",
          "text": [
            "Epoch 399/500\n",
            "Training Loss: 0.060723\n",
            "Validation Loss: 0.072358\n",
            "----------------------------------------\n"
          ]
        },
        {
          "output_type": "stream",
          "name": "stderr",
          "text": [
            "\n",
            "\n",
            "Epoch 400/500: 100%|██████████| 12/12 [00:00<00:00, 149.90it/s]\n"
          ]
        },
        {
          "output_type": "stream",
          "name": "stdout",
          "text": [
            "Epoch 400/500\n",
            "Training Loss: 0.061805\n",
            "Validation Loss: 0.073072\n",
            "----------------------------------------\n"
          ]
        },
        {
          "output_type": "stream",
          "name": "stderr",
          "text": [
            "\n",
            "\n",
            "Epoch 401/500: 100%|██████████| 12/12 [00:00<00:00, 201.47it/s]\n"
          ]
        },
        {
          "output_type": "stream",
          "name": "stdout",
          "text": [
            "Epoch 401/500\n",
            "Training Loss: 0.059030\n",
            "Validation Loss: 0.073019\n",
            "----------------------------------------\n"
          ]
        },
        {
          "output_type": "stream",
          "name": "stderr",
          "text": [
            "\n",
            "\n",
            "Epoch 402/500: 100%|██████████| 12/12 [00:00<00:00, 151.72it/s]\n"
          ]
        },
        {
          "output_type": "stream",
          "name": "stdout",
          "text": [
            "Epoch 402/500\n",
            "Training Loss: 0.058467\n",
            "Validation Loss: 0.072558\n",
            "----------------------------------------\n"
          ]
        },
        {
          "output_type": "stream",
          "name": "stderr",
          "text": [
            "\n",
            "\n",
            "Epoch 403/500: 100%|██████████| 12/12 [00:00<00:00, 202.91it/s]\n"
          ]
        },
        {
          "output_type": "stream",
          "name": "stdout",
          "text": [
            "Epoch 403/500\n",
            "Training Loss: 0.058377\n",
            "Validation Loss: 0.073928\n",
            "----------------------------------------\n"
          ]
        },
        {
          "output_type": "stream",
          "name": "stderr",
          "text": [
            "\n",
            "\n",
            "Epoch 404/500: 100%|██████████| 12/12 [00:00<00:00, 207.56it/s]\n"
          ]
        },
        {
          "output_type": "stream",
          "name": "stdout",
          "text": [
            "Epoch 404/500\n",
            "Training Loss: 0.058835\n",
            "Validation Loss: 0.072682\n",
            "----------------------------------------\n"
          ]
        },
        {
          "output_type": "stream",
          "name": "stderr",
          "text": [
            "\n",
            "\n",
            "Epoch 405/500: 100%|██████████| 12/12 [00:00<00:00, 186.29it/s]\n"
          ]
        },
        {
          "output_type": "stream",
          "name": "stdout",
          "text": [
            "Epoch 405/500\n",
            "Training Loss: 0.059245\n",
            "Validation Loss: 0.074065\n",
            "----------------------------------------\n"
          ]
        },
        {
          "output_type": "stream",
          "name": "stderr",
          "text": [
            "\n",
            "\n",
            "Epoch 406/500: 100%|██████████| 12/12 [00:00<00:00, 193.75it/s]\n"
          ]
        },
        {
          "output_type": "stream",
          "name": "stdout",
          "text": [
            "Epoch 406/500\n",
            "Training Loss: 0.057912\n",
            "Validation Loss: 0.072950\n",
            "----------------------------------------\n"
          ]
        },
        {
          "output_type": "stream",
          "name": "stderr",
          "text": [
            "\n",
            "\n",
            "Epoch 407/500: 100%|██████████| 12/12 [00:00<00:00, 169.38it/s]\n"
          ]
        },
        {
          "output_type": "stream",
          "name": "stdout",
          "text": [
            "Epoch 407/500\n",
            "Training Loss: 0.057765\n",
            "Validation Loss: 0.073929\n",
            "----------------------------------------\n"
          ]
        },
        {
          "output_type": "stream",
          "name": "stderr",
          "text": [
            "\n",
            "\n",
            "Epoch 408/500: 100%|██████████| 12/12 [00:00<00:00, 131.25it/s]\n"
          ]
        },
        {
          "output_type": "stream",
          "name": "stdout",
          "text": [
            "Epoch 408/500\n",
            "Training Loss: 0.059068\n",
            "Validation Loss: 0.070980\n",
            "----------------------------------------\n"
          ]
        },
        {
          "output_type": "stream",
          "name": "stderr",
          "text": [
            "\n",
            "\n",
            "Epoch 409/500: 100%|██████████| 12/12 [00:00<00:00, 169.73it/s]\n"
          ]
        },
        {
          "output_type": "stream",
          "name": "stdout",
          "text": [
            "Epoch 409/500\n",
            "Training Loss: 0.060231\n",
            "Validation Loss: 0.072715\n",
            "----------------------------------------\n"
          ]
        },
        {
          "output_type": "stream",
          "name": "stderr",
          "text": [
            "\n",
            "\n",
            "Epoch 410/500: 100%|██████████| 12/12 [00:00<00:00, 177.50it/s]\n"
          ]
        },
        {
          "output_type": "stream",
          "name": "stdout",
          "text": [
            "Epoch 410/500\n",
            "Training Loss: 0.058732\n",
            "Validation Loss: 0.073880\n",
            "----------------------------------------\n"
          ]
        },
        {
          "output_type": "stream",
          "name": "stderr",
          "text": [
            "\n",
            "\n",
            "Epoch 411/500: 100%|██████████| 12/12 [00:00<00:00, 140.30it/s]\n"
          ]
        },
        {
          "output_type": "stream",
          "name": "stdout",
          "text": [
            "Epoch 411/500\n",
            "Training Loss: 0.057973\n",
            "Validation Loss: 0.073152\n",
            "----------------------------------------\n"
          ]
        },
        {
          "output_type": "stream",
          "name": "stderr",
          "text": [
            "\n",
            "\n",
            "Epoch 412/500: 100%|██████████| 12/12 [00:00<00:00, 149.87it/s]\n"
          ]
        },
        {
          "output_type": "stream",
          "name": "stdout",
          "text": [
            "Epoch 412/500\n",
            "Training Loss: 0.060706\n",
            "Validation Loss: 0.072160\n",
            "----------------------------------------\n"
          ]
        },
        {
          "output_type": "stream",
          "name": "stderr",
          "text": [
            "\n",
            "\n",
            "Epoch 413/500: 100%|██████████| 12/12 [00:00<00:00, 160.14it/s]\n"
          ]
        },
        {
          "output_type": "stream",
          "name": "stdout",
          "text": [
            "Epoch 413/500\n",
            "Training Loss: 0.057725\n",
            "Validation Loss: 0.072436\n",
            "----------------------------------------\n"
          ]
        },
        {
          "output_type": "stream",
          "name": "stderr",
          "text": [
            "\n",
            "\n",
            "Epoch 414/500: 100%|██████████| 12/12 [00:00<00:00, 162.32it/s]\n"
          ]
        },
        {
          "output_type": "stream",
          "name": "stdout",
          "text": [
            "Epoch 414/500\n",
            "Training Loss: 0.060437\n",
            "Validation Loss: 0.074288\n",
            "----------------------------------------\n"
          ]
        },
        {
          "output_type": "stream",
          "name": "stderr",
          "text": [
            "\n",
            "\n",
            "Epoch 415/500: 100%|██████████| 12/12 [00:00<00:00, 151.07it/s]\n"
          ]
        },
        {
          "output_type": "stream",
          "name": "stdout",
          "text": [
            "Epoch 415/500\n",
            "Training Loss: 0.059304\n",
            "Validation Loss: 0.073388\n",
            "----------------------------------------\n"
          ]
        },
        {
          "output_type": "stream",
          "name": "stderr",
          "text": [
            "\n",
            "\n",
            "Epoch 416/500: 100%|██████████| 12/12 [00:00<00:00, 175.67it/s]\n"
          ]
        },
        {
          "output_type": "stream",
          "name": "stdout",
          "text": [
            "Epoch 416/500\n",
            "Training Loss: 0.060186\n",
            "Validation Loss: 0.071128\n",
            "----------------------------------------\n"
          ]
        },
        {
          "output_type": "stream",
          "name": "stderr",
          "text": [
            "\n",
            "\n",
            "Epoch 417/500: 100%|██████████| 12/12 [00:00<00:00, 150.34it/s]\n"
          ]
        },
        {
          "output_type": "stream",
          "name": "stdout",
          "text": [
            "Epoch 417/500\n",
            "Training Loss: 0.057967\n",
            "Validation Loss: 0.073088\n",
            "----------------------------------------\n"
          ]
        },
        {
          "output_type": "stream",
          "name": "stderr",
          "text": [
            "\n",
            "\n",
            "Epoch 418/500: 100%|██████████| 12/12 [00:00<00:00, 127.09it/s]\n"
          ]
        },
        {
          "output_type": "stream",
          "name": "stdout",
          "text": [
            "Epoch 418/500\n",
            "Training Loss: 0.060313\n",
            "Validation Loss: 0.072351\n",
            "----------------------------------------\n"
          ]
        },
        {
          "output_type": "stream",
          "name": "stderr",
          "text": [
            "\n",
            "\n",
            "Epoch 419/500: 100%|██████████| 12/12 [00:00<00:00, 144.72it/s]\n"
          ]
        },
        {
          "output_type": "stream",
          "name": "stdout",
          "text": [
            "Epoch 419/500\n",
            "Training Loss: 0.057508\n",
            "Validation Loss: 0.073263\n",
            "----------------------------------------\n"
          ]
        },
        {
          "output_type": "stream",
          "name": "stderr",
          "text": [
            "\n",
            "\n",
            "Epoch 420/500: 100%|██████████| 12/12 [00:00<00:00, 162.76it/s]\n"
          ]
        },
        {
          "output_type": "stream",
          "name": "stdout",
          "text": [
            "Epoch 420/500\n",
            "Training Loss: 0.057051\n",
            "Validation Loss: 0.072129\n",
            "----------------------------------------\n"
          ]
        },
        {
          "output_type": "stream",
          "name": "stderr",
          "text": [
            "\n",
            "\n",
            "Epoch 421/500: 100%|██████████| 12/12 [00:00<00:00, 170.72it/s]\n"
          ]
        },
        {
          "output_type": "stream",
          "name": "stdout",
          "text": [
            "Epoch 421/500\n",
            "Training Loss: 0.058015\n",
            "Validation Loss: 0.073312\n",
            "----------------------------------------\n"
          ]
        },
        {
          "output_type": "stream",
          "name": "stderr",
          "text": [
            "\n",
            "\n",
            "Epoch 422/500: 100%|██████████| 12/12 [00:00<00:00, 134.56it/s]\n"
          ]
        },
        {
          "output_type": "stream",
          "name": "stdout",
          "text": [
            "Epoch 422/500\n",
            "Training Loss: 0.060442\n",
            "Validation Loss: 0.074307\n",
            "----------------------------------------\n"
          ]
        },
        {
          "output_type": "stream",
          "name": "stderr",
          "text": [
            "\n",
            "\n",
            "Epoch 423/500: 100%|██████████| 12/12 [00:00<00:00, 128.88it/s]\n"
          ]
        },
        {
          "output_type": "stream",
          "name": "stdout",
          "text": [
            "Epoch 423/500\n",
            "Training Loss: 0.061788\n",
            "Validation Loss: 0.073057\n",
            "----------------------------------------\n"
          ]
        },
        {
          "output_type": "stream",
          "name": "stderr",
          "text": [
            "\n",
            "\n",
            "Epoch 424/500: 100%|██████████| 12/12 [00:00<00:00, 128.94it/s]\n"
          ]
        },
        {
          "output_type": "stream",
          "name": "stdout",
          "text": [
            "Epoch 424/500\n",
            "Training Loss: 0.058919\n",
            "Validation Loss: 0.073826\n",
            "----------------------------------------\n"
          ]
        },
        {
          "output_type": "stream",
          "name": "stderr",
          "text": [
            "\n",
            "\n",
            "Epoch 425/500: 100%|██████████| 12/12 [00:00<00:00, 156.42it/s]\n"
          ]
        },
        {
          "output_type": "stream",
          "name": "stdout",
          "text": [
            "Epoch 425/500\n",
            "Training Loss: 0.059964\n",
            "Validation Loss: 0.072120\n",
            "----------------------------------------\n"
          ]
        },
        {
          "output_type": "stream",
          "name": "stderr",
          "text": [
            "\n",
            "\n",
            "Epoch 426/500: 100%|██████████| 12/12 [00:00<00:00, 179.04it/s]\n"
          ]
        },
        {
          "output_type": "stream",
          "name": "stdout",
          "text": [
            "Epoch 426/500\n",
            "Training Loss: 0.059050\n",
            "Validation Loss: 0.074787\n",
            "----------------------------------------\n"
          ]
        },
        {
          "output_type": "stream",
          "name": "stderr",
          "text": [
            "\n",
            "\n",
            "Epoch 427/500: 100%|██████████| 12/12 [00:00<00:00, 167.28it/s]\n"
          ]
        },
        {
          "output_type": "stream",
          "name": "stdout",
          "text": [
            "Epoch 427/500\n",
            "Training Loss: 0.059776\n",
            "Validation Loss: 0.071925\n",
            "----------------------------------------\n"
          ]
        },
        {
          "output_type": "stream",
          "name": "stderr",
          "text": [
            "\n",
            "\n",
            "Epoch 428/500:   0%|          | 0/12 [00:00<?, ?it/s]\u001b[A\u001b[A\n",
            "\n",
            "Epoch 428/500: 100%|██████████| 12/12 [00:00<00:00, 101.11it/s]\n"
          ]
        },
        {
          "output_type": "stream",
          "name": "stdout",
          "text": [
            "Epoch 428/500\n",
            "Training Loss: 0.060187\n",
            "Validation Loss: 0.072469\n",
            "----------------------------------------\n"
          ]
        },
        {
          "output_type": "stream",
          "name": "stderr",
          "text": [
            "\n",
            "\n",
            "Epoch 429/500: 100%|██████████| 12/12 [00:00<00:00, 136.76it/s]\n"
          ]
        },
        {
          "output_type": "stream",
          "name": "stdout",
          "text": [
            "Epoch 429/500\n",
            "Training Loss: 0.059325\n",
            "Validation Loss: 0.074906\n",
            "----------------------------------------\n"
          ]
        },
        {
          "output_type": "stream",
          "name": "stderr",
          "text": [
            "\n",
            "\n",
            "Epoch 430/500: 100%|██████████| 12/12 [00:00<00:00, 184.97it/s]\n"
          ]
        },
        {
          "output_type": "stream",
          "name": "stdout",
          "text": [
            "Epoch 430/500\n",
            "Training Loss: 0.059149\n",
            "Validation Loss: 0.071421\n",
            "----------------------------------------\n"
          ]
        },
        {
          "output_type": "stream",
          "name": "stderr",
          "text": [
            "\n",
            "\n",
            "Epoch 431/500: 100%|██████████| 12/12 [00:00<00:00, 186.81it/s]\n"
          ]
        },
        {
          "output_type": "stream",
          "name": "stdout",
          "text": [
            "Epoch 431/500\n",
            "Training Loss: 0.059153\n",
            "Validation Loss: 0.075874\n",
            "----------------------------------------\n"
          ]
        },
        {
          "output_type": "stream",
          "name": "stderr",
          "text": [
            "\n",
            "\n",
            "Epoch 432/500: 100%|██████████| 12/12 [00:00<00:00, 198.74it/s]\n"
          ]
        },
        {
          "output_type": "stream",
          "name": "stdout",
          "text": [
            "Epoch 432/500\n",
            "Training Loss: 0.057798\n",
            "Validation Loss: 0.071608\n",
            "----------------------------------------\n"
          ]
        },
        {
          "output_type": "stream",
          "name": "stderr",
          "text": [
            "\n",
            "\n",
            "Epoch 433/500: 100%|██████████| 12/12 [00:00<00:00, 178.22it/s]\n"
          ]
        },
        {
          "output_type": "stream",
          "name": "stdout",
          "text": [
            "Epoch 433/500\n",
            "Training Loss: 0.056763\n",
            "Validation Loss: 0.076279\n",
            "----------------------------------------\n"
          ]
        },
        {
          "output_type": "stream",
          "name": "stderr",
          "text": [
            "\n",
            "\n",
            "Epoch 434/500: 100%|██████████| 12/12 [00:00<00:00, 194.00it/s]\n"
          ]
        },
        {
          "output_type": "stream",
          "name": "stdout",
          "text": [
            "Epoch 434/500\n",
            "Training Loss: 0.057319\n",
            "Validation Loss: 0.072154\n",
            "----------------------------------------\n"
          ]
        },
        {
          "output_type": "stream",
          "name": "stderr",
          "text": [
            "\n",
            "\n",
            "Epoch 435/500: 100%|██████████| 12/12 [00:00<00:00, 194.48it/s]\n"
          ]
        },
        {
          "output_type": "stream",
          "name": "stdout",
          "text": [
            "Epoch 435/500\n",
            "Training Loss: 0.059504\n",
            "Validation Loss: 0.072573\n",
            "----------------------------------------\n"
          ]
        },
        {
          "output_type": "stream",
          "name": "stderr",
          "text": [
            "\n",
            "\n",
            "Epoch 436/500: 100%|██████████| 12/12 [00:00<00:00, 198.76it/s]\n"
          ]
        },
        {
          "output_type": "stream",
          "name": "stdout",
          "text": [
            "Epoch 436/500\n",
            "Training Loss: 0.059788\n",
            "Validation Loss: 0.073290\n",
            "----------------------------------------\n"
          ]
        },
        {
          "output_type": "stream",
          "name": "stderr",
          "text": [
            "\n",
            "\n",
            "Epoch 437/500: 100%|██████████| 12/12 [00:00<00:00, 173.26it/s]\n"
          ]
        },
        {
          "output_type": "stream",
          "name": "stdout",
          "text": [
            "Epoch 437/500\n",
            "Training Loss: 0.056428\n",
            "Validation Loss: 0.071104\n",
            "----------------------------------------\n"
          ]
        },
        {
          "output_type": "stream",
          "name": "stderr",
          "text": [
            "\n",
            "\n",
            "Epoch 438/500: 100%|██████████| 12/12 [00:00<00:00, 123.66it/s]"
          ]
        },
        {
          "output_type": "stream",
          "name": "stdout",
          "text": [
            "Epoch 438/500"
          ]
        },
        {
          "output_type": "stream",
          "name": "stderr",
          "text": [
            "\n"
          ]
        },
        {
          "output_type": "stream",
          "name": "stdout",
          "text": [
            "\n",
            "Training Loss: 0.058766\n",
            "Validation Loss: 0.074317\n",
            "----------------------------------------\n"
          ]
        },
        {
          "output_type": "stream",
          "name": "stderr",
          "text": [
            "\n",
            "\n",
            "Epoch 439/500:   0%|          | 0/12 [00:00<?, ?it/s]\u001b[A\u001b[A\n",
            "\n",
            "Epoch 439/500: 100%|██████████| 12/12 [00:00<00:00, 101.32it/s]\n"
          ]
        },
        {
          "output_type": "stream",
          "name": "stdout",
          "text": [
            "Epoch 439/500\n",
            "Training Loss: 0.059016\n",
            "Validation Loss: 0.072764\n",
            "----------------------------------------\n"
          ]
        },
        {
          "output_type": "stream",
          "name": "stderr",
          "text": [
            "\n",
            "\n",
            "Epoch 440/500:   0%|          | 0/12 [00:00<?, ?it/s]\u001b[A\u001b[A\n",
            "\n",
            "Epoch 440/500: 100%|██████████| 12/12 [00:00<00:00, 95.89it/s] \n"
          ]
        },
        {
          "output_type": "stream",
          "name": "stdout",
          "text": [
            "Epoch 440/500\n",
            "Training Loss: 0.055975\n",
            "Validation Loss: 0.073408\n",
            "----------------------------------------\n"
          ]
        },
        {
          "output_type": "stream",
          "name": "stderr",
          "text": [
            "\n",
            "\n",
            "Epoch 441/500: 100%|██████████| 12/12 [00:00<00:00, 127.42it/s]\n"
          ]
        },
        {
          "output_type": "stream",
          "name": "stdout",
          "text": [
            "Epoch 441/500\n",
            "Training Loss: 0.058057\n",
            "Validation Loss: 0.072527\n",
            "----------------------------------------\n"
          ]
        },
        {
          "output_type": "stream",
          "name": "stderr",
          "text": [
            "\n",
            "\n",
            "Epoch 442/500: 100%|██████████| 12/12 [00:00<00:00, 127.01it/s]\n"
          ]
        },
        {
          "output_type": "stream",
          "name": "stdout",
          "text": [
            "Epoch 442/500\n",
            "Training Loss: 0.058575\n",
            "Validation Loss: 0.073435\n",
            "----------------------------------------\n"
          ]
        },
        {
          "output_type": "stream",
          "name": "stderr",
          "text": [
            "\n",
            "\n",
            "Epoch 443/500:   0%|          | 0/12 [00:00<?, ?it/s]\u001b[A\u001b[A\n",
            "\n",
            "Epoch 443/500: 100%|██████████| 12/12 [00:00<00:00, 94.46it/s]\n"
          ]
        },
        {
          "output_type": "stream",
          "name": "stdout",
          "text": [
            "Epoch 443/500\n",
            "Training Loss: 0.060421\n",
            "Validation Loss: 0.073638\n",
            "----------------------------------------\n"
          ]
        },
        {
          "output_type": "stream",
          "name": "stderr",
          "text": [
            "\n",
            "\n",
            "Epoch 444/500:   0%|          | 0/12 [00:00<?, ?it/s]\u001b[A\u001b[A\n",
            "\n",
            "Epoch 444/500: 100%|██████████| 12/12 [00:00<00:00, 95.17it/s]\n"
          ]
        },
        {
          "output_type": "stream",
          "name": "stdout",
          "text": [
            "Epoch 444/500\n",
            "Training Loss: 0.059055\n",
            "Validation Loss: 0.073101\n",
            "----------------------------------------\n"
          ]
        },
        {
          "output_type": "stream",
          "name": "stderr",
          "text": [
            "\n",
            "\n",
            "Epoch 445/500:   0%|          | 0/12 [00:00<?, ?it/s]\u001b[A\u001b[A\n",
            "\n",
            "Epoch 445/500: 100%|██████████| 12/12 [00:00<00:00, 101.80it/s]\n"
          ]
        },
        {
          "output_type": "stream",
          "name": "stdout",
          "text": [
            "Epoch 445/500\n",
            "Training Loss: 0.058709\n",
            "Validation Loss: 0.072408\n",
            "----------------------------------------\n"
          ]
        },
        {
          "output_type": "stream",
          "name": "stderr",
          "text": [
            "\n",
            "\n",
            "Epoch 446/500:   0%|          | 0/12 [00:00<?, ?it/s]\u001b[A\u001b[A\n",
            "\n",
            "Epoch 446/500: 100%|██████████| 12/12 [00:00<00:00, 91.07it/s] \n"
          ]
        },
        {
          "output_type": "stream",
          "name": "stdout",
          "text": [
            "Epoch 446/500\n",
            "Training Loss: 0.057704\n",
            "Validation Loss: 0.073301\n",
            "----------------------------------------\n"
          ]
        },
        {
          "output_type": "stream",
          "name": "stderr",
          "text": [
            "\n",
            "\n",
            "Epoch 447/500:   0%|          | 0/12 [00:00<?, ?it/s]\u001b[A\u001b[A\n",
            "\n",
            "Epoch 447/500: 100%|██████████| 12/12 [00:00<00:00, 107.37it/s]\n"
          ]
        },
        {
          "output_type": "stream",
          "name": "stdout",
          "text": [
            "Epoch 447/500\n",
            "Training Loss: 0.057257\n",
            "Validation Loss: 0.072954\n",
            "----------------------------------------\n"
          ]
        },
        {
          "output_type": "stream",
          "name": "stderr",
          "text": [
            "\n",
            "\n",
            "Epoch 448/500: 100%|██████████| 12/12 [00:00<00:00, 167.14it/s]\n"
          ]
        },
        {
          "output_type": "stream",
          "name": "stdout",
          "text": [
            "Epoch 448/500\n",
            "Training Loss: 0.057953\n",
            "Validation Loss: 0.072820\n",
            "----------------------------------------\n"
          ]
        },
        {
          "output_type": "stream",
          "name": "stderr",
          "text": [
            "\n",
            "\n",
            "Epoch 449/500: 100%|██████████| 12/12 [00:00<00:00, 155.11it/s]\n"
          ]
        },
        {
          "output_type": "stream",
          "name": "stdout",
          "text": [
            "Epoch 449/500\n",
            "Training Loss: 0.059560\n",
            "Validation Loss: 0.072176\n",
            "----------------------------------------\n"
          ]
        },
        {
          "output_type": "stream",
          "name": "stderr",
          "text": [
            "\n",
            "\n",
            "Epoch 450/500: 100%|██████████| 12/12 [00:00<00:00, 161.93it/s]\n"
          ]
        },
        {
          "output_type": "stream",
          "name": "stdout",
          "text": [
            "Epoch 450/500\n",
            "Training Loss: 0.058289\n",
            "Validation Loss: 0.072223\n",
            "----------------------------------------\n"
          ]
        },
        {
          "output_type": "stream",
          "name": "stderr",
          "text": [
            "\n",
            "\n",
            "Epoch 451/500: 100%|██████████| 12/12 [00:00<00:00, 139.92it/s]\n"
          ]
        },
        {
          "output_type": "stream",
          "name": "stdout",
          "text": [
            "Epoch 451/500\n",
            "Training Loss: 0.060410\n",
            "Validation Loss: 0.074948\n",
            "----------------------------------------\n"
          ]
        },
        {
          "output_type": "stream",
          "name": "stderr",
          "text": [
            "\n",
            "\n",
            "Epoch 452/500: 100%|██████████| 12/12 [00:00<00:00, 126.62it/s]\n"
          ]
        },
        {
          "output_type": "stream",
          "name": "stdout",
          "text": [
            "Epoch 452/500\n",
            "Training Loss: 0.059302\n",
            "Validation Loss: 0.071119\n",
            "----------------------------------------\n"
          ]
        },
        {
          "output_type": "stream",
          "name": "stderr",
          "text": [
            "\n",
            "\n",
            "Epoch 453/500: 100%|██████████| 12/12 [00:00<00:00, 160.71it/s]\n"
          ]
        },
        {
          "output_type": "stream",
          "name": "stdout",
          "text": [
            "Epoch 453/500\n",
            "Training Loss: 0.060257\n",
            "Validation Loss: 0.073114\n",
            "----------------------------------------\n"
          ]
        },
        {
          "output_type": "stream",
          "name": "stderr",
          "text": [
            "\n",
            "\n",
            "Epoch 454/500: 100%|██████████| 12/12 [00:00<00:00, 169.24it/s]\n"
          ]
        },
        {
          "output_type": "stream",
          "name": "stdout",
          "text": [
            "Epoch 454/500\n",
            "Training Loss: 0.056906\n",
            "Validation Loss: 0.072495\n",
            "----------------------------------------\n"
          ]
        },
        {
          "output_type": "stream",
          "name": "stderr",
          "text": [
            "\n",
            "\n",
            "Epoch 455/500: 100%|██████████| 12/12 [00:00<00:00, 157.59it/s]\n"
          ]
        },
        {
          "output_type": "stream",
          "name": "stdout",
          "text": [
            "Epoch 455/500\n",
            "Training Loss: 0.059417\n",
            "Validation Loss: 0.072788\n",
            "----------------------------------------\n"
          ]
        },
        {
          "output_type": "stream",
          "name": "stderr",
          "text": [
            "\n",
            "\n",
            "Epoch 456/500: 100%|██████████| 12/12 [00:00<00:00, 148.81it/s]\n"
          ]
        },
        {
          "output_type": "stream",
          "name": "stdout",
          "text": [
            "Epoch 456/500\n",
            "Training Loss: 0.058582\n",
            "Validation Loss: 0.073915\n",
            "----------------------------------------\n"
          ]
        },
        {
          "output_type": "stream",
          "name": "stderr",
          "text": [
            "\n",
            "\n",
            "Epoch 457/500: 100%|██████████| 12/12 [00:00<00:00, 133.62it/s]\n"
          ]
        },
        {
          "output_type": "stream",
          "name": "stdout",
          "text": [
            "Epoch 457/500\n",
            "Training Loss: 0.058699\n",
            "Validation Loss: 0.072307\n",
            "----------------------------------------\n"
          ]
        },
        {
          "output_type": "stream",
          "name": "stderr",
          "text": [
            "\n",
            "\n",
            "Epoch 458/500: 100%|██████████| 12/12 [00:00<00:00, 181.11it/s]\n"
          ]
        },
        {
          "output_type": "stream",
          "name": "stdout",
          "text": [
            "Epoch 458/500\n",
            "Training Loss: 0.058840\n",
            "Validation Loss: 0.074061\n",
            "----------------------------------------\n"
          ]
        },
        {
          "output_type": "stream",
          "name": "stderr",
          "text": [
            "\n",
            "\n",
            "Epoch 459/500: 100%|██████████| 12/12 [00:00<00:00, 158.82it/s]\n"
          ]
        },
        {
          "output_type": "stream",
          "name": "stdout",
          "text": [
            "Epoch 459/500\n",
            "Training Loss: 0.057242\n",
            "Validation Loss: 0.074336\n",
            "----------------------------------------\n"
          ]
        },
        {
          "output_type": "stream",
          "name": "stderr",
          "text": [
            "\n",
            "\n",
            "Epoch 460/500: 100%|██████████| 12/12 [00:00<00:00, 179.31it/s]\n"
          ]
        },
        {
          "output_type": "stream",
          "name": "stdout",
          "text": [
            "Epoch 460/500\n",
            "Training Loss: 0.055836\n",
            "Validation Loss: 0.073247\n",
            "----------------------------------------\n"
          ]
        },
        {
          "output_type": "stream",
          "name": "stderr",
          "text": [
            "\n",
            "\n",
            "Epoch 461/500: 100%|██████████| 12/12 [00:00<00:00, 160.93it/s]\n"
          ]
        },
        {
          "output_type": "stream",
          "name": "stdout",
          "text": [
            "Epoch 461/500\n",
            "Training Loss: 0.057284\n",
            "Validation Loss: 0.072092\n",
            "----------------------------------------\n"
          ]
        },
        {
          "output_type": "stream",
          "name": "stderr",
          "text": [
            "\n",
            "\n",
            "Epoch 462/500:   0%|          | 0/12 [00:00<?, ?it/s]\u001b[A\u001b[A\n",
            "\n",
            "Epoch 462/500: 100%|██████████| 12/12 [00:00<00:00, 110.83it/s]\n"
          ]
        },
        {
          "output_type": "stream",
          "name": "stdout",
          "text": [
            "Epoch 462/500\n",
            "Training Loss: 0.058828\n",
            "Validation Loss: 0.073402\n",
            "----------------------------------------\n"
          ]
        },
        {
          "output_type": "stream",
          "name": "stderr",
          "text": [
            "\n",
            "\n",
            "Epoch 463/500: 100%|██████████| 12/12 [00:00<00:00, 130.36it/s]\n"
          ]
        },
        {
          "output_type": "stream",
          "name": "stdout",
          "text": [
            "Epoch 463/500\n",
            "Training Loss: 0.058999\n",
            "Validation Loss: 0.071943\n",
            "----------------------------------------\n"
          ]
        },
        {
          "output_type": "stream",
          "name": "stderr",
          "text": [
            "\n",
            "\n",
            "Epoch 464/500: 100%|██████████| 12/12 [00:00<00:00, 134.04it/s]\n"
          ]
        },
        {
          "output_type": "stream",
          "name": "stdout",
          "text": [
            "Epoch 464/500\n",
            "Training Loss: 0.058920\n",
            "Validation Loss: 0.073861\n",
            "----------------------------------------\n"
          ]
        },
        {
          "output_type": "stream",
          "name": "stderr",
          "text": [
            "\n",
            "\n",
            "Epoch 465/500: 100%|██████████| 12/12 [00:00<00:00, 177.60it/s]\n"
          ]
        },
        {
          "output_type": "stream",
          "name": "stdout",
          "text": [
            "Epoch 465/500\n",
            "Training Loss: 0.056578\n",
            "Validation Loss: 0.072450\n",
            "----------------------------------------\n"
          ]
        },
        {
          "output_type": "stream",
          "name": "stderr",
          "text": [
            "\n",
            "\n",
            "Epoch 466/500: 100%|██████████| 12/12 [00:00<00:00, 144.42it/s]\n"
          ]
        },
        {
          "output_type": "stream",
          "name": "stdout",
          "text": [
            "Epoch 466/500\n",
            "Training Loss: 0.057948\n",
            "Validation Loss: 0.073337\n",
            "----------------------------------------\n"
          ]
        },
        {
          "output_type": "stream",
          "name": "stderr",
          "text": [
            "\n",
            "\n",
            "Epoch 467/500: 100%|██████████| 12/12 [00:00<00:00, 128.62it/s]\n"
          ]
        },
        {
          "output_type": "stream",
          "name": "stdout",
          "text": [
            "Epoch 467/500\n",
            "Training Loss: 0.057494\n",
            "Validation Loss: 0.073243\n",
            "----------------------------------------\n"
          ]
        },
        {
          "output_type": "stream",
          "name": "stderr",
          "text": [
            "\n",
            "\n",
            "Epoch 468/500: 100%|██████████| 12/12 [00:00<00:00, 182.56it/s]\n"
          ]
        },
        {
          "output_type": "stream",
          "name": "stdout",
          "text": [
            "Epoch 468/500\n",
            "Training Loss: 0.057251\n",
            "Validation Loss: 0.072269\n",
            "----------------------------------------\n"
          ]
        },
        {
          "output_type": "stream",
          "name": "stderr",
          "text": [
            "\n",
            "\n",
            "Epoch 469/500: 100%|██████████| 12/12 [00:00<00:00, 167.16it/s]\n"
          ]
        },
        {
          "output_type": "stream",
          "name": "stdout",
          "text": [
            "Epoch 469/500\n",
            "Training Loss: 0.058508\n",
            "Validation Loss: 0.073371\n",
            "----------------------------------------\n"
          ]
        },
        {
          "output_type": "stream",
          "name": "stderr",
          "text": [
            "\n",
            "\n",
            "Epoch 470/500: 100%|██████████| 12/12 [00:00<00:00, 185.60it/s]\n"
          ]
        },
        {
          "output_type": "stream",
          "name": "stdout",
          "text": [
            "Epoch 470/500\n",
            "Training Loss: 0.058327\n",
            "Validation Loss: 0.071514\n",
            "----------------------------------------\n"
          ]
        },
        {
          "output_type": "stream",
          "name": "stderr",
          "text": [
            "\n",
            "\n",
            "Epoch 471/500: 100%|██████████| 12/12 [00:00<00:00, 155.49it/s]\n"
          ]
        },
        {
          "output_type": "stream",
          "name": "stdout",
          "text": [
            "Epoch 471/500\n",
            "Training Loss: 0.059046\n",
            "Validation Loss: 0.074531\n",
            "----------------------------------------\n"
          ]
        },
        {
          "output_type": "stream",
          "name": "stderr",
          "text": [
            "\n",
            "\n",
            "Epoch 472/500: 100%|██████████| 12/12 [00:00<00:00, 172.64it/s]\n"
          ]
        },
        {
          "output_type": "stream",
          "name": "stdout",
          "text": [
            "Epoch 472/500\n",
            "Training Loss: 0.059111\n",
            "Validation Loss: 0.072446\n",
            "----------------------------------------\n"
          ]
        },
        {
          "output_type": "stream",
          "name": "stderr",
          "text": [
            "\n",
            "\n",
            "Epoch 473/500: 100%|██████████| 12/12 [00:00<00:00, 180.83it/s]\n"
          ]
        },
        {
          "output_type": "stream",
          "name": "stdout",
          "text": [
            "Epoch 473/500\n",
            "Training Loss: 0.060397\n",
            "Validation Loss: 0.075855\n",
            "----------------------------------------\n"
          ]
        },
        {
          "output_type": "stream",
          "name": "stderr",
          "text": [
            "\n",
            "\n",
            "Epoch 474/500: 100%|██████████| 12/12 [00:00<00:00, 154.03it/s]\n"
          ]
        },
        {
          "output_type": "stream",
          "name": "stdout",
          "text": [
            "Epoch 474/500\n",
            "Training Loss: 0.059459\n",
            "Validation Loss: 0.071255\n",
            "----------------------------------------\n"
          ]
        },
        {
          "output_type": "stream",
          "name": "stderr",
          "text": [
            "\n",
            "\n",
            "Epoch 475/500: 100%|██████████| 12/12 [00:00<00:00, 140.34it/s]\n"
          ]
        },
        {
          "output_type": "stream",
          "name": "stdout",
          "text": [
            "Epoch 475/500\n",
            "Training Loss: 0.059355\n",
            "Validation Loss: 0.076121\n",
            "----------------------------------------\n"
          ]
        },
        {
          "output_type": "stream",
          "name": "stderr",
          "text": [
            "\n",
            "\n",
            "Epoch 476/500: 100%|██████████| 12/12 [00:00<00:00, 150.97it/s]\n"
          ]
        },
        {
          "output_type": "stream",
          "name": "stdout",
          "text": [
            "Epoch 476/500\n",
            "Training Loss: 0.060882\n",
            "Validation Loss: 0.071428\n",
            "----------------------------------------\n"
          ]
        },
        {
          "output_type": "stream",
          "name": "stderr",
          "text": [
            "\n",
            "\n",
            "Epoch 477/500:   0%|          | 0/12 [00:00<?, ?it/s]\u001b[A\u001b[A\n",
            "\n",
            "Epoch 477/500: 100%|██████████| 12/12 [00:00<00:00, 87.61it/s]\n"
          ]
        },
        {
          "output_type": "stream",
          "name": "stdout",
          "text": [
            "Epoch 477/500\n",
            "Training Loss: 0.057096\n",
            "Validation Loss: 0.072710\n",
            "----------------------------------------\n"
          ]
        },
        {
          "output_type": "stream",
          "name": "stderr",
          "text": [
            "\n",
            "\n",
            "Epoch 478/500:   0%|          | 0/12 [00:00<?, ?it/s]\u001b[A\u001b[A\n",
            "\n",
            "Epoch 478/500: 100%|██████████| 12/12 [00:00<00:00, 107.00it/s]\n"
          ]
        },
        {
          "output_type": "stream",
          "name": "stdout",
          "text": [
            "Epoch 478/500\n",
            "Training Loss: 0.057021\n",
            "Validation Loss: 0.073233\n",
            "----------------------------------------\n"
          ]
        },
        {
          "output_type": "stream",
          "name": "stderr",
          "text": [
            "\n",
            "\n",
            "Epoch 479/500: 100%|██████████| 12/12 [00:00<00:00, 125.38it/s]\n"
          ]
        },
        {
          "output_type": "stream",
          "name": "stdout",
          "text": [
            "Epoch 479/500\n",
            "Training Loss: 0.057013\n",
            "Validation Loss: 0.073945\n",
            "----------------------------------------\n"
          ]
        },
        {
          "output_type": "stream",
          "name": "stderr",
          "text": [
            "\n",
            "\n",
            "Epoch 480/500: 100%|██████████| 12/12 [00:00<00:00, 178.28it/s]"
          ]
        },
        {
          "output_type": "stream",
          "name": "stdout",
          "text": [
            "Epoch 480/500"
          ]
        },
        {
          "output_type": "stream",
          "name": "stderr",
          "text": [
            "\n"
          ]
        },
        {
          "output_type": "stream",
          "name": "stdout",
          "text": [
            "\n",
            "Training Loss: 0.059245\n",
            "Validation Loss: 0.073654\n",
            "----------------------------------------\n"
          ]
        },
        {
          "output_type": "stream",
          "name": "stderr",
          "text": [
            "\n",
            "\n",
            "Epoch 481/500: 100%|██████████| 12/12 [00:00<00:00, 185.84it/s]\n"
          ]
        },
        {
          "output_type": "stream",
          "name": "stdout",
          "text": [
            "Epoch 481/500\n",
            "Training Loss: 0.059411\n",
            "Validation Loss: 0.071876\n",
            "----------------------------------------\n"
          ]
        },
        {
          "output_type": "stream",
          "name": "stderr",
          "text": [
            "\n",
            "\n",
            "Epoch 482/500: 100%|██████████| 12/12 [00:00<00:00, 161.07it/s]\n"
          ]
        },
        {
          "output_type": "stream",
          "name": "stdout",
          "text": [
            "Epoch 482/500\n",
            "Training Loss: 0.059426\n",
            "Validation Loss: 0.074295\n",
            "----------------------------------------\n"
          ]
        },
        {
          "output_type": "stream",
          "name": "stderr",
          "text": [
            "\n",
            "\n",
            "Epoch 483/500: 100%|██████████| 12/12 [00:00<00:00, 177.87it/s]\n"
          ]
        },
        {
          "output_type": "stream",
          "name": "stdout",
          "text": [
            "Epoch 483/500\n",
            "Training Loss: 0.058315\n",
            "Validation Loss: 0.071102\n",
            "----------------------------------------\n"
          ]
        },
        {
          "output_type": "stream",
          "name": "stderr",
          "text": [
            "\n",
            "\n",
            "Epoch 484/500: 100%|██████████| 12/12 [00:00<00:00, 169.25it/s]\n"
          ]
        },
        {
          "output_type": "stream",
          "name": "stdout",
          "text": [
            "Epoch 484/500\n",
            "Training Loss: 0.058669\n",
            "Validation Loss: 0.074441\n",
            "----------------------------------------\n"
          ]
        },
        {
          "output_type": "stream",
          "name": "stderr",
          "text": [
            "\n",
            "\n",
            "Epoch 485/500: 100%|██████████| 12/12 [00:00<00:00, 127.49it/s]\n"
          ]
        },
        {
          "output_type": "stream",
          "name": "stdout",
          "text": [
            "Epoch 485/500\n",
            "Training Loss: 0.060312\n",
            "Validation Loss: 0.071620\n",
            "----------------------------------------\n"
          ]
        },
        {
          "output_type": "stream",
          "name": "stderr",
          "text": [
            "\n",
            "\n",
            "Epoch 486/500: 100%|██████████| 12/12 [00:00<00:00, 156.96it/s]\n"
          ]
        },
        {
          "output_type": "stream",
          "name": "stdout",
          "text": [
            "Epoch 486/500\n",
            "Training Loss: 0.057480\n",
            "Validation Loss: 0.074492\n",
            "----------------------------------------\n"
          ]
        },
        {
          "output_type": "stream",
          "name": "stderr",
          "text": [
            "\n",
            "\n",
            "Epoch 487/500: 100%|██████████| 12/12 [00:00<00:00, 137.92it/s]\n"
          ]
        },
        {
          "output_type": "stream",
          "name": "stdout",
          "text": [
            "Epoch 487/500\n",
            "Training Loss: 0.058621\n",
            "Validation Loss: 0.072281\n",
            "----------------------------------------\n"
          ]
        },
        {
          "output_type": "stream",
          "name": "stderr",
          "text": [
            "\n",
            "\n",
            "Epoch 488/500: 100%|██████████| 12/12 [00:00<00:00, 140.25it/s]\n"
          ]
        },
        {
          "output_type": "stream",
          "name": "stdout",
          "text": [
            "Epoch 488/500\n",
            "Training Loss: 0.059439\n",
            "Validation Loss: 0.074775\n",
            "----------------------------------------\n"
          ]
        },
        {
          "output_type": "stream",
          "name": "stderr",
          "text": [
            "\n",
            "\n",
            "Epoch 489/500: 100%|██████████| 12/12 [00:00<00:00, 171.31it/s]\n"
          ]
        },
        {
          "output_type": "stream",
          "name": "stdout",
          "text": [
            "Epoch 489/500\n",
            "Training Loss: 0.060571\n",
            "Validation Loss: 0.074572\n",
            "----------------------------------------\n"
          ]
        },
        {
          "output_type": "stream",
          "name": "stderr",
          "text": [
            "\n",
            "\n",
            "Epoch 490/500: 100%|██████████| 12/12 [00:00<00:00, 176.19it/s]\n"
          ]
        },
        {
          "output_type": "stream",
          "name": "stdout",
          "text": [
            "Epoch 490/500\n",
            "Training Loss: 0.057137\n",
            "Validation Loss: 0.071557\n",
            "----------------------------------------\n"
          ]
        },
        {
          "output_type": "stream",
          "name": "stderr",
          "text": [
            "\n",
            "\n",
            "Epoch 491/500: 100%|██████████| 12/12 [00:00<00:00, 198.12it/s]\n"
          ]
        },
        {
          "output_type": "stream",
          "name": "stdout",
          "text": [
            "Epoch 491/500\n",
            "Training Loss: 0.057895\n",
            "Validation Loss: 0.075767\n",
            "----------------------------------------\n"
          ]
        },
        {
          "output_type": "stream",
          "name": "stderr",
          "text": [
            "\n",
            "\n",
            "Epoch 492/500: 100%|██████████| 12/12 [00:00<00:00, 187.12it/s]\n"
          ]
        },
        {
          "output_type": "stream",
          "name": "stdout",
          "text": [
            "Epoch 492/500\n",
            "Training Loss: 0.059019\n",
            "Validation Loss: 0.073019\n",
            "----------------------------------------\n"
          ]
        },
        {
          "output_type": "stream",
          "name": "stderr",
          "text": [
            "\n",
            "\n",
            "Epoch 493/500: 100%|██████████| 12/12 [00:00<00:00, 188.57it/s]\n"
          ]
        },
        {
          "output_type": "stream",
          "name": "stdout",
          "text": [
            "Epoch 493/500\n",
            "Training Loss: 0.057089\n",
            "Validation Loss: 0.073130\n",
            "----------------------------------------\n"
          ]
        },
        {
          "output_type": "stream",
          "name": "stderr",
          "text": [
            "\n",
            "\n",
            "Epoch 494/500: 100%|██████████| 12/12 [00:00<00:00, 186.23it/s]\n"
          ]
        },
        {
          "output_type": "stream",
          "name": "stdout",
          "text": [
            "Epoch 494/500\n",
            "Training Loss: 0.060198\n",
            "Validation Loss: 0.073030\n",
            "----------------------------------------\n"
          ]
        },
        {
          "output_type": "stream",
          "name": "stderr",
          "text": [
            "\n",
            "\n",
            "Epoch 495/500: 100%|██████████| 12/12 [00:00<00:00, 167.61it/s]\n"
          ]
        },
        {
          "output_type": "stream",
          "name": "stdout",
          "text": [
            "Epoch 495/500\n",
            "Training Loss: 0.059117\n",
            "Validation Loss: 0.071639\n",
            "----------------------------------------\n"
          ]
        },
        {
          "output_type": "stream",
          "name": "stderr",
          "text": [
            "\n",
            "\n",
            "Epoch 496/500: 100%|██████████| 12/12 [00:00<00:00, 158.26it/s]\n"
          ]
        },
        {
          "output_type": "stream",
          "name": "stdout",
          "text": [
            "Epoch 496/500\n",
            "Training Loss: 0.057202\n",
            "Validation Loss: 0.073694\n",
            "----------------------------------------\n"
          ]
        },
        {
          "output_type": "stream",
          "name": "stderr",
          "text": [
            "\n",
            "\n",
            "Epoch 497/500: 100%|██████████| 12/12 [00:00<00:00, 143.95it/s]\n"
          ]
        },
        {
          "output_type": "stream",
          "name": "stdout",
          "text": [
            "Epoch 497/500\n",
            "Training Loss: 0.056232\n",
            "Validation Loss: 0.073872\n",
            "----------------------------------------\n"
          ]
        },
        {
          "output_type": "stream",
          "name": "stderr",
          "text": [
            "\n",
            "\n",
            "Epoch 498/500: 100%|██████████| 12/12 [00:00<00:00, 158.62it/s]\n"
          ]
        },
        {
          "output_type": "stream",
          "name": "stdout",
          "text": [
            "Epoch 498/500\n",
            "Training Loss: 0.059845\n",
            "Validation Loss: 0.075902\n",
            "----------------------------------------\n"
          ]
        },
        {
          "output_type": "stream",
          "name": "stderr",
          "text": [
            "\n",
            "\n",
            "Epoch 499/500: 100%|██████████| 12/12 [00:00<00:00, 143.46it/s]\n"
          ]
        },
        {
          "output_type": "stream",
          "name": "stdout",
          "text": [
            "Epoch 499/500\n",
            "Training Loss: 0.057731\n",
            "Validation Loss: 0.070866\n",
            "----------------------------------------\n"
          ]
        },
        {
          "output_type": "stream",
          "name": "stderr",
          "text": [
            "\n",
            "\n",
            "Epoch 500/500: 100%|██████████| 12/12 [00:00<00:00, 178.18it/s]\n"
          ]
        },
        {
          "output_type": "stream",
          "name": "stdout",
          "text": [
            "Epoch 500/500\n",
            "Training Loss: 0.058370\n",
            "Validation Loss: 0.076747\n",
            "----------------------------------------\n"
          ]
        },
        {
          "output_type": "display_data",
          "data": {
            "text/plain": [
              "<Figure size 1000x600 with 1 Axes>"
            ],
            "image/png": "[encoded data removed]"
          },
          "metadata": {}
        }
      ]
    },
    {
      "cell_type": "code",
      "source": [
        "# Step 5 - Do predictions\n",
        "import torch\n",
        "import numpy as np\n",
        "import matplotlib.pyplot as plt\n",
        "from sklearn.metrics import mean_absolute_error\n",
        "\n",
        "def evaluate_predictions(model, loader):\n",
        "    \"\"\"Generate predictions and calculate metrics\"\"\"\n",
        "    model.eval()\n",
        "    device = torch.device(\"cuda\" if torch.cuda.is_available() else \"cpu\")\n",
        "\n",
        "    all_predictions = []\n",
        "    all_targets = []\n",
        "\n",
        "    with torch.no_grad():\n",
        "        for inputs, targets in loader:\n",
        "            inputs = inputs.to(device)\n",
        "            outputs = model(inputs)\n",
        "            all_predictions.extend(outputs.cpu().numpy())\n",
        "            all_targets.extend(targets.cpu().numpy())\n",
        "\n",
        "    predictions = np.array(all_predictions)\n",
        "    targets = np.array(all_targets)\n",
        "\n",
        "\n",
        "    # Calculate metrics\n",
        "    mae = mean_absolute_error(targets, predictions)\n",
        "\n",
        "    return predictions, targets, mae\n",
        "\n",
        "def plot_predictions(val_pred, val_true):\n",
        "    \"\"\"Plot the predictions against actual values\"\"\"\n",
        "    plt.figure(figsize=(15, 6))\n",
        "\n",
        "\n",
        "    # Plot validation data\n",
        "    offset = len(val_true)\n",
        "    plt.plot(range(offset, offset + len(val_true)), val_true, 'b-', label='Validation Actual')\n",
        "    plt.plot(range(offset, offset + len(val_pred)), val_pred, 'r-', label='Validation Predicted')\n",
        "\n",
        "\n",
        "\n",
        "    plt.title('Time Series Prediction vs Actual')\n",
        "    plt.xlabel('Time Step')\n",
        "    plt.ylabel('Value')\n",
        "    plt.legend()\n",
        "    plt.grid(True)\n",
        "    plt.show()\n",
        "\n",
        "# After training your model:\n",
        "# Generate predictions\n",
        "val_predictions, val_targets, val_mae = evaluate_predictions(model, val_loader)\n",
        "\n",
        "# Print metrics\n",
        "print(f\"Validation MAE: {val_mae:.4f}\")\n",
        "\n",
        "# Plot results\n",
        "plot_predictions(val_predictions, val_targets)\n"
      ],
      "metadata": {
        "colab": {
          "base_uri": "https://localhost:8080/",
          "height": 367
        },
        "id": "ncF3-xXIP8CZ",
        "outputId": "c65f6567-ebb1-4b8e-8ff5-cc1ec907090e"
      },
      "execution_count": 105,
      "outputs": [
        {
          "output_type": "stream",
          "name": "stdout",
          "text": [
            "Validation MAE: 0.2135\n"
          ]
        },
        {
          "output_type": "display_data",
          "data": {
            "text/plain": [
              "<Figure size 1500x600 with 1 Axes>"
            ],
            "image/png": "[encoded data removed]"
          },
          "metadata": {}
        }
      ]
    }
  ]
}